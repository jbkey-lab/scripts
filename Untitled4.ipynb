{
 "cells": [
  {
   "cell_type": "code",
   "execution_count": 5,
   "metadata": {},
   "outputs": [
    {
     "ename": "ERROR",
     "evalue": "Error in library(tidyverse): there is no package called ‘tidyverse’\n",
     "output_type": "error",
     "traceback": [
      "Error in library(tidyverse): there is no package called ‘tidyverse’\nTraceback:\n",
      "1. source(\"/media/jacoblamkey/Storage/scripts/jigsaw.R\")",
      "2. withVisible(eval(ei, envir))",
      "3. eval(ei, envir)",
      "4. eval(ei, envir)",
      "5. library(tidyverse)",
      "6. stop(txt, domain = NA)"
     ]
    }
   ],
   "source": [
    "source(\"/media/jacoblamkey/Storage/scripts/jigsaw.R\")\n",
    "\n",
    "datasets = paramTuning(worddim = 60, word_len=90000, epochs = 5, \n",
    "                    samplep = 0.7, batch = 128,seed=8041, embeddingGlove=T, dataloc = \"ubuntu\")\n",
    "\n",
    "train = datasets[[1]]\n",
    "validate = datasets[[2]]\n",
    "trainingx2 = datasets[[3]]\n",
    "trainx2 = datasets[[4]]\n",
    "validatex2 = datasets[[5]]\n",
    "test_data = datasets[[6]]\n",
    "train_data = datasets[[7]]\n",
    "embedding = datasets[[8]]\n",
    "x_target = datasets[[9]]\n",
    "y_target = datasets[[10]]\n"
   ]
  },
  {
   "cell_type": "code",
   "execution_count": null,
   "metadata": {},
   "outputs": [
    {
     "name": "stderr",
     "output_type": "stream",
     "text": [
      "Warning message:\n",
      "“dependency ‘mgcv’ is not available”also installing the dependencies ‘colorspace’, ‘sys’, ‘bit’, ‘ps’, ‘rappdirs’, ‘rematch’, ‘farver’, ‘labeling’, ‘munsell’, ‘RColorBrewer’, ‘viridisLite’, ‘askpass’, ‘bit64’, ‘prettyunits’, ‘processx’, ‘highr’, ‘yaml’, ‘xfun’, ‘evaluate’, ‘tinytex’, ‘jquerylib’, ‘backports’, ‘ellipsis’, ‘generics’, ‘assertthat’, ‘blob’, ‘DBI’, ‘lifecycle’, ‘R6’, ‘tidyselect’, ‘vctrs’, ‘withr’, ‘glue’, ‘gargle’, ‘cellranger’, ‘curl’, ‘ids’, ‘rematch2’, ‘gtable’, ‘isoband’, ‘MASS’, ‘scales’, ‘cpp11’, ‘pkgconfig’, ‘mime’, ‘openssl’, ‘fansi’, ‘utf8’, ‘clipr’, ‘vroom’, ‘tzdb’, ‘progress’, ‘callr’, ‘fs’, ‘knitr’, ‘rmarkdown’, ‘selectr’, ‘broom’, ‘cli’, ‘crayon’, ‘dbplyr’, ‘dplyr’, ‘dtplyr’, ‘forcats’, ‘googledrive’, ‘googlesheets4’, ‘ggplot2’, ‘haven’, ‘hms’, ‘httr’, ‘jsonlite’, ‘lubridate’, ‘modelr’, ‘pillar’, ‘purrr’, ‘readr’, ‘readxl’, ‘reprex’, ‘rlang’, ‘rstudioapi’, ‘rvest’, ‘stringr’, ‘tibble’, ‘tidyr’, ‘xml2’, ‘gtools’, ‘lattice’\n",
      "\n"
     ]
    }
   ],
   "source": [
    "install.packages(c(\"tidyverse\",\"data.table\",\"qdapRegex\",\"gdata\",\"Matrix\",\"magrittr\",\"ModelMetrics\"))"
   ]
  },
  {
   "cell_type": "code",
   "execution_count": null,
   "metadata": {},
   "outputs": [],
   "source": []
  }
 ],
 "metadata": {
  "kernelspec": {
   "display_name": "R",
   "language": "R",
   "name": "ir"
  },
  "language_info": {
   "codemirror_mode": "r",
   "file_extension": ".r",
   "mimetype": "text/x-r-source",
   "name": "R",
   "pygments_lexer": "r",
   "version": "3.5.1"
  }
 },
 "nbformat": 4,
 "nbformat_minor": 2
}
