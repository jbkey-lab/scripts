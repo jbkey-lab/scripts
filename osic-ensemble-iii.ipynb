{
 "cells": [
  {
   "cell_type": "markdown",
   "metadata": {},
   "source": [
    "# Intro\n",
    "\n",
    "\n",
    "#### This is a *work in progress*. Please <span style='color:#0a0'>upvote</span> the kernel to keep this going.\n",
    "\n",
    "I have tried several public notebooks to find the best way for ensemble. Until now, this was the best outcome.\n",
    "\n",
    "- The first notebook: https://www.kaggle.com/thebigd8ta/higher-lb-score-by-tuning-mloss-upgrade-1696e2\n",
    "- The second notebook: https://www.kaggle.com/zhangxianjue/train-age?scriptVersionId=43259472\n",
    "\n",
    "Note1: It is important to blend the best of each notebook. So I selected the best version of each notebook.\n",
    "\n",
    "Note2: I will not be upgrading the code until the end of competition.\n"
   ]
  },
  {
   "cell_type": "markdown",
   "metadata": {},
   "source": [
    "## Ensemble learning\n",
    "\n",
    "Ensemble learning is the process by which multiple models, such as classifiers or experts, are strategically generated and combined to solve a particular computational intelligence problem. Ensemble learning is primarily used to improve the (classification, prediction, function approximation, etc.)\n",
    "\n",
    "he motivation for using ensemble models is to reduce the generalization error of the prediction. As long as the base models are diverse and independent, the prediction error of the model decreases when the ensemble approach is used. The approach seeks the wisdom of crowds in making a prediction. Even though the ensemble model has multiple base models within the model, it acts and performs as a single model. Most of the practical data mining solutions utilize ensemble modeling techniques. \n",
    "\n",
    "![ens](https://cdn-images-1.medium.com/max/1000/0*sOtXk_8ZftGGU00_.png)"
   ]
  },
  {
   "cell_type": "markdown",
   "metadata": {},
   "source": [
    "# Notebook 1"
   ]
  },
  {
   "cell_type": "markdown",
   "metadata": {},
   "source": [
    "https://www.kaggle.com/thebigd8ta/higher-lb-score-by-tuning-mloss-upgrade-1696e2"
   ]
  },
  {
   "cell_type": "code",
   "execution_count": 106,
   "metadata": {
    "_kg_hide-output": true,
    "execution": {
     "iopub.execute_input": "2020-09-12T12:28:08.360355Z",
     "iopub.status.busy": "2020-09-12T12:28:08.359543Z",
     "iopub.status.idle": "2020-09-12T12:28:27.81399Z",
     "shell.execute_reply": "2020-09-12T12:28:27.813344Z"
    },
    "papermill": {
     "duration": 19.522356,
     "end_time": "2020-09-12T12:28:27.814105",
     "exception": false,
     "start_time": "2020-09-12T12:28:08.291749",
     "status": "completed"
    },
    "tags": []
   },
   "outputs": [],
   "source": [
    "#!pip install /home/jacoblamkey/Downloads/kerasapplications/keras-team-keras-applications-3b180cb -f ./ --no-index\n",
    "#!pip install /home/jacoblamkey/Downloads/efficientnet/efficientnet-1.1.0/ -f ./ --no-index\n"
   ]
  },
  {
   "cell_type": "code",
   "execution_count": 3,
   "metadata": {
    "_kg_hide-input": true,
    "_kg_hide-output": true,
    "execution": {
     "iopub.execute_input": "2020-09-12T12:28:27.960634Z",
     "iopub.status.busy": "2020-09-12T12:28:27.957808Z",
     "iopub.status.idle": "2020-09-12T12:28:34.721077Z",
     "shell.execute_reply": "2020-09-12T12:28:34.722146Z"
    },
    "papermill": {
     "duration": 6.839874,
     "end_time": "2020-09-12T12:28:34.722363",
     "exception": false,
     "start_time": "2020-09-12T12:28:27.882489",
     "status": "completed"
    },
    "tags": []
   },
   "outputs": [],
   "source": [
    "import os\n",
    "#import cv2\n",
    "import pydicom\n",
    "import pandas as pd\n",
    "import numpy as np \n",
    "import tensorflow as tf \n",
    "import matplotlib.pyplot as plt \n",
    "import random\n",
    "from tqdm.notebook import tqdm \n",
    "from sklearn.model_selection import train_test_split, KFold\n",
    "from sklearn.metrics import mean_absolute_error\n",
    "from tensorflow_addons.optimizers import RectifiedAdam\n",
    "from tensorflow.keras import Model\n",
    "import tensorflow.keras.backend as K\n",
    "import tensorflow.keras.layers as L\n",
    "import tensorflow.keras.models as M\n",
    "from tensorflow.keras.optimizers import Nadam\n",
    "import seaborn as sns\n",
    "import plotly.express as px\n",
    "import plotly.graph_objects as go\n",
    "from PIL import Image"
   ]
  },
  {
   "cell_type": "code",
   "execution_count": 4,
   "metadata": {
    "execution": {
     "iopub.execute_input": "2020-09-12T12:28:34.940269Z",
     "iopub.status.busy": "2020-09-12T12:28:34.939422Z",
     "iopub.status.idle": "2020-09-12T12:28:34.946161Z",
     "shell.execute_reply": "2020-09-12T12:28:34.947474Z"
    },
    "papermill": {
     "duration": 0.127971,
     "end_time": "2020-09-12T12:28:34.947709",
     "exception": false,
     "start_time": "2020-09-12T12:28:34.819738",
     "status": "completed"
    },
    "tags": []
   },
   "outputs": [],
   "source": [
    "def seed_everything(seed=2020):\n",
    "    random.seed(seed)\n",
    "    os.environ['PYTHONHASHSEED'] = str(seed)\n",
    "    np.random.seed(seed)\n",
    "    tf.random.set_seed(seed)"
   ]
  },
  {
   "cell_type": "code",
   "execution_count": 5,
   "metadata": {
    "execution": {
     "iopub.execute_input": "2020-09-12T12:28:35.14144Z",
     "iopub.status.busy": "2020-09-12T12:28:35.140548Z",
     "iopub.status.idle": "2020-09-12T12:28:35.144493Z",
     "shell.execute_reply": "2020-09-12T12:28:35.145146Z"
    },
    "papermill": {
     "duration": 0.103193,
     "end_time": "2020-09-12T12:28:35.145352",
     "exception": false,
     "start_time": "2020-09-12T12:28:35.042159",
     "status": "completed"
    },
    "tags": []
   },
   "outputs": [],
   "source": [
    "seed_everything(42)"
   ]
  },
  {
   "cell_type": "code",
   "execution_count": 6,
   "metadata": {
    "_kg_hide-input": true,
    "_kg_hide-output": true,
    "execution": {
     "iopub.execute_input": "2020-09-12T12:28:35.320974Z",
     "iopub.status.busy": "2020-09-12T12:28:35.320095Z",
     "iopub.status.idle": "2020-09-12T12:28:38.080919Z",
     "shell.execute_reply": "2020-09-12T12:28:38.08143Z"
    },
    "papermill": {
     "duration": 2.859578,
     "end_time": "2020-09-12T12:28:38.081578",
     "exception": false,
     "start_time": "2020-09-12T12:28:35.222",
     "status": "completed"
    },
    "tags": []
   },
   "outputs": [
    {
     "name": "stdout",
     "output_type": "stream",
     "text": [
      "INFO:tensorflow:Using MirroredStrategy with devices ('/job:localhost/replica:0/task:0/device:GPU:0', '/job:localhost/replica:0/task:0/device:GPU:1')\n",
      "Number of devices: 2\n"
     ]
    }
   ],
   "source": [
    "config = tf.compat.v1.ConfigProto()\n",
    "config.gpu_options.allow_growth = True\n",
    "session = tf.compat.v1.Session(config=config)\n",
    "strategy = tf.distribute.MirroredStrategy()\n",
    "print('Number of devices: {}'.format(strategy.num_replicas_in_sync))\n",
    "#BATCH_SIZE = BATCH_SIZE*strategy.num_replicas_in_sync"
   ]
  },
  {
   "cell_type": "markdown",
   "metadata": {
    "papermill": {
     "duration": 0.068158,
     "end_time": "2020-09-12T12:28:38.355887",
     "exception": false,
     "start_time": "2020-09-12T12:28:38.287729",
     "status": "completed"
    },
    "tags": []
   },
   "source": [
    "## 2.1. Commit now <a class=\"anchor\" id=\"2.1\"></a>\n",
    "\n",
    "[Back to Table of Contents](#0.1)"
   ]
  },
  {
   "cell_type": "code",
   "execution_count": 7,
   "metadata": {
    "execution": {
     "iopub.execute_input": "2020-09-12T12:28:38.499683Z",
     "iopub.status.busy": "2020-09-12T12:28:38.497886Z",
     "iopub.status.idle": "2020-09-12T12:28:38.500403Z",
     "shell.execute_reply": "2020-09-12T12:28:38.500885Z"
    },
    "papermill": {
     "duration": 0.078124,
     "end_time": "2020-09-12T12:28:38.501006",
     "exception": false,
     "start_time": "2020-09-12T12:28:38.422882",
     "status": "completed"
    },
    "tags": []
   },
   "outputs": [],
   "source": [
    "Dropout_model = 0.3856\n",
    "FVC_weight = 0.2\n",
    "Confidence_weight = 0.2"
   ]
  },
  {
   "cell_type": "markdown",
   "metadata": {
    "papermill": {
     "duration": 0.071979,
     "end_time": "2020-09-12T12:28:46.198548",
     "exception": false,
     "start_time": "2020-09-12T12:28:46.126569",
     "status": "completed"
    },
    "tags": []
   },
   "source": [
    "## 3. Download data, auxiliary functions and model tuning <a class=\"anchor\" id=\"3\"></a>\n",
    "\n",
    "[Back to Table of Contents](#0.1)"
   ]
  },
  {
   "cell_type": "code",
   "execution_count": 8,
   "metadata": {
    "execution": {
     "iopub.execute_input": "2020-09-12T12:28:46.360068Z",
     "iopub.status.busy": "2020-09-12T12:28:46.3591Z",
     "iopub.status.idle": "2020-09-12T12:28:46.412005Z",
     "shell.execute_reply": "2020-09-12T12:28:46.411281Z"
    },
    "papermill": {
     "duration": 0.140766,
     "end_time": "2020-09-12T12:28:46.41213",
     "exception": false,
     "start_time": "2020-09-12T12:28:46.271364",
     "status": "completed"
    },
    "tags": []
   },
   "outputs": [],
   "source": [
    "train = pd.read_csv('/home/jacoblamkey/Documents/Data/.kaggle/train.csv') "
   ]
  },
  {
   "cell_type": "code",
   "execution_count": 9,
   "metadata": {
    "_kg_hide-input": true,
    "execution": {
     "iopub.execute_input": "2020-09-12T12:28:46.568985Z",
     "iopub.status.busy": "2020-09-12T12:28:46.568196Z",
     "iopub.status.idle": "2020-09-12T12:28:46.572137Z",
     "shell.execute_reply": "2020-09-12T12:28:46.571673Z"
    },
    "papermill": {
     "duration": 0.087464,
     "end_time": "2020-09-12T12:28:46.572243",
     "exception": false,
     "start_time": "2020-09-12T12:28:46.484779",
     "status": "completed"
    },
    "tags": []
   },
   "outputs": [],
   "source": [
    "def get_tab(df):\n",
    "    vector = [(df.Age.values[0] - 30) / 30] \n",
    "    \n",
    "    if df.Sex.values[0] == 'male':\n",
    "       vector.append(0)\n",
    "    else:\n",
    "       vector.append(1)\n",
    "    \n",
    "    if df.SmokingStatus.values[0] == 'Never smoked':\n",
    "        vector.extend([0,0])\n",
    "    elif df.SmokingStatus.values[0] == 'Ex-smoker':\n",
    "        vector.extend([1,1])\n",
    "    elif df.SmokingStatus.values[0] == 'Currently smokes':\n",
    "        vector.extend([0,1])\n",
    "    else:\n",
    "        vector.extend([1,0])\n",
    "    return np.array(vector) "
   ]
  },
  {
   "cell_type": "code",
   "execution_count": 10,
   "metadata": {
    "execution": {
     "iopub.execute_input": "2020-09-12T12:28:46.727139Z",
     "iopub.status.busy": "2020-09-12T12:28:46.726207Z",
     "iopub.status.idle": "2020-09-12T12:28:47.119826Z",
     "shell.execute_reply": "2020-09-12T12:28:47.112652Z"
    },
    "papermill": {
     "duration": 0.475289,
     "end_time": "2020-09-12T12:28:47.119966",
     "exception": false,
     "start_time": "2020-09-12T12:28:46.644677",
     "status": "completed"
    },
    "tags": []
   },
   "outputs": [
    {
     "data": {
      "application/vnd.jupyter.widget-view+json": {
       "model_id": "703e004ca5fc4032abda17da89bd4a2e",
       "version_major": 2,
       "version_minor": 0
      },
      "text/plain": [
       "HBox(children=(HTML(value=''), FloatProgress(value=1.0, bar_style='info', layout=Layout(width='20px'), max=1.0…"
      ]
     },
     "metadata": {},
     "output_type": "display_data"
    },
    {
     "name": "stdout",
     "output_type": "stream",
     "text": [
      "\n"
     ]
    },
    {
     "name": "stderr",
     "output_type": "stream",
     "text": [
      "/home/jacoblamkey/anaconda3/envs/tf/lib/python3.6/site-packages/ipykernel_launcher.py:9: FutureWarning:\n",
      "\n",
      "`rcond` parameter will change to the default of machine precision times ``max(M, N)`` where M and N are the input matrix dimensions.\n",
      "To use the future default and silence this warning we advise to pass `rcond=None`, to keep using the old, explicitly pass `rcond=-1`.\n",
      "\n"
     ]
    }
   ],
   "source": [
    "A = {} \n",
    "TAB = {} \n",
    "P = [] \n",
    "for i, p in tqdm(enumerate(train.Patient.unique())):\n",
    "    sub = train.loc[train.Patient == p, :] \n",
    "    fvc = sub.FVC.values\n",
    "    weeks = sub.Weeks.values\n",
    "    c = np.vstack([weeks, np.ones(len(weeks))]).T\n",
    "    a, b = np.linalg.lstsq(c, fvc)[0]\n",
    "    \n",
    "    A[p] = a\n",
    "    TAB[p] = get_tab(sub)\n",
    "    P.append(p)"
   ]
  },
  {
   "cell_type": "code",
   "execution_count": 11,
   "metadata": {
    "_kg_hide-input": true,
    "execution": {
     "iopub.execute_input": "2020-09-12T12:28:47.282492Z",
     "iopub.status.busy": "2020-09-12T12:28:47.28185Z",
     "iopub.status.idle": "2020-09-12T12:28:47.286202Z",
     "shell.execute_reply": "2020-09-12T12:28:47.285731Z"
    },
    "papermill": {
     "duration": 0.084567,
     "end_time": "2020-09-12T12:28:47.286306",
     "exception": false,
     "start_time": "2020-09-12T12:28:47.201739",
     "status": "completed"
    },
    "tags": []
   },
   "outputs": [],
   "source": [
    "def get_img(path):\n",
    "    d = pydicom.dcmread(path)\n",
    "    return cv2.resize(d.pixel_array / 2**11, (512, 512))"
   ]
  },
  {
   "cell_type": "code",
   "execution_count": 12,
   "metadata": {
    "_kg_hide-input": true,
    "execution": {
     "iopub.execute_input": "2020-09-12T12:28:47.452214Z",
     "iopub.status.busy": "2020-09-12T12:28:47.451276Z",
     "iopub.status.idle": "2020-09-12T12:28:47.454539Z",
     "shell.execute_reply": "2020-09-12T12:28:47.453826Z"
    },
    "papermill": {
     "duration": 0.092521,
     "end_time": "2020-09-12T12:28:47.454652",
     "exception": false,
     "start_time": "2020-09-12T12:28:47.362131",
     "status": "completed"
    },
    "tags": []
   },
   "outputs": [],
   "source": [
    "from tensorflow.keras.utils import Sequence\n",
    "\n",
    "class IGenerator(Sequence):\n",
    "    BAD_ID = ['ID00011637202177653955184', 'ID00052637202186188008618']\n",
    "    def __init__(self, keys, a, tab, batch_size=32):\n",
    "        self.keys = [k for k in keys if k not in self.BAD_ID]\n",
    "        self.a = a\n",
    "        self.tab = tab\n",
    "        self.batch_size = batch_size\n",
    "        \n",
    "        self.train_data = {}\n",
    "        for p in train.Patient.values:\n",
    "            self.train_data[p] = os.listdir(f'../input/osic-pulmonary-fibrosis-progression/train/{p}/')\n",
    "    \n",
    "    def __len__(self):\n",
    "        return 1000\n",
    "    \n",
    "    def __getitem__(self, idx):\n",
    "        x = []\n",
    "        a, tab = [], [] \n",
    "        keys = np.random.choice(self.keys, size = self.batch_size)\n",
    "        for k in keys:\n",
    "            try:\n",
    "                i = np.random.choice(self.train_data[k], size=1)[0]\n",
    "                img = get_img(f'../input/osic-pulmonary-fibrosis-progression/train/{k}/{i}')\n",
    "                x.append(img)\n",
    "                a.append(self.a[k])\n",
    "                tab.append(self.tab[k])\n",
    "            except:\n",
    "                print(k, i)\n",
    "       \n",
    "        x,a,tab = np.array(x), np.array(a), np.array(tab)\n",
    "        x = np.expand_dims(x, axis=-1)\n",
    "        return [x, tab] , a"
   ]
  },
  {
   "cell_type": "code",
   "execution_count": 19,
   "metadata": {
    "execution": {
     "iopub.execute_input": "2020-09-12T12:28:47.626224Z",
     "iopub.status.busy": "2020-09-12T12:28:47.625218Z",
     "iopub.status.idle": "2020-09-12T12:29:48.4691Z",
     "shell.execute_reply": "2020-09-12T12:29:48.469848Z"
    },
    "papermill": {
     "duration": 60.938886,
     "end_time": "2020-09-12T12:29:48.470055",
     "exception": false,
     "start_time": "2020-09-12T12:28:47.531169",
     "status": "completed"
    },
    "tags": []
   },
   "outputs": [
    {
     "ename": "ModuleNotFoundError",
     "evalue": "No module named 'efficientnet.tfkeras'",
     "output_type": "error",
     "traceback": [
      "\u001b[0;31m---------------------------------------------------------------------------\u001b[0m",
      "\u001b[0;31mModuleNotFoundError\u001b[0m                       Traceback (most recent call last)",
      "\u001b[0;32m<ipython-input-19-0f31dc18f14c>\u001b[0m in \u001b[0;36m<module>\u001b[0;34m\u001b[0m\n\u001b[1;32m      3\u001b[0m     \u001b[0mLeakyReLU\u001b[0m\u001b[0;34m,\u001b[0m \u001b[0mConcatenate\u001b[0m\u001b[0;34m\u001b[0m\u001b[0;34m\u001b[0m\u001b[0m\n\u001b[1;32m      4\u001b[0m )\n\u001b[0;32m----> 5\u001b[0;31m \u001b[0;32mimport\u001b[0m \u001b[0mefficientnet\u001b[0m\u001b[0;34m.\u001b[0m\u001b[0mtfkeras\u001b[0m \u001b[0;32mas\u001b[0m \u001b[0mefn\u001b[0m\u001b[0;34m\u001b[0m\u001b[0;34m\u001b[0m\u001b[0m\n\u001b[0m\u001b[1;32m      6\u001b[0m \u001b[0;34m\u001b[0m\u001b[0m\n\u001b[1;32m      7\u001b[0m \u001b[0;32mdef\u001b[0m \u001b[0mget_efficientnet\u001b[0m\u001b[0;34m(\u001b[0m\u001b[0mmodel\u001b[0m\u001b[0;34m,\u001b[0m \u001b[0mshape\u001b[0m\u001b[0;34m)\u001b[0m\u001b[0;34m:\u001b[0m\u001b[0;34m\u001b[0m\u001b[0;34m\u001b[0m\u001b[0m\n",
      "\u001b[0;31mModuleNotFoundError\u001b[0m: No module named 'efficientnet.tfkeras'"
     ]
    }
   ],
   "source": [
    "from tensorflow.keras.layers import (\n",
    "    Dense, Dropout, Activation, Flatten, Input, BatchNormalization, GlobalAveragePooling2D, Add, Conv2D, AveragePooling2D, \n",
    "    LeakyReLU, Concatenate \n",
    ")\n",
    "import efficientnet.tfkeras as efn\n",
    "\n",
    "def get_efficientnet(model, shape):\n",
    "    models_dict = {\n",
    "        'b0': efn.EfficientNetB0(input_shape=shape,weights=None,include_top=False),\n",
    "        'b1': efn.EfficientNetB1(input_shape=shape,weights=None,include_top=False),\n",
    "        'b2': efn.EfficientNetB2(input_shape=shape,weights=None,include_top=False),\n",
    "        'b3': efn.EfficientNetB3(input_shape=shape,weights=None,include_top=False),\n",
    "        'b4': efn.EfficientNetB4(input_shape=shape,weights=None,include_top=False),\n",
    "        'b5': efn.EfficientNetB5(input_shape=shape,weights=None,include_top=False),\n",
    "        'b6': efn.EfficientNetB6(input_shape=shape,weights=None,include_top=False),\n",
    "        'b7': efn.EfficientNetB7(input_shape=shape,weights=None,include_top=False)\n",
    "    }\n",
    "    return models_dict[model]\n",
    "\n",
    "def build_model(shape=(512, 512, 1), model_class=None):\n",
    "    inp = Input(shape=shape)\n",
    "    base = get_efficientnet(model_class, shape)\n",
    "    x = base(inp)\n",
    "    x = GlobalAveragePooling2D()(x)\n",
    "    inp2 = Input(shape=(4,))\n",
    "    x2 = tf.keras.layers.GaussianNoise(0.2)(inp2)\n",
    "    x = Concatenate()([x, x2]) \n",
    "    x = Dropout(Dropout_model)(x)\n",
    "    x = Dense(1)(x)\n",
    "    model = Model([inp, inp2] , x)\n",
    "    \n",
    "    weights = [w for w in os.listdir('/home/jacoblamkey/Downloads/osic-model-weights') if model_class in w][0]\n",
    "    model.load_weights('/home/jacoblamkey/Downloads/osic-model-weights/' + weights)\n",
    "    return model\n",
    "\n",
    "model_classes = ['b5'] #['b0','b1','b2','b3',b4','b5','b6','b7']\n",
    "with strategy.scope():\n",
    "    models = [build_model(shape=(512, 512, 1), model_class=m) for m in model_classes]\n",
    "print('Number of models: ' + str(len(models)))"
   ]
  },
  {
   "cell_type": "code",
   "execution_count": 118,
   "metadata": {
    "execution": {
     "iopub.execute_input": "2020-09-12T12:29:48.630722Z",
     "iopub.status.busy": "2020-09-12T12:29:48.628863Z",
     "iopub.status.idle": "2020-09-12T12:29:48.631432Z",
     "shell.execute_reply": "2020-09-12T12:29:48.631934Z"
    },
    "papermill": {
     "duration": 0.085723,
     "end_time": "2020-09-12T12:29:48.632064",
     "exception": false,
     "start_time": "2020-09-12T12:29:48.546341",
     "status": "completed"
    },
    "tags": []
   },
   "outputs": [],
   "source": [
    "tr_p, vl_p = train_test_split(P, shuffle=True, train_size = 0.9) "
   ]
  },
  {
   "cell_type": "code",
   "execution_count": 119,
   "metadata": {
    "_kg_hide-input": true,
    "execution": {
     "iopub.execute_input": "2020-09-12T12:29:48.792372Z",
     "iopub.status.busy": "2020-09-12T12:29:48.791575Z",
     "iopub.status.idle": "2020-09-12T12:29:48.794068Z",
     "shell.execute_reply": "2020-09-12T12:29:48.794556Z"
    },
    "papermill": {
     "duration": 0.085692,
     "end_time": "2020-09-12T12:29:48.794686",
     "exception": false,
     "start_time": "2020-09-12T12:29:48.708994",
     "status": "completed"
    },
    "tags": []
   },
   "outputs": [],
   "source": [
    "def score(fvc_true, fvc_pred, sigma):\n",
    "    sigma_clip = np.maximum(sigma, 69) # changed from 70, trie 66.7 too\n",
    "    delta = np.abs(fvc_true - fvc_pred)\n",
    "    delta = np.minimum(delta, 1000)\n",
    "    sq2 = np.sqrt(2)\n",
    "    metric = (delta / sigma_clip)*sq2 + np.log(sigma_clip* sq2)\n",
    "    return np.mean(metric)"
   ]
  },
  {
   "cell_type": "code",
   "execution_count": 120,
   "metadata": {
    "execution": {
     "iopub.execute_input": "2020-09-12T12:29:48.97801Z",
     "iopub.status.busy": "2020-09-12T12:29:48.970454Z",
     "iopub.status.idle": "2020-09-12T12:47:51.95426Z",
     "shell.execute_reply": "2020-09-12T12:47:51.953478Z"
    },
    "papermill": {
     "duration": 1083.083415,
     "end_time": "2020-09-12T12:47:51.954404",
     "exception": false,
     "start_time": "2020-09-12T12:29:48.870989",
     "status": "completed"
    },
    "tags": []
   },
   "outputs": [
    {
     "data": {
      "application/vnd.jupyter.widget-view+json": {
       "model_id": "b3243dd1b18b49dd98ad9a3e48db8c8f",
       "version_major": 2,
       "version_minor": 0
      },
      "text/plain": [
       "HBox(children=(FloatProgress(value=0.0, max=9.0), HTML(value='')))"
      ]
     },
     "metadata": {},
     "output_type": "display_data"
    },
    {
     "name": "stdout",
     "output_type": "stream",
     "text": [
      "6.814128338064982\n",
      "6.814125836771655\n",
      "6.814117087408743\n",
      "6.814105526793441\n",
      "6.814098527800782\n",
      "6.814074326512993\n",
      "6.814046163160725\n",
      "6.814012621137156\n",
      "6.814025357869171\n",
      "\n"
     ]
    }
   ],
   "source": [
    "subs = []\n",
    "for model in models:\n",
    "    metric = []\n",
    "    for q in tqdm(range(1, 10)):\n",
    "        m = []\n",
    "        for p in vl_p:\n",
    "            x = [] \n",
    "            tab = [] \n",
    "\n",
    "            if p in ['ID00011637202177653955184', 'ID00052637202186188008618']:\n",
    "                continue\n",
    "\n",
    "            ldir = os.listdir(f'/home/jacoblamkey/Documents/Data/.kaggle/train/{p}/')\n",
    "            for i in ldir:\n",
    "                if int(i[:-4]) / len(ldir) < 0.8 and int(i[:-4]) / len(ldir) > 0.15:\n",
    "                    x.append(get_img(f'/home/jacoblamkey/Documents/Data/.kaggle/train/{p}/{i}')) \n",
    "                    tab.append(get_tab(train.loc[train.Patient == p, :])) \n",
    "            if len(x) < 1:\n",
    "                continue\n",
    "            tab = np.array(tab) \n",
    "\n",
    "            x = np.expand_dims(x, axis=-1) \n",
    "            _a = model.predict([x, tab]) \n",
    "            a = np.quantile(_a, q / 10)\n",
    "\n",
    "            percent_true = train.Percent.values[train.Patient == p]\n",
    "            fvc_true = train.FVC.values[train.Patient == p]\n",
    "            weeks_true = train.Weeks.values[train.Patient == p]\n",
    "\n",
    "            fvc = a * (weeks_true - weeks_true[0]) + fvc_true[0]\n",
    "            percent = percent_true[0] - a * abs(weeks_true - weeks_true[0])\n",
    "            m.append(score(fvc_true, fvc, percent))\n",
    "        print(np.mean(m))\n",
    "        metric.append(np.mean(m))\n",
    "\n",
    "    q = (np.argmin(metric) + 1)/ 10\n",
    "\n",
    "    sub = pd.read_csv('/home/jacoblamkey/Documents/Data/.kaggle/sample_submission.csv') \n",
    "    test = pd.read_csv('/home/jacoblamkey/Documents/Data/.kaggle/test.csv') \n",
    "    A_test, B_test, P_test,W, FVC= {}, {}, {},{},{} \n",
    "    STD, WEEK = {}, {} \n",
    "    for p in test.Patient.unique():\n",
    "        x = [] \n",
    "        tab = [] \n",
    "        ldir = os.listdir(f'/home/jacoblamkey/Documents/Data/.kaggle/test/{p}/')\n",
    "        for i in ldir:\n",
    "            if int(i[:-4]) / len(ldir) < 0.8 and int(i[:-4]) / len(ldir) > 0.15:\n",
    "                x.append(get_img(f'/home/jacoblamkey/Documents/Data/.kaggle/test/{p}/{i}')) \n",
    "                tab.append(get_tab(test.loc[test.Patient == p, :])) \n",
    "        if len(x) <= 1:\n",
    "            continue\n",
    "        tab = np.array(tab) \n",
    "\n",
    "        x = np.expand_dims(x, axis=-1) \n",
    "        _a = model.predict([x, tab]) \n",
    "        a = np.quantile(_a, q)\n",
    "        A_test[p] = a\n",
    "        B_test[p] = test.FVC.values[test.Patient == p] - a*test.Weeks.values[test.Patient == p]\n",
    "        P_test[p] = test.Percent.values[test.Patient == p] \n",
    "        WEEK[p] = test.Weeks.values[test.Patient == p]\n",
    "\n",
    "    for k in sub.Patient_Week.values:\n",
    "        p, w = k.split('_')\n",
    "        w = int(w) \n",
    "\n",
    "        fvc = A_test[p] * w + B_test[p]\n",
    "        sub.loc[sub.Patient_Week == k, 'FVC'] = fvc\n",
    "        sub.loc[sub.Patient_Week == k, 'Confidence'] = (\n",
    "            P_test[p] - A_test[p] * abs(WEEK[p] - w) \n",
    "    ) \n",
    "\n",
    "    _sub = sub[[\"Patient_Week\",\"FVC\",\"Confidence\"]].copy()\n",
    "    subs.append(_sub)"
   ]
  },
  {
   "cell_type": "code",
   "execution_count": null,
   "metadata": {},
   "outputs": [],
   "source": []
  },
  {
   "cell_type": "markdown",
   "metadata": {
    "papermill": {
     "duration": 0.079863,
     "end_time": "2020-09-12T12:47:52.114959",
     "exception": false,
     "start_time": "2020-09-12T12:47:52.035096",
     "status": "completed"
    },
    "tags": []
   },
   "source": [
    "## 4. Prediction and submission <a class=\"anchor\" id=\"4\"></a>\n",
    "\n",
    "[Back to Table of Contents](#0.1)"
   ]
  },
  {
   "cell_type": "markdown",
   "metadata": {
    "papermill": {
     "duration": 0.080678,
     "end_time": "2020-09-12T12:47:52.276161",
     "exception": false,
     "start_time": "2020-09-12T12:47:52.195483",
     "status": "completed"
    },
    "tags": []
   },
   "source": [
    "## 4.1 Average prediction <a class=\"anchor\" id=\"4.1\"></a>\n",
    "\n",
    "[Back to Table of Contents](#0.1)"
   ]
  },
  {
   "cell_type": "code",
   "execution_count": 121,
   "metadata": {
    "execution": {
     "iopub.execute_input": "2020-09-12T12:47:52.448178Z",
     "iopub.status.busy": "2020-09-12T12:47:52.44721Z",
     "iopub.status.idle": "2020-09-12T12:47:52.467146Z",
     "shell.execute_reply": "2020-09-12T12:47:52.466194Z"
    },
    "papermill": {
     "duration": 0.109202,
     "end_time": "2020-09-12T12:47:52.467252",
     "exception": false,
     "start_time": "2020-09-12T12:47:52.35805",
     "status": "completed"
    },
    "tags": []
   },
   "outputs": [],
   "source": [
    "N = len(subs)\n",
    "sub = subs[0].copy() # ref\n",
    "sub[\"FVC\"] = 0\n",
    "sub[\"Confidence\"] = 0\n",
    "for i in range(N):\n",
    "    sub[\"FVC\"] += subs[0][\"FVC\"] * (1/N)\n",
    "    sub[\"Confidence\"] += subs[0][\"Confidence\"] * (1/N)"
   ]
  },
  {
   "cell_type": "code",
   "execution_count": 122,
   "metadata": {
    "execution": {
     "iopub.execute_input": "2020-09-12T12:47:52.641614Z",
     "iopub.status.busy": "2020-09-12T12:47:52.639966Z",
     "iopub.status.idle": "2020-09-12T12:47:52.644367Z",
     "shell.execute_reply": "2020-09-12T12:47:52.644941Z"
    },
    "papermill": {
     "duration": 0.097753,
     "end_time": "2020-09-12T12:47:52.645073",
     "exception": false,
     "start_time": "2020-09-12T12:47:52.54732",
     "status": "completed"
    },
    "tags": []
   },
   "outputs": [
    {
     "data": {
      "text/html": [
       "<div>\n",
       "<style scoped>\n",
       "    .dataframe tbody tr th:only-of-type {\n",
       "        vertical-align: middle;\n",
       "    }\n",
       "\n",
       "    .dataframe tbody tr th {\n",
       "        vertical-align: top;\n",
       "    }\n",
       "\n",
       "    .dataframe thead th {\n",
       "        text-align: right;\n",
       "    }\n",
       "</style>\n",
       "<table border=\"1\" class=\"dataframe\">\n",
       "  <thead>\n",
       "    <tr style=\"text-align: right;\">\n",
       "      <th></th>\n",
       "      <th>Patient_Week</th>\n",
       "      <th>FVC</th>\n",
       "      <th>Confidence</th>\n",
       "    </tr>\n",
       "  </thead>\n",
       "  <tbody>\n",
       "    <tr>\n",
       "      <th>0</th>\n",
       "      <td>ID00419637202311204720264_-12</td>\n",
       "      <td>3092.863664</td>\n",
       "      <td>143.050520</td>\n",
       "    </tr>\n",
       "    <tr>\n",
       "      <th>1</th>\n",
       "      <td>ID00421637202311550012437_-12</td>\n",
       "      <td>2847.459621</td>\n",
       "      <td>190.504912</td>\n",
       "    </tr>\n",
       "    <tr>\n",
       "      <th>2</th>\n",
       "      <td>ID00422637202311677017371_-12</td>\n",
       "      <td>2002.654819</td>\n",
       "      <td>149.327313</td>\n",
       "    </tr>\n",
       "    <tr>\n",
       "      <th>3</th>\n",
       "      <td>ID00423637202312137826377_-12</td>\n",
       "      <td>3410.692459</td>\n",
       "      <td>195.951362</td>\n",
       "    </tr>\n",
       "    <tr>\n",
       "      <th>4</th>\n",
       "      <td>ID00426637202313170790466_-12</td>\n",
       "      <td>2971.430485</td>\n",
       "      <td>118.255453</td>\n",
       "    </tr>\n",
       "  </tbody>\n",
       "</table>\n",
       "</div>"
      ],
      "text/plain": [
       "                    Patient_Week          FVC  Confidence\n",
       "0  ID00419637202311204720264_-12  3092.863664  143.050520\n",
       "1  ID00421637202311550012437_-12  2847.459621  190.504912\n",
       "2  ID00422637202311677017371_-12  2002.654819  149.327313\n",
       "3  ID00423637202312137826377_-12  3410.692459  195.951362\n",
       "4  ID00426637202313170790466_-12  2971.430485  118.255453"
      ]
     },
     "execution_count": 122,
     "metadata": {},
     "output_type": "execute_result"
    }
   ],
   "source": [
    "sub.head()"
   ]
  },
  {
   "cell_type": "code",
   "execution_count": 123,
   "metadata": {
    "execution": {
     "iopub.execute_input": "2020-09-12T12:47:52.823739Z",
     "iopub.status.busy": "2020-09-12T12:47:52.822874Z",
     "iopub.status.idle": "2020-09-12T12:47:52.920526Z",
     "shell.execute_reply": "2020-09-12T12:47:52.919526Z"
    },
    "papermill": {
     "duration": 0.184393,
     "end_time": "2020-09-12T12:47:52.92065",
     "exception": false,
     "start_time": "2020-09-12T12:47:52.736257",
     "status": "completed"
    },
    "tags": []
   },
   "outputs": [],
   "source": [
    "sub[[\"Patient_Week\",\"FVC\",\"Confidence\"]].to_csv(\"submission_img.csv\", index=False)"
   ]
  },
  {
   "cell_type": "code",
   "execution_count": 124,
   "metadata": {
    "execution": {
     "iopub.execute_input": "2020-09-12T12:47:53.146292Z",
     "iopub.status.busy": "2020-09-12T12:47:53.145444Z",
     "iopub.status.idle": "2020-09-12T12:47:53.15011Z",
     "shell.execute_reply": "2020-09-12T12:47:53.150736Z"
    },
    "papermill": {
     "duration": 0.143125,
     "end_time": "2020-09-12T12:47:53.150908",
     "exception": false,
     "start_time": "2020-09-12T12:47:53.007783",
     "status": "completed"
    },
    "tags": []
   },
   "outputs": [],
   "source": [
    "img_sub = sub[[\"Patient_Week\",\"FVC\",\"Confidence\"]].copy()"
   ]
  },
  {
   "cell_type": "markdown",
   "metadata": {
    "papermill": {
     "duration": 0.125345,
     "end_time": "2020-09-12T12:47:53.389035",
     "exception": false,
     "start_time": "2020-09-12T12:47:53.26369",
     "status": "completed"
    },
    "tags": []
   },
   "source": [
    "## 4.2 Osic-Multiple-Quantile-Regression <a class=\"anchor\" id=\"4.2\"></a>\n",
    "\n",
    "[Back to Table of Contents](#0.1)"
   ]
  },
  {
   "cell_type": "code",
   "execution_count": 125,
   "metadata": {
    "execution": {
     "iopub.execute_input": "2020-09-12T12:47:53.582012Z",
     "iopub.status.busy": "2020-09-12T12:47:53.581146Z",
     "iopub.status.idle": "2020-09-12T12:47:53.624256Z",
     "shell.execute_reply": "2020-09-12T12:47:53.623227Z"
    },
    "papermill": {
     "duration": 0.135762,
     "end_time": "2020-09-12T12:47:53.624364",
     "exception": false,
     "start_time": "2020-09-12T12:47:53.488602",
     "status": "completed"
    },
    "tags": []
   },
   "outputs": [
    {
     "name": "stdout",
     "output_type": "stream",
     "text": [
      "add infos\n"
     ]
    }
   ],
   "source": [
    "ROOT = \"/home/jacoblamkey/Documents/Data/.kaggle\"\n",
    "BATCH_SIZE=128*strategy.num_replicas_in_sync\n",
    "\n",
    "tr = pd.read_csv(f\"{ROOT}/train.csv\")\n",
    "tr.drop_duplicates(keep=False, inplace=True, subset=['Patient','Weeks'])\n",
    "chunk = pd.read_csv(f\"{ROOT}/test.csv\")\n",
    "\n",
    "print(\"add infos\")\n",
    "sub = pd.read_csv(f\"{ROOT}/sample_submission.csv\")\n",
    "sub['Patient'] = sub['Patient_Week'].apply(lambda x:x.split('_')[0])\n",
    "sub['Weeks'] = sub['Patient_Week'].apply(lambda x: int(x.split('_')[-1]))\n",
    "sub =  sub[['Patient','Weeks','Confidence','Patient_Week']]\n",
    "sub = sub.merge(chunk.drop('Weeks', axis=1), on=\"Patient\")"
   ]
  },
  {
   "cell_type": "code",
   "execution_count": 126,
   "metadata": {
    "execution": {
     "iopub.execute_input": "2020-09-12T12:47:53.80252Z",
     "iopub.status.busy": "2020-09-12T12:47:53.795615Z",
     "iopub.status.idle": "2020-09-12T12:47:53.805682Z",
     "shell.execute_reply": "2020-09-12T12:47:53.805122Z"
    },
    "papermill": {
     "duration": 0.100374,
     "end_time": "2020-09-12T12:47:53.805789",
     "exception": false,
     "start_time": "2020-09-12T12:47:53.705415",
     "status": "completed"
    },
    "tags": []
   },
   "outputs": [],
   "source": [
    "tr['WHERE'] = 'train'\n",
    "chunk['WHERE'] = 'val'\n",
    "sub['WHERE'] = 'test'\n",
    "data = tr.append([chunk, sub])"
   ]
  },
  {
   "cell_type": "code",
   "execution_count": 127,
   "metadata": {
    "execution": {
     "iopub.execute_input": "2020-09-12T12:47:53.976303Z",
     "iopub.status.busy": "2020-09-12T12:47:53.975314Z",
     "iopub.status.idle": "2020-09-12T12:47:53.984264Z",
     "shell.execute_reply": "2020-09-12T12:47:53.983643Z"
    },
    "papermill": {
     "duration": 0.096105,
     "end_time": "2020-09-12T12:47:53.984415",
     "exception": false,
     "start_time": "2020-09-12T12:47:53.88831",
     "status": "completed"
    },
    "tags": []
   },
   "outputs": [
    {
     "name": "stdout",
     "output_type": "stream",
     "text": [
      "(1535, 8) (5, 8) (730, 10) (2270, 10)\n",
      "176 5 5 176\n"
     ]
    }
   ],
   "source": [
    "print(tr.shape, chunk.shape, sub.shape, data.shape)\n",
    "print(tr.Patient.nunique(), chunk.Patient.nunique(), sub.Patient.nunique(), \n",
    "      data.Patient.nunique())"
   ]
  },
  {
   "cell_type": "code",
   "execution_count": 128,
   "metadata": {
    "execution": {
     "iopub.execute_input": "2020-09-12T12:47:54.158841Z",
     "iopub.status.busy": "2020-09-12T12:47:54.157615Z",
     "iopub.status.idle": "2020-09-12T12:47:54.172277Z",
     "shell.execute_reply": "2020-09-12T12:47:54.171703Z"
    },
    "papermill": {
     "duration": 0.1056,
     "end_time": "2020-09-12T12:47:54.172419",
     "exception": false,
     "start_time": "2020-09-12T12:47:54.066819",
     "status": "completed"
    },
    "tags": []
   },
   "outputs": [],
   "source": [
    "data['min_week'] = data['Weeks']\n",
    "data.loc[data.WHERE=='test','min_week'] = np.nan\n",
    "data['min_week'] = data.groupby('Patient')['min_week'].transform('min')"
   ]
  },
  {
   "cell_type": "code",
   "execution_count": 129,
   "metadata": {
    "execution": {
     "iopub.execute_input": "2020-09-12T12:47:54.357574Z",
     "iopub.status.busy": "2020-09-12T12:47:54.356829Z",
     "iopub.status.idle": "2020-09-12T12:47:54.35984Z",
     "shell.execute_reply": "2020-09-12T12:47:54.360277Z"
    },
    "papermill": {
     "duration": 0.104379,
     "end_time": "2020-09-12T12:47:54.360467",
     "exception": false,
     "start_time": "2020-09-12T12:47:54.256088",
     "status": "completed"
    },
    "tags": []
   },
   "outputs": [],
   "source": [
    "base = data.loc[data.Weeks == data.min_week]\n",
    "base = base[['Patient','FVC']].copy()\n",
    "base.columns = ['Patient','min_FVC']\n",
    "base['nb'] = 1\n",
    "base['nb'] = base.groupby('Patient')['nb'].transform('cumsum')\n",
    "base = base[base.nb==1]\n",
    "base.drop('nb', axis=1, inplace=True)"
   ]
  },
  {
   "cell_type": "code",
   "execution_count": 130,
   "metadata": {
    "execution": {
     "iopub.execute_input": "2020-09-12T12:47:54.5356Z",
     "iopub.status.busy": "2020-09-12T12:47:54.533543Z",
     "iopub.status.idle": "2020-09-12T12:47:54.544498Z",
     "shell.execute_reply": "2020-09-12T12:47:54.543947Z"
    },
    "papermill": {
     "duration": 0.100549,
     "end_time": "2020-09-12T12:47:54.544606",
     "exception": false,
     "start_time": "2020-09-12T12:47:54.444057",
     "status": "completed"
    },
    "tags": []
   },
   "outputs": [],
   "source": [
    "data = data.merge(base, on='Patient', how='left')\n",
    "data['base_week'] = data['Weeks'] - data['min_week']\n",
    "del base"
   ]
  },
  {
   "cell_type": "code",
   "execution_count": 131,
   "metadata": {
    "execution": {
     "iopub.execute_input": "2020-09-12T12:47:54.718512Z",
     "iopub.status.busy": "2020-09-12T12:47:54.717571Z",
     "iopub.status.idle": "2020-09-12T12:47:54.724901Z",
     "shell.execute_reply": "2020-09-12T12:47:54.724326Z"
    },
    "papermill": {
     "duration": 0.098606,
     "end_time": "2020-09-12T12:47:54.725009",
     "exception": false,
     "start_time": "2020-09-12T12:47:54.626403",
     "status": "completed"
    },
    "tags": []
   },
   "outputs": [],
   "source": [
    "COLS = ['Sex','SmokingStatus'] #,'Age'\n",
    "FE = []\n",
    "for col in COLS:\n",
    "    for mod in data[col].unique():\n",
    "        FE.append(mod)\n",
    "        data[mod] = (data[col] == mod).astype(int)"
   ]
  },
  {
   "cell_type": "code",
   "execution_count": 132,
   "metadata": {
    "execution": {
     "iopub.execute_input": "2020-09-12T12:47:54.906857Z",
     "iopub.status.busy": "2020-09-12T12:47:54.905941Z",
     "iopub.status.idle": "2020-09-12T12:47:54.908552Z",
     "shell.execute_reply": "2020-09-12T12:47:54.909026Z"
    },
    "papermill": {
     "duration": 0.101648,
     "end_time": "2020-09-12T12:47:54.909161",
     "exception": false,
     "start_time": "2020-09-12T12:47:54.807513",
     "status": "completed"
    },
    "tags": []
   },
   "outputs": [],
   "source": [
    "#\n",
    "data['age'] = (data['Age'] - data['Age'].min() ) / ( data['Age'].max() - data['Age'].min() )\n",
    "data['BASE'] = (data['min_FVC'] - data['min_FVC'].min() ) / ( data['min_FVC'].max() - data['min_FVC'].min() )\n",
    "data['week'] = (data['base_week'] - data['base_week'].min() ) / ( data['base_week'].max() - data['base_week'].min() )\n",
    "data['percent'] = (data['Percent'] - data['Percent'].min() ) / ( data['Percent'].max() - data['Percent'].min() )\n",
    "FE += ['age','percent','week','BASE']"
   ]
  },
  {
   "cell_type": "code",
   "execution_count": 133,
   "metadata": {
    "execution": {
     "iopub.execute_input": "2020-09-12T12:47:55.087321Z",
     "iopub.status.busy": "2020-09-12T12:47:55.086406Z",
     "iopub.status.idle": "2020-09-12T12:47:55.093187Z",
     "shell.execute_reply": "2020-09-12T12:47:55.093688Z"
    },
    "papermill": {
     "duration": 0.100544,
     "end_time": "2020-09-12T12:47:55.093811",
     "exception": false,
     "start_time": "2020-09-12T12:47:54.993267",
     "status": "completed"
    },
    "tags": []
   },
   "outputs": [],
   "source": [
    "tr = data.loc[data.WHERE=='train']\n",
    "chunk = data.loc[data.WHERE=='val']\n",
    "sub = data.loc[data.WHERE=='test']\n",
    "del data"
   ]
  },
  {
   "cell_type": "code",
   "execution_count": 134,
   "metadata": {
    "execution": {
     "iopub.execute_input": "2020-09-12T12:47:55.266259Z",
     "iopub.status.busy": "2020-09-12T12:47:55.265348Z",
     "iopub.status.idle": "2020-09-12T12:47:55.272003Z",
     "shell.execute_reply": "2020-09-12T12:47:55.271237Z"
    },
    "papermill": {
     "duration": 0.095212,
     "end_time": "2020-09-12T12:47:55.272118",
     "exception": false,
     "start_time": "2020-09-12T12:47:55.176906",
     "status": "completed"
    },
    "tags": []
   },
   "outputs": [
    {
     "data": {
      "text/plain": [
       "((1535, 22), (5, 22), (730, 22))"
      ]
     },
     "execution_count": 134,
     "metadata": {},
     "output_type": "execute_result"
    }
   ],
   "source": [
    "tr.shape, chunk.shape, sub.shape"
   ]
  },
  {
   "cell_type": "markdown",
   "metadata": {
    "papermill": {
     "duration": 0.08543,
     "end_time": "2020-09-12T12:47:55.442154",
     "exception": false,
     "start_time": "2020-09-12T12:47:55.356724",
     "status": "completed"
    },
    "tags": []
   },
   "source": [
    "## 4.3 The change of mloss <a class=\"anchor\" id=\"4.3\"></a>\n",
    "\n",
    "[Back to Table of Contents](#0.1)"
   ]
  },
  {
   "cell_type": "code",
   "execution_count": 135,
   "metadata": {
    "execution": {
     "iopub.execute_input": "2020-09-12T12:47:55.631996Z",
     "iopub.status.busy": "2020-09-12T12:47:55.630132Z",
     "iopub.status.idle": "2020-09-12T12:47:55.632704Z",
     "shell.execute_reply": "2020-09-12T12:47:55.633164Z"
    },
    "papermill": {
     "duration": 0.108573,
     "end_time": "2020-09-12T12:47:55.633289",
     "exception": false,
     "start_time": "2020-09-12T12:47:55.524716",
     "status": "completed"
    },
    "tags": []
   },
   "outputs": [],
   "source": [
    "C1, C2 = tf.constant(70, dtype='float32'), tf.constant(1000, dtype=\"float32\")\n",
    "\n",
    "def score(y_true, y_pred):\n",
    "    tf.dtypes.cast(y_true, tf.float32)\n",
    "    tf.dtypes.cast(y_pred, tf.float32)\n",
    "    sigma = y_pred[:, 2] - y_pred[:, 0]\n",
    "    fvc_pred = y_pred[:, 1]\n",
    "    \n",
    "    #sigma_clip = sigma + C1\n",
    "    sigma_clip = tf.maximum(sigma, C1)\n",
    "    delta = tf.abs(y_true[:, 0] - fvc_pred)\n",
    "    delta = tf.minimum(delta, C2)\n",
    "    sq2 = tf.sqrt( tf.dtypes.cast(2, dtype=tf.float32) )\n",
    "    metric = (delta / sigma_clip)*sq2 + tf.math.log(sigma_clip* sq2)\n",
    "    return K.mean(metric)\n",
    "\n",
    "def qloss(y_true, y_pred):\n",
    "    # Pinball loss for multiple quantiles\n",
    "    qs = [0.2, 0.50, 0.8]\n",
    "    q = tf.constant(np.array([qs]), dtype=tf.float32)\n",
    "    e = y_true - y_pred\n",
    "    v = tf.maximum(q*e, (q-1)*e)\n",
    "    return K.mean(v)\n",
    "\n",
    "def mloss(_lambda):\n",
    "    def loss(y_true, y_pred):\n",
    "        return _lambda * qloss(y_true, y_pred) + (1 - _lambda)*score(y_true, y_pred)\n",
    "    return loss\n",
    "\n",
    "def make_model(nh):\n",
    "    z = L.Input((nh,), name=\"Patient\")\n",
    "    x = L.Dense(100, activation=\"relu\", name=\"d1\")(z)\n",
    "    x = L.Dense(100, activation=\"relu\", name=\"d2\")(x)\n",
    "    p1 = L.Dense(3, activation=\"linear\", name=\"p1\")(x)\n",
    "    p2 = L.Dense(3, activation=\"relu\", name=\"p2\")(x)\n",
    "    preds = L.Lambda(lambda x: x[0] + tf.cumsum(x[1], axis=1), \n",
    "                     name=\"preds\")([p1, p2])\n",
    "    \n",
    "    model = M.Model(z, preds, name=\"CNN\")\n",
    "    model.compile(loss=mloss(0.65), optimizer=tf.keras.optimizers.Adam(lr=0.1, beta_1=0.9, beta_2=0.999, epsilon=None, decay=0.01, amsgrad=False), metrics=[score])\n",
    "    return model"
   ]
  },
  {
   "cell_type": "code",
   "execution_count": 136,
   "metadata": {
    "execution": {
     "iopub.execute_input": "2020-09-12T12:47:55.814234Z",
     "iopub.status.busy": "2020-09-12T12:47:55.813336Z",
     "iopub.status.idle": "2020-09-12T12:47:55.815747Z",
     "shell.execute_reply": "2020-09-12T12:47:55.816322Z"
    },
    "papermill": {
     "duration": 0.097322,
     "end_time": "2020-09-12T12:47:55.81648",
     "exception": false,
     "start_time": "2020-09-12T12:47:55.719158",
     "status": "completed"
    },
    "tags": []
   },
   "outputs": [],
   "source": [
    "y = tr['FVC'].values.astype(np.float32)\n",
    "z = tr[FE].values.astype(np.float32)\n",
    "ze = sub[FE].values.astype(np.float32)\n",
    "nh = z.shape[1]\n",
    "pe = np.zeros((ze.shape[0], 3))\n",
    "pred = np.zeros((z.shape[0], 3))"
   ]
  },
  {
   "cell_type": "code",
   "execution_count": 140,
   "metadata": {
    "execution": {
     "iopub.execute_input": "2020-09-12T12:47:55.99082Z",
     "iopub.status.busy": "2020-09-12T12:47:55.98984Z",
     "iopub.status.idle": "2020-09-12T12:47:56.084726Z",
     "shell.execute_reply": "2020-09-12T12:47:56.08595Z"
    },
    "papermill": {
     "duration": 0.185857,
     "end_time": "2020-09-12T12:47:56.086154",
     "exception": false,
     "start_time": "2020-09-12T12:47:55.900297",
     "status": "completed"
    },
    "tags": []
   },
   "outputs": [
    {
     "name": "stdout",
     "output_type": "stream",
     "text": [
      "Model: \"CNN\"\n",
      "__________________________________________________________________________________________________\n",
      "Layer (type)                    Output Shape         Param #     Connected to                     \n",
      "==================================================================================================\n",
      "Patient (InputLayer)            [(None, 9)]          0                                            \n",
      "__________________________________________________________________________________________________\n",
      "d1 (Dense)                      (None, 100)          1000        Patient[0][0]                    \n",
      "__________________________________________________________________________________________________\n",
      "d2 (Dense)                      (None, 100)          10100       d1[0][0]                         \n",
      "__________________________________________________________________________________________________\n",
      "p1 (Dense)                      (None, 3)            303         d2[0][0]                         \n",
      "__________________________________________________________________________________________________\n",
      "p2 (Dense)                      (None, 3)            303         d2[0][0]                         \n",
      "__________________________________________________________________________________________________\n",
      "preds (Lambda)                  (None, 3)            0           p1[0][0]                         \n",
      "                                                                 p2[0][0]                         \n",
      "==================================================================================================\n",
      "Total params: 11,706\n",
      "Trainable params: 11,706\n",
      "Non-trainable params: 0\n",
      "__________________________________________________________________________________________________\n",
      "None\n",
      "11706\n"
     ]
    }
   ],
   "source": [
    "with strategy.scope():\n",
    "    net = make_model(nh)\n",
    "    \n",
    "print(net.summary())\n",
    "print(net.count_params())"
   ]
  },
  {
   "cell_type": "code",
   "execution_count": 141,
   "metadata": {
    "execution": {
     "iopub.execute_input": "2020-09-12T12:47:56.263315Z",
     "iopub.status.busy": "2020-09-12T12:47:56.262672Z",
     "iopub.status.idle": "2020-09-12T12:47:56.266979Z",
     "shell.execute_reply": "2020-09-12T12:47:56.266371Z"
    },
    "papermill": {
     "duration": 0.093911,
     "end_time": "2020-09-12T12:47:56.267087",
     "exception": false,
     "start_time": "2020-09-12T12:47:56.173176",
     "status": "completed"
    },
    "tags": []
   },
   "outputs": [],
   "source": [
    "NFOLD = 5 # originally 5\n",
    "kf = KFold(n_splits=NFOLD)"
   ]
  },
  {
   "cell_type": "code",
   "execution_count": 142,
   "metadata": {
    "execution": {
     "iopub.execute_input": "2020-09-12T12:47:56.450507Z",
     "iopub.status.busy": "2020-09-12T12:47:56.449843Z",
     "iopub.status.idle": "2020-09-12T12:52:13.239533Z",
     "shell.execute_reply": "2020-09-12T12:52:13.240327Z"
    },
    "papermill": {
     "duration": 256.888527,
     "end_time": "2020-09-12T12:52:13.240506",
     "exception": false,
     "start_time": "2020-09-12T12:47:56.351979",
     "status": "completed"
    },
    "tags": []
   },
   "outputs": [
    {
     "name": "stdout",
     "output_type": "stream",
     "text": [
      "FOLD 1\n",
      "train [34.469669342041016, 6.508659362792969]\n",
      "val [39.76385498046875, 6.867187023162842]\n",
      "predict val...\n",
      "predict test...\n",
      "FOLD 2\n",
      "train [34.077152252197266, 6.518935203552246]\n",
      "val [45.27122116088867, 7.126177787780762]\n",
      "predict val...\n",
      "predict test...\n",
      "FOLD 3\n",
      "train [32.43731689453125, 6.45019006729126]\n",
      "val [45.84264373779297, 6.680820941925049]\n",
      "predict val...\n",
      "predict test...\n",
      "FOLD 4\n",
      "train [33.40378189086914, 6.4816155433654785]\n",
      "val [34.321815490722656, 6.538095474243164]\n",
      "predict val...\n",
      "predict test...\n",
      "FOLD 5\n",
      "train [33.36246109008789, 6.499128818511963]\n",
      "val [43.117977142333984, 6.776651382446289]\n",
      "predict val...\n",
      "predict test...\n",
      "CPU times: user 3min 37s, sys: 22.6 s, total: 4min\n",
      "Wall time: 2min 45s\n"
     ]
    }
   ],
   "source": [
    "%%time\n",
    "cnt = 0\n",
    "EPOCHS = 855\n",
    "for tr_idx, val_idx in kf.split(z):\n",
    "    cnt += 1\n",
    "    print(f\"FOLD {cnt}\")\n",
    "    net = make_model(nh)\n",
    "    net.fit(z[tr_idx], y[tr_idx], batch_size=BATCH_SIZE, epochs=EPOCHS, \n",
    "            validation_data=(z[val_idx], y[val_idx]), verbose=0) #\n",
    "    print(\"train\", net.evaluate(z[tr_idx], y[tr_idx], verbose=0, batch_size=BATCH_SIZE))\n",
    "    print(\"val\", net.evaluate(z[val_idx], y[val_idx], verbose=0, batch_size=BATCH_SIZE))\n",
    "    print(\"predict val...\")\n",
    "    pred[val_idx] = net.predict(z[val_idx], batch_size=BATCH_SIZE, verbose=0)\n",
    "    print(\"predict test...\")\n",
    "    pe += net.predict(ze, batch_size=BATCH_SIZE, verbose=0) / NFOLD"
   ]
  },
  {
   "cell_type": "code",
   "execution_count": 143,
   "metadata": {
    "execution": {
     "iopub.execute_input": "2020-09-12T12:52:13.454301Z",
     "iopub.status.busy": "2020-09-12T12:52:13.453283Z",
     "iopub.status.idle": "2020-09-12T12:52:13.458791Z",
     "shell.execute_reply": "2020-09-12T12:52:13.459529Z"
    },
    "papermill": {
     "duration": 0.121038,
     "end_time": "2020-09-12T12:52:13.459721",
     "exception": false,
     "start_time": "2020-09-12T12:52:13.338683",
     "status": "completed"
    },
    "tags": []
   },
   "outputs": [
    {
     "name": "stdout",
     "output_type": "stream",
     "text": [
      "144.87577329753665 234.2265004310235\n"
     ]
    }
   ],
   "source": [
    "sigma_opt = mean_absolute_error(y, pred[:, 1])\n",
    "unc = pred[:,2] - pred[:, 0]\n",
    "sigma_mean = np.mean(unc)\n",
    "print(sigma_opt, sigma_mean)"
   ]
  },
  {
   "cell_type": "code",
   "execution_count": 144,
   "metadata": {
    "execution": {
     "iopub.execute_input": "2020-09-12T12:52:13.724337Z",
     "iopub.status.busy": "2020-09-12T12:52:13.723447Z",
     "iopub.status.idle": "2020-09-12T12:52:14.111516Z",
     "shell.execute_reply": "2020-09-12T12:52:14.112285Z"
    },
    "papermill": {
     "duration": 0.550892,
     "end_time": "2020-09-12T12:52:14.112508",
     "exception": false,
     "start_time": "2020-09-12T12:52:13.561616",
     "status": "completed"
    },
    "tags": []
   },
   "outputs": [
    {
     "data": {
      "image/png": "[encoded data removed]",
      "text/plain": [
       "<Figure size 432x288 with 1 Axes>"
      ]
     },
     "metadata": {
      "needs_background": "light"
     },
     "output_type": "display_data"
    }
   ],
   "source": [
    "idxs = np.random.randint(0, y.shape[0], 100)\n",
    "plt.plot(y[idxs], label=\"ground truth\")\n",
    "plt.plot(pred[idxs, 0], label=\"q25\")\n",
    "plt.plot(pred[idxs, 1], label=\"q50\")\n",
    "plt.plot(pred[idxs, 2], label=\"q75\")\n",
    "plt.legend(loc=\"best\")\n",
    "plt.show()"
   ]
  },
  {
   "cell_type": "code",
   "execution_count": 145,
   "metadata": {
    "execution": {
     "iopub.execute_input": "2020-09-12T12:52:14.353361Z",
     "iopub.status.busy": "2020-09-12T12:52:14.352235Z",
     "iopub.status.idle": "2020-09-12T12:52:14.358402Z",
     "shell.execute_reply": "2020-09-12T12:52:14.359267Z"
    },
    "papermill": {
     "duration": 0.113133,
     "end_time": "2020-09-12T12:52:14.359466",
     "exception": false,
     "start_time": "2020-09-12T12:52:14.246333",
     "status": "completed"
    },
    "tags": []
   },
   "outputs": [
    {
     "name": "stdout",
     "output_type": "stream",
     "text": [
      "78.26806640625 234.2265004310235 401.40625 1.0\n"
     ]
    }
   ],
   "source": [
    "print(unc.min(), unc.mean(), unc.max(), (unc>=0).mean())"
   ]
  },
  {
   "cell_type": "code",
   "execution_count": 146,
   "metadata": {
    "execution": {
     "iopub.execute_input": "2020-09-12T12:52:14.572232Z",
     "iopub.status.busy": "2020-09-12T12:52:14.57105Z",
     "iopub.status.idle": "2020-09-12T12:52:14.749603Z",
     "shell.execute_reply": "2020-09-12T12:52:14.750167Z"
    },
    "papermill": {
     "duration": 0.292658,
     "end_time": "2020-09-12T12:52:14.750313",
     "exception": false,
     "start_time": "2020-09-12T12:52:14.457655",
     "status": "completed"
    },
    "tags": []
   },
   "outputs": [
    {
     "data": {
      "image/png": "[encoded data removed]",
      "text/plain": [
       "<Figure size 432x288 with 1 Axes>"
      ]
     },
     "metadata": {
      "needs_background": "light"
     },
     "output_type": "display_data"
    }
   ],
   "source": [
    "plt.hist(unc)\n",
    "plt.title(\"uncertainty in prediction\")\n",
    "plt.show()"
   ]
  },
  {
   "cell_type": "code",
   "execution_count": 147,
   "metadata": {
    "execution": {
     "iopub.execute_input": "2020-09-12T12:52:14.985262Z",
     "iopub.status.busy": "2020-09-12T12:52:14.980425Z",
     "iopub.status.idle": "2020-09-12T12:52:15.001873Z",
     "shell.execute_reply": "2020-09-12T12:52:15.002425Z"
    },
    "papermill": {
     "duration": 0.143993,
     "end_time": "2020-09-12T12:52:15.002569",
     "exception": false,
     "start_time": "2020-09-12T12:52:14.858576",
     "status": "completed"
    },
    "tags": []
   },
   "outputs": [
    {
     "data": {
      "text/html": [
       "<div>\n",
       "<style scoped>\n",
       "    .dataframe tbody tr th:only-of-type {\n",
       "        vertical-align: middle;\n",
       "    }\n",
       "\n",
       "    .dataframe tbody tr th {\n",
       "        vertical-align: top;\n",
       "    }\n",
       "\n",
       "    .dataframe thead th {\n",
       "        text-align: right;\n",
       "    }\n",
       "</style>\n",
       "<table border=\"1\" class=\"dataframe\">\n",
       "  <thead>\n",
       "    <tr style=\"text-align: right;\">\n",
       "      <th></th>\n",
       "      <th>Patient</th>\n",
       "      <th>Weeks</th>\n",
       "      <th>FVC</th>\n",
       "      <th>Percent</th>\n",
       "      <th>Age</th>\n",
       "      <th>Sex</th>\n",
       "      <th>SmokingStatus</th>\n",
       "      <th>WHERE</th>\n",
       "      <th>Confidence</th>\n",
       "      <th>Patient_Week</th>\n",
       "      <th>...</th>\n",
       "      <th>base_week</th>\n",
       "      <th>Male</th>\n",
       "      <th>Female</th>\n",
       "      <th>Ex-smoker</th>\n",
       "      <th>Never smoked</th>\n",
       "      <th>Currently smokes</th>\n",
       "      <th>age</th>\n",
       "      <th>BASE</th>\n",
       "      <th>week</th>\n",
       "      <th>percent</th>\n",
       "    </tr>\n",
       "  </thead>\n",
       "  <tbody>\n",
       "    <tr>\n",
       "      <th>1540</th>\n",
       "      <td>ID00419637202311204720264</td>\n",
       "      <td>-12</td>\n",
       "      <td>3020</td>\n",
       "      <td>70.186855</td>\n",
       "      <td>73</td>\n",
       "      <td>Male</td>\n",
       "      <td>Ex-smoker</td>\n",
       "      <td>test</td>\n",
       "      <td>100.0</td>\n",
       "      <td>ID00419637202311204720264_-12</td>\n",
       "      <td>...</td>\n",
       "      <td>-18.0</td>\n",
       "      <td>1</td>\n",
       "      <td>0</td>\n",
       "      <td>1</td>\n",
       "      <td>0</td>\n",
       "      <td>0</td>\n",
       "      <td>0.615385</td>\n",
       "      <td>0.3724</td>\n",
       "      <td>0.067901</td>\n",
       "      <td>0.332421</td>\n",
       "    </tr>\n",
       "    <tr>\n",
       "      <th>1541</th>\n",
       "      <td>ID00419637202311204720264</td>\n",
       "      <td>-11</td>\n",
       "      <td>3020</td>\n",
       "      <td>70.186855</td>\n",
       "      <td>73</td>\n",
       "      <td>Male</td>\n",
       "      <td>Ex-smoker</td>\n",
       "      <td>test</td>\n",
       "      <td>100.0</td>\n",
       "      <td>ID00419637202311204720264_-11</td>\n",
       "      <td>...</td>\n",
       "      <td>-17.0</td>\n",
       "      <td>1</td>\n",
       "      <td>0</td>\n",
       "      <td>1</td>\n",
       "      <td>0</td>\n",
       "      <td>0</td>\n",
       "      <td>0.615385</td>\n",
       "      <td>0.3724</td>\n",
       "      <td>0.074074</td>\n",
       "      <td>0.332421</td>\n",
       "    </tr>\n",
       "    <tr>\n",
       "      <th>1542</th>\n",
       "      <td>ID00419637202311204720264</td>\n",
       "      <td>-10</td>\n",
       "      <td>3020</td>\n",
       "      <td>70.186855</td>\n",
       "      <td>73</td>\n",
       "      <td>Male</td>\n",
       "      <td>Ex-smoker</td>\n",
       "      <td>test</td>\n",
       "      <td>100.0</td>\n",
       "      <td>ID00419637202311204720264_-10</td>\n",
       "      <td>...</td>\n",
       "      <td>-16.0</td>\n",
       "      <td>1</td>\n",
       "      <td>0</td>\n",
       "      <td>1</td>\n",
       "      <td>0</td>\n",
       "      <td>0</td>\n",
       "      <td>0.615385</td>\n",
       "      <td>0.3724</td>\n",
       "      <td>0.080247</td>\n",
       "      <td>0.332421</td>\n",
       "    </tr>\n",
       "    <tr>\n",
       "      <th>1543</th>\n",
       "      <td>ID00419637202311204720264</td>\n",
       "      <td>-9</td>\n",
       "      <td>3020</td>\n",
       "      <td>70.186855</td>\n",
       "      <td>73</td>\n",
       "      <td>Male</td>\n",
       "      <td>Ex-smoker</td>\n",
       "      <td>test</td>\n",
       "      <td>100.0</td>\n",
       "      <td>ID00419637202311204720264_-9</td>\n",
       "      <td>...</td>\n",
       "      <td>-15.0</td>\n",
       "      <td>1</td>\n",
       "      <td>0</td>\n",
       "      <td>1</td>\n",
       "      <td>0</td>\n",
       "      <td>0</td>\n",
       "      <td>0.615385</td>\n",
       "      <td>0.3724</td>\n",
       "      <td>0.086420</td>\n",
       "      <td>0.332421</td>\n",
       "    </tr>\n",
       "    <tr>\n",
       "      <th>1544</th>\n",
       "      <td>ID00419637202311204720264</td>\n",
       "      <td>-8</td>\n",
       "      <td>3020</td>\n",
       "      <td>70.186855</td>\n",
       "      <td>73</td>\n",
       "      <td>Male</td>\n",
       "      <td>Ex-smoker</td>\n",
       "      <td>test</td>\n",
       "      <td>100.0</td>\n",
       "      <td>ID00419637202311204720264_-8</td>\n",
       "      <td>...</td>\n",
       "      <td>-14.0</td>\n",
       "      <td>1</td>\n",
       "      <td>0</td>\n",
       "      <td>1</td>\n",
       "      <td>0</td>\n",
       "      <td>0</td>\n",
       "      <td>0.615385</td>\n",
       "      <td>0.3724</td>\n",
       "      <td>0.092593</td>\n",
       "      <td>0.332421</td>\n",
       "    </tr>\n",
       "  </tbody>\n",
       "</table>\n",
       "<p>5 rows × 22 columns</p>\n",
       "</div>"
      ],
      "text/plain": [
       "                        Patient  Weeks   FVC    Percent  Age   Sex  \\\n",
       "1540  ID00419637202311204720264    -12  3020  70.186855   73  Male   \n",
       "1541  ID00419637202311204720264    -11  3020  70.186855   73  Male   \n",
       "1542  ID00419637202311204720264    -10  3020  70.186855   73  Male   \n",
       "1543  ID00419637202311204720264     -9  3020  70.186855   73  Male   \n",
       "1544  ID00419637202311204720264     -8  3020  70.186855   73  Male   \n",
       "\n",
       "     SmokingStatus WHERE  Confidence                   Patient_Week  ...  \\\n",
       "1540     Ex-smoker  test       100.0  ID00419637202311204720264_-12  ...   \n",
       "1541     Ex-smoker  test       100.0  ID00419637202311204720264_-11  ...   \n",
       "1542     Ex-smoker  test       100.0  ID00419637202311204720264_-10  ...   \n",
       "1543     Ex-smoker  test       100.0   ID00419637202311204720264_-9  ...   \n",
       "1544     Ex-smoker  test       100.0   ID00419637202311204720264_-8  ...   \n",
       "\n",
       "      base_week  Male  Female  Ex-smoker  Never smoked  Currently smokes  \\\n",
       "1540      -18.0     1       0          1             0                 0   \n",
       "1541      -17.0     1       0          1             0                 0   \n",
       "1542      -16.0     1       0          1             0                 0   \n",
       "1543      -15.0     1       0          1             0                 0   \n",
       "1544      -14.0     1       0          1             0                 0   \n",
       "\n",
       "           age    BASE      week   percent  \n",
       "1540  0.615385  0.3724  0.067901  0.332421  \n",
       "1541  0.615385  0.3724  0.074074  0.332421  \n",
       "1542  0.615385  0.3724  0.080247  0.332421  \n",
       "1543  0.615385  0.3724  0.086420  0.332421  \n",
       "1544  0.615385  0.3724  0.092593  0.332421  \n",
       "\n",
       "[5 rows x 22 columns]"
      ]
     },
     "execution_count": 147,
     "metadata": {},
     "output_type": "execute_result"
    }
   ],
   "source": [
    "sub.head()"
   ]
  },
  {
   "cell_type": "code",
   "execution_count": 148,
   "metadata": {
    "execution": {
     "iopub.execute_input": "2020-09-12T12:52:15.217929Z",
     "iopub.status.busy": "2020-09-12T12:52:15.216762Z",
     "iopub.status.idle": "2020-09-12T12:52:15.23643Z",
     "shell.execute_reply": "2020-09-12T12:52:15.235659Z"
    },
    "papermill": {
     "duration": 0.127785,
     "end_time": "2020-09-12T12:52:15.236557",
     "exception": false,
     "start_time": "2020-09-12T12:52:15.108772",
     "status": "completed"
    },
    "tags": []
   },
   "outputs": [
    {
     "data": {
      "text/html": [
       "<div>\n",
       "<style scoped>\n",
       "    .dataframe tbody tr th:only-of-type {\n",
       "        vertical-align: middle;\n",
       "    }\n",
       "\n",
       "    .dataframe tbody tr th {\n",
       "        vertical-align: top;\n",
       "    }\n",
       "\n",
       "    .dataframe thead th {\n",
       "        text-align: right;\n",
       "    }\n",
       "</style>\n",
       "<table border=\"1\" class=\"dataframe\">\n",
       "  <thead>\n",
       "    <tr style=\"text-align: right;\">\n",
       "      <th></th>\n",
       "      <th>Patient_Week</th>\n",
       "      <th>FVC</th>\n",
       "      <th>Confidence</th>\n",
       "      <th>FVC1</th>\n",
       "      <th>Confidence1</th>\n",
       "    </tr>\n",
       "  </thead>\n",
       "  <tbody>\n",
       "    <tr>\n",
       "      <th>1540</th>\n",
       "      <td>ID00419637202311204720264_-12</td>\n",
       "      <td>3020</td>\n",
       "      <td>100.0</td>\n",
       "      <td>2895.114441</td>\n",
       "      <td>238.098572</td>\n",
       "    </tr>\n",
       "    <tr>\n",
       "      <th>1541</th>\n",
       "      <td>ID00419637202311204720264_-11</td>\n",
       "      <td>3020</td>\n",
       "      <td>100.0</td>\n",
       "      <td>2892.466248</td>\n",
       "      <td>239.112122</td>\n",
       "    </tr>\n",
       "    <tr>\n",
       "      <th>1542</th>\n",
       "      <td>ID00419637202311204720264_-10</td>\n",
       "      <td>3020</td>\n",
       "      <td>100.0</td>\n",
       "      <td>2889.817932</td>\n",
       "      <td>240.125366</td>\n",
       "    </tr>\n",
       "    <tr>\n",
       "      <th>1543</th>\n",
       "      <td>ID00419637202311204720264_-9</td>\n",
       "      <td>3020</td>\n",
       "      <td>100.0</td>\n",
       "      <td>2887.169922</td>\n",
       "      <td>241.138672</td>\n",
       "    </tr>\n",
       "    <tr>\n",
       "      <th>1544</th>\n",
       "      <td>ID00419637202311204720264_-8</td>\n",
       "      <td>3020</td>\n",
       "      <td>100.0</td>\n",
       "      <td>2884.521729</td>\n",
       "      <td>242.152161</td>\n",
       "    </tr>\n",
       "    <tr>\n",
       "      <th>1545</th>\n",
       "      <td>ID00419637202311204720264_-7</td>\n",
       "      <td>3020</td>\n",
       "      <td>100.0</td>\n",
       "      <td>2881.873535</td>\n",
       "      <td>243.165405</td>\n",
       "    </tr>\n",
       "    <tr>\n",
       "      <th>1546</th>\n",
       "      <td>ID00419637202311204720264_-6</td>\n",
       "      <td>3020</td>\n",
       "      <td>100.0</td>\n",
       "      <td>2879.225403</td>\n",
       "      <td>244.178772</td>\n",
       "    </tr>\n",
       "    <tr>\n",
       "      <th>1547</th>\n",
       "      <td>ID00419637202311204720264_-5</td>\n",
       "      <td>3020</td>\n",
       "      <td>100.0</td>\n",
       "      <td>2876.577209</td>\n",
       "      <td>245.191956</td>\n",
       "    </tr>\n",
       "    <tr>\n",
       "      <th>1548</th>\n",
       "      <td>ID00419637202311204720264_-4</td>\n",
       "      <td>3020</td>\n",
       "      <td>100.0</td>\n",
       "      <td>2873.929138</td>\n",
       "      <td>246.205505</td>\n",
       "    </tr>\n",
       "    <tr>\n",
       "      <th>1549</th>\n",
       "      <td>ID00419637202311204720264_-3</td>\n",
       "      <td>3020</td>\n",
       "      <td>100.0</td>\n",
       "      <td>2871.280823</td>\n",
       "      <td>247.218628</td>\n",
       "    </tr>\n",
       "  </tbody>\n",
       "</table>\n",
       "</div>"
      ],
      "text/plain": [
       "                       Patient_Week   FVC  Confidence         FVC1  \\\n",
       "1540  ID00419637202311204720264_-12  3020       100.0  2895.114441   \n",
       "1541  ID00419637202311204720264_-11  3020       100.0  2892.466248   \n",
       "1542  ID00419637202311204720264_-10  3020       100.0  2889.817932   \n",
       "1543   ID00419637202311204720264_-9  3020       100.0  2887.169922   \n",
       "1544   ID00419637202311204720264_-8  3020       100.0  2884.521729   \n",
       "1545   ID00419637202311204720264_-7  3020       100.0  2881.873535   \n",
       "1546   ID00419637202311204720264_-6  3020       100.0  2879.225403   \n",
       "1547   ID00419637202311204720264_-5  3020       100.0  2876.577209   \n",
       "1548   ID00419637202311204720264_-4  3020       100.0  2873.929138   \n",
       "1549   ID00419637202311204720264_-3  3020       100.0  2871.280823   \n",
       "\n",
       "      Confidence1  \n",
       "1540   238.098572  \n",
       "1541   239.112122  \n",
       "1542   240.125366  \n",
       "1543   241.138672  \n",
       "1544   242.152161  \n",
       "1545   243.165405  \n",
       "1546   244.178772  \n",
       "1547   245.191956  \n",
       "1548   246.205505  \n",
       "1549   247.218628  "
      ]
     },
     "execution_count": 148,
     "metadata": {},
     "output_type": "execute_result"
    }
   ],
   "source": [
    "# PREDICTION\n",
    "sub['FVC1'] = 1.*pe[:, 1]\n",
    "sub['Confidence1'] = pe[:, 2] - pe[:, 0]\n",
    "subm = sub[['Patient_Week','FVC','Confidence','FVC1','Confidence1']].copy()\n",
    "subm.loc[~subm.FVC1.isnull()].head(10)"
   ]
  },
  {
   "cell_type": "code",
   "execution_count": 149,
   "metadata": {
    "execution": {
     "iopub.execute_input": "2020-09-12T12:52:15.454484Z",
     "iopub.status.busy": "2020-09-12T12:52:15.452753Z",
     "iopub.status.idle": "2020-09-12T12:52:15.455984Z",
     "shell.execute_reply": "2020-09-12T12:52:15.456662Z"
    },
    "papermill": {
     "duration": 0.123505,
     "end_time": "2020-09-12T12:52:15.456805",
     "exception": false,
     "start_time": "2020-09-12T12:52:15.3333",
     "status": "completed"
    },
    "tags": []
   },
   "outputs": [],
   "source": [
    "subm.loc[~subm.FVC1.isnull(),'FVC'] = subm.loc[~subm.FVC1.isnull(),'FVC1']\n",
    "if sigma_mean<70:\n",
    "    subm['Confidence'] = sigma_opt\n",
    "else:\n",
    "    subm.loc[~subm.FVC1.isnull(),'Confidence'] = subm.loc[~subm.FVC1.isnull(),'Confidence1']"
   ]
  },
  {
   "cell_type": "code",
   "execution_count": 150,
   "metadata": {
    "execution": {
     "iopub.execute_input": "2020-09-12T12:52:15.665319Z",
     "iopub.status.busy": "2020-09-12T12:52:15.664083Z",
     "iopub.status.idle": "2020-09-12T12:52:15.669267Z",
     "shell.execute_reply": "2020-09-12T12:52:15.668685Z"
    },
    "papermill": {
     "duration": 0.116449,
     "end_time": "2020-09-12T12:52:15.669413",
     "exception": false,
     "start_time": "2020-09-12T12:52:15.552964",
     "status": "completed"
    },
    "tags": []
   },
   "outputs": [
    {
     "data": {
      "text/html": [
       "<div>\n",
       "<style scoped>\n",
       "    .dataframe tbody tr th:only-of-type {\n",
       "        vertical-align: middle;\n",
       "    }\n",
       "\n",
       "    .dataframe tbody tr th {\n",
       "        vertical-align: top;\n",
       "    }\n",
       "\n",
       "    .dataframe thead th {\n",
       "        text-align: right;\n",
       "    }\n",
       "</style>\n",
       "<table border=\"1\" class=\"dataframe\">\n",
       "  <thead>\n",
       "    <tr style=\"text-align: right;\">\n",
       "      <th></th>\n",
       "      <th>Patient_Week</th>\n",
       "      <th>FVC</th>\n",
       "      <th>Confidence</th>\n",
       "      <th>FVC1</th>\n",
       "      <th>Confidence1</th>\n",
       "    </tr>\n",
       "  </thead>\n",
       "  <tbody>\n",
       "    <tr>\n",
       "      <th>1540</th>\n",
       "      <td>ID00419637202311204720264_-12</td>\n",
       "      <td>2895.114441</td>\n",
       "      <td>238.098572</td>\n",
       "      <td>2895.114441</td>\n",
       "      <td>238.098572</td>\n",
       "    </tr>\n",
       "    <tr>\n",
       "      <th>1541</th>\n",
       "      <td>ID00419637202311204720264_-11</td>\n",
       "      <td>2892.466248</td>\n",
       "      <td>239.112122</td>\n",
       "      <td>2892.466248</td>\n",
       "      <td>239.112122</td>\n",
       "    </tr>\n",
       "    <tr>\n",
       "      <th>1542</th>\n",
       "      <td>ID00419637202311204720264_-10</td>\n",
       "      <td>2889.817932</td>\n",
       "      <td>240.125366</td>\n",
       "      <td>2889.817932</td>\n",
       "      <td>240.125366</td>\n",
       "    </tr>\n",
       "    <tr>\n",
       "      <th>1543</th>\n",
       "      <td>ID00419637202311204720264_-9</td>\n",
       "      <td>2887.169922</td>\n",
       "      <td>241.138672</td>\n",
       "      <td>2887.169922</td>\n",
       "      <td>241.138672</td>\n",
       "    </tr>\n",
       "    <tr>\n",
       "      <th>1544</th>\n",
       "      <td>ID00419637202311204720264_-8</td>\n",
       "      <td>2884.521729</td>\n",
       "      <td>242.152161</td>\n",
       "      <td>2884.521729</td>\n",
       "      <td>242.152161</td>\n",
       "    </tr>\n",
       "  </tbody>\n",
       "</table>\n",
       "</div>"
      ],
      "text/plain": [
       "                       Patient_Week          FVC  Confidence         FVC1  \\\n",
       "1540  ID00419637202311204720264_-12  2895.114441  238.098572  2895.114441   \n",
       "1541  ID00419637202311204720264_-11  2892.466248  239.112122  2892.466248   \n",
       "1542  ID00419637202311204720264_-10  2889.817932  240.125366  2889.817932   \n",
       "1543   ID00419637202311204720264_-9  2887.169922  241.138672  2887.169922   \n",
       "1544   ID00419637202311204720264_-8  2884.521729  242.152161  2884.521729   \n",
       "\n",
       "      Confidence1  \n",
       "1540   238.098572  \n",
       "1541   239.112122  \n",
       "1542   240.125366  \n",
       "1543   241.138672  \n",
       "1544   242.152161  "
      ]
     },
     "execution_count": 150,
     "metadata": {},
     "output_type": "execute_result"
    }
   ],
   "source": [
    "subm.head()"
   ]
  },
  {
   "cell_type": "code",
   "execution_count": 151,
   "metadata": {
    "execution": {
     "iopub.execute_input": "2020-09-12T12:52:15.892182Z",
     "iopub.status.busy": "2020-09-12T12:52:15.889669Z",
     "iopub.status.idle": "2020-09-12T12:52:15.915157Z",
     "shell.execute_reply": "2020-09-12T12:52:15.914073Z"
    },
    "papermill": {
     "duration": 0.136465,
     "end_time": "2020-09-12T12:52:15.915279",
     "exception": false,
     "start_time": "2020-09-12T12:52:15.778814",
     "status": "completed"
    },
    "tags": []
   },
   "outputs": [
    {
     "data": {
      "text/html": [
       "<div>\n",
       "<style scoped>\n",
       "    .dataframe tbody tr th:only-of-type {\n",
       "        vertical-align: middle;\n",
       "    }\n",
       "\n",
       "    .dataframe tbody tr th {\n",
       "        vertical-align: top;\n",
       "    }\n",
       "\n",
       "    .dataframe thead th {\n",
       "        text-align: right;\n",
       "    }\n",
       "</style>\n",
       "<table border=\"1\" class=\"dataframe\">\n",
       "  <thead>\n",
       "    <tr style=\"text-align: right;\">\n",
       "      <th></th>\n",
       "      <th>count</th>\n",
       "      <th>mean</th>\n",
       "      <th>std</th>\n",
       "      <th>min</th>\n",
       "      <th>25%</th>\n",
       "      <th>50%</th>\n",
       "      <th>75%</th>\n",
       "      <th>max</th>\n",
       "    </tr>\n",
       "  </thead>\n",
       "  <tbody>\n",
       "    <tr>\n",
       "      <th>FVC</th>\n",
       "      <td>730.0</td>\n",
       "      <td>2660.687984</td>\n",
       "      <td>325.125679</td>\n",
       "      <td>2011.629456</td>\n",
       "      <td>2589.733238</td>\n",
       "      <td>2702.894470</td>\n",
       "      <td>2841.698883</td>\n",
       "      <td>3231.202209</td>\n",
       "    </tr>\n",
       "    <tr>\n",
       "      <th>Confidence</th>\n",
       "      <td>730.0</td>\n",
       "      <td>283.996902</td>\n",
       "      <td>45.782395</td>\n",
       "      <td>188.673187</td>\n",
       "      <td>247.289467</td>\n",
       "      <td>284.365784</td>\n",
       "      <td>321.271553</td>\n",
       "      <td>374.551941</td>\n",
       "    </tr>\n",
       "    <tr>\n",
       "      <th>FVC1</th>\n",
       "      <td>730.0</td>\n",
       "      <td>2660.687984</td>\n",
       "      <td>325.125679</td>\n",
       "      <td>2011.629456</td>\n",
       "      <td>2589.733238</td>\n",
       "      <td>2702.894470</td>\n",
       "      <td>2841.698883</td>\n",
       "      <td>3231.202209</td>\n",
       "    </tr>\n",
       "    <tr>\n",
       "      <th>Confidence1</th>\n",
       "      <td>730.0</td>\n",
       "      <td>283.996902</td>\n",
       "      <td>45.782395</td>\n",
       "      <td>188.673187</td>\n",
       "      <td>247.289467</td>\n",
       "      <td>284.365784</td>\n",
       "      <td>321.271553</td>\n",
       "      <td>374.551941</td>\n",
       "    </tr>\n",
       "  </tbody>\n",
       "</table>\n",
       "</div>"
      ],
      "text/plain": [
       "             count         mean         std          min          25%  \\\n",
       "FVC          730.0  2660.687984  325.125679  2011.629456  2589.733238   \n",
       "Confidence   730.0   283.996902   45.782395   188.673187   247.289467   \n",
       "FVC1         730.0  2660.687984  325.125679  2011.629456  2589.733238   \n",
       "Confidence1  730.0   283.996902   45.782395   188.673187   247.289467   \n",
       "\n",
       "                     50%          75%          max  \n",
       "FVC          2702.894470  2841.698883  3231.202209  \n",
       "Confidence    284.365784   321.271553   374.551941  \n",
       "FVC1         2702.894470  2841.698883  3231.202209  \n",
       "Confidence1   284.365784   321.271553   374.551941  "
      ]
     },
     "execution_count": 151,
     "metadata": {},
     "output_type": "execute_result"
    }
   ],
   "source": [
    "subm.describe().T"
   ]
  },
  {
   "cell_type": "code",
   "execution_count": 152,
   "metadata": {
    "execution": {
     "iopub.execute_input": "2020-09-12T12:52:16.162124Z",
     "iopub.status.busy": "2020-09-12T12:52:16.154099Z",
     "iopub.status.idle": "2020-09-12T12:52:16.173785Z",
     "shell.execute_reply": "2020-09-12T12:52:16.173152Z"
    },
    "papermill": {
     "duration": 0.149122,
     "end_time": "2020-09-12T12:52:16.1739",
     "exception": false,
     "start_time": "2020-09-12T12:52:16.024778",
     "status": "completed"
    },
    "tags": []
   },
   "outputs": [],
   "source": [
    "otest = pd.read_csv('/home/jacoblamkey/Documents/Data/.kaggle/test.csv')\n",
    "for i in range(len(otest)):\n",
    "    subm.loc[subm['Patient_Week']==otest.Patient[i]+'_'+str(otest.Weeks[i]), 'FVC'] = otest.FVC[i]\n",
    "    subm.loc[subm['Patient_Week']==otest.Patient[i]+'_'+str(otest.Weeks[i]), 'Confidence'] = 0.1"
   ]
  },
  {
   "cell_type": "code",
   "execution_count": 153,
   "metadata": {
    "execution": {
     "iopub.execute_input": "2020-09-12T12:52:16.380345Z",
     "iopub.status.busy": "2020-09-12T12:52:16.37975Z",
     "iopub.status.idle": "2020-09-12T12:52:16.390116Z",
     "shell.execute_reply": "2020-09-12T12:52:16.389469Z"
    },
    "papermill": {
     "duration": 0.116206,
     "end_time": "2020-09-12T12:52:16.390244",
     "exception": false,
     "start_time": "2020-09-12T12:52:16.274038",
     "status": "completed"
    },
    "tags": []
   },
   "outputs": [],
   "source": [
    "subm[[\"Patient_Week\",\"FVC\",\"Confidence\"]].to_csv(\"submission_regression.csv\", index=False)"
   ]
  },
  {
   "cell_type": "code",
   "execution_count": 154,
   "metadata": {
    "execution": {
     "iopub.execute_input": "2020-09-12T12:52:16.596169Z",
     "iopub.status.busy": "2020-09-12T12:52:16.595292Z",
     "iopub.status.idle": "2020-09-12T12:52:16.599737Z",
     "shell.execute_reply": "2020-09-12T12:52:16.598985Z"
    },
    "papermill": {
     "duration": 0.109855,
     "end_time": "2020-09-12T12:52:16.59985",
     "exception": false,
     "start_time": "2020-09-12T12:52:16.489995",
     "status": "completed"
    },
    "tags": []
   },
   "outputs": [],
   "source": [
    "reg_sub = subm[[\"Patient_Week\",\"FVC\",\"Confidence\"]].copy()"
   ]
  },
  {
   "cell_type": "markdown",
   "metadata": {
    "papermill": {
     "duration": 0.10142,
     "end_time": "2020-09-12T12:52:16.80591",
     "exception": false,
     "start_time": "2020-09-12T12:52:16.70449",
     "status": "completed"
    },
    "tags": []
   },
   "source": [
    "## 4.4 Ensemble and blending <a class=\"anchor\" id=\"4.4\"></a>\n",
    "\n",
    "[Back to Table of Contents](#0.1)"
   ]
  },
  {
   "cell_type": "code",
   "execution_count": 155,
   "metadata": {
    "execution": {
     "iopub.execute_input": "2020-09-12T12:52:17.016579Z",
     "iopub.status.busy": "2020-09-12T12:52:17.015063Z",
     "iopub.status.idle": "2020-09-12T12:52:17.020396Z",
     "shell.execute_reply": "2020-09-12T12:52:17.019576Z"
    },
    "papermill": {
     "duration": 0.115266,
     "end_time": "2020-09-12T12:52:17.020513",
     "exception": false,
     "start_time": "2020-09-12T12:52:16.905247",
     "status": "completed"
    },
    "tags": []
   },
   "outputs": [],
   "source": [
    "df1 = img_sub.sort_values(by=['Patient_Week'], ascending=True).reset_index(drop=True)\n",
    "df2 = reg_sub.sort_values(by=['Patient_Week'], ascending=True).reset_index(drop=True)"
   ]
  },
  {
   "cell_type": "code",
   "execution_count": 156,
   "metadata": {
    "execution": {
     "iopub.execute_input": "2020-09-12T12:52:17.238577Z",
     "iopub.status.busy": "2020-09-12T12:52:17.23789Z",
     "iopub.status.idle": "2020-09-12T12:52:17.243976Z",
     "shell.execute_reply": "2020-09-12T12:52:17.243059Z"
    },
    "papermill": {
     "duration": 0.1238,
     "end_time": "2020-09-12T12:52:17.244079",
     "exception": false,
     "start_time": "2020-09-12T12:52:17.120279",
     "status": "completed"
    },
    "tags": []
   },
   "outputs": [
    {
     "data": {
      "text/html": [
       "<div>\n",
       "<style scoped>\n",
       "    .dataframe tbody tr th:only-of-type {\n",
       "        vertical-align: middle;\n",
       "    }\n",
       "\n",
       "    .dataframe tbody tr th {\n",
       "        vertical-align: top;\n",
       "    }\n",
       "\n",
       "    .dataframe thead th {\n",
       "        text-align: right;\n",
       "    }\n",
       "</style>\n",
       "<table border=\"1\" class=\"dataframe\">\n",
       "  <thead>\n",
       "    <tr style=\"text-align: right;\">\n",
       "      <th></th>\n",
       "      <th>Patient_Week</th>\n",
       "      <th>FVC</th>\n",
       "      <th>Confidence</th>\n",
       "    </tr>\n",
       "  </thead>\n",
       "  <tbody>\n",
       "    <tr>\n",
       "      <th>0</th>\n",
       "      <td>ID00419637202311204720264_-1</td>\n",
       "      <td>2902.454772</td>\n",
       "      <td>219.100980</td>\n",
       "    </tr>\n",
       "    <tr>\n",
       "      <th>1</th>\n",
       "      <td>ID00419637202311204720264_-10</td>\n",
       "      <td>2928.807886</td>\n",
       "      <td>219.091204</td>\n",
       "    </tr>\n",
       "    <tr>\n",
       "      <th>2</th>\n",
       "      <td>ID00419637202311204720264_-11</td>\n",
       "      <td>2931.736135</td>\n",
       "      <td>219.090205</td>\n",
       "    </tr>\n",
       "    <tr>\n",
       "      <th>3</th>\n",
       "      <td>ID00419637202311204720264_-12</td>\n",
       "      <td>2934.664286</td>\n",
       "      <td>219.088961</td>\n",
       "    </tr>\n",
       "    <tr>\n",
       "      <th>4</th>\n",
       "      <td>ID00419637202311204720264_-2</td>\n",
       "      <td>2905.382874</td>\n",
       "      <td>219.099786</td>\n",
       "    </tr>\n",
       "  </tbody>\n",
       "</table>\n",
       "</div>"
      ],
      "text/plain": [
       "                    Patient_Week          FVC  Confidence\n",
       "0   ID00419637202311204720264_-1  2902.454772  219.100980\n",
       "1  ID00419637202311204720264_-10  2928.807886  219.091204\n",
       "2  ID00419637202311204720264_-11  2931.736135  219.090205\n",
       "3  ID00419637202311204720264_-12  2934.664286  219.088961\n",
       "4   ID00419637202311204720264_-2  2905.382874  219.099786"
      ]
     },
     "execution_count": 156,
     "metadata": {},
     "output_type": "execute_result"
    }
   ],
   "source": [
    "df = df1[['Patient_Week']].copy()\n",
    "df['FVC'] = FVC_weight*df1['FVC'] + (1-FVC_weight)*df2['FVC']\n",
    "df['Confidence'] = Confidence_weight*df1['Confidence'] + (1-Confidence_weight)*df2['Confidence']\n",
    "df.head()"
   ]
  },
  {
   "cell_type": "code",
   "execution_count": 157,
   "metadata": {
    "execution": {
     "iopub.execute_input": "2020-09-12T12:52:17.450967Z",
     "iopub.status.busy": "2020-09-12T12:52:17.449661Z",
     "iopub.status.idle": "2020-09-12T12:52:17.456669Z",
     "shell.execute_reply": "2020-09-12T12:52:17.45605Z"
    },
    "papermill": {
     "duration": 0.114726,
     "end_time": "2020-09-12T12:52:17.456777",
     "exception": false,
     "start_time": "2020-09-12T12:52:17.342051",
     "status": "completed"
    },
    "tags": []
   },
   "outputs": [],
   "source": [
    "df.to_csv('/home/jacoblamkey/Documents/Data/.kaggle/submission.csv', index=False)"
   ]
  },
  {
   "cell_type": "code",
   "execution_count": 158,
   "metadata": {},
   "outputs": [],
   "source": [
    "df_issa1 = df.copy()"
   ]
  },
  {
   "cell_type": "code",
   "execution_count": null,
   "metadata": {},
   "outputs": [],
   "source": []
  },
  {
   "cell_type": "code",
   "execution_count": null,
   "metadata": {},
   "outputs": [],
   "source": []
  },
  {
   "cell_type": "code",
   "execution_count": null,
   "metadata": {},
   "outputs": [],
   "source": []
  },
  {
   "cell_type": "code",
   "execution_count": null,
   "metadata": {},
   "outputs": [],
   "source": []
  },
  {
   "cell_type": "code",
   "execution_count": null,
   "metadata": {},
   "outputs": [],
   "source": []
  },
  {
   "cell_type": "code",
   "execution_count": null,
   "metadata": {},
   "outputs": [],
   "source": []
  },
  {
   "cell_type": "markdown",
   "metadata": {},
   "source": [
    "# 2. Second notebook\n",
    "\n",
    "https://www.kaggle.com/zhangxianjue/train-age\n",
    "\n"
   ]
  },
  {
   "cell_type": "code",
   "execution_count": 71,
   "metadata": {
    "_kg_hide-output": true
   },
   "outputs": [],
   "source": [
    "Dropout_model = 0.3856\n",
    "FVC_weight = 0.2\n",
    "Confidence_weight = 0\n",
    "#!pip install ../input/kerasapplications/keras-team-keras-applications-3b180cb -f ./ --no-index\n",
    "#!pip install ../input/efficientnet/efficientnet-1.1.0/ -f ./ --no-index\n",
    "import os\n",
    "import cv2\n",
    "import pydicom\n",
    "import pandas as pd\n",
    "import numpy as np \n",
    "import tensorflow as tf \n",
    "import matplotlib.pyplot as plt \n",
    "import random\n",
    "from tqdm.notebook import tqdm \n",
    "from sklearn.model_selection import train_test_split, KFold\n",
    "from sklearn.metrics import mean_absolute_error\n",
    "from tensorflow_addons.optimizers import RectifiedAdam\n",
    "from tensorflow.keras import Model\n",
    "import tensorflow.keras.backend as K\n",
    "import tensorflow.keras.layers as L\n",
    "import tensorflow.keras.models as M\n",
    "from tensorflow.keras.optimizers import Nadam\n",
    "import seaborn as sns\n",
    "from PIL import Image"
   ]
  },
  {
   "cell_type": "code",
   "execution_count": 72,
   "metadata": {},
   "outputs": [],
   "source": [
    "def seed_everything(seed=2020):\n",
    "    random.seed(seed)\n",
    "    os.environ['PYTHONHASHSEED'] = str(seed)\n",
    "    np.random.seed(seed)\n",
    "    tf.random.set_seed(seed)\n",
    "    \n",
    "seed_everything(42)\n",
    "config = tf.compat.v1.ConfigProto()\n",
    "config.gpu_options.allow_growth = True\n",
    "session = tf.compat.v1.Session(config=config)\n",
    "train = pd.read_csv('/home/jacoblamkey/Documents/Data/.kaggle/train.csv') "
   ]
  },
  {
   "cell_type": "code",
   "execution_count": 73,
   "metadata": {},
   "outputs": [],
   "source": [
    "tr_age_max = train.Age.values.max()\n",
    "tr_age_min = train.Age.values.min()\n",
    "tr_age_mean = train.Age.values.mean()"
   ]
  },
  {
   "cell_type": "code",
   "execution_count": 74,
   "metadata": {},
   "outputs": [],
   "source": [
    "def expandFVC_Percent(DS):\n",
    "    DS['FVC_Percent'] = DS['FVC'] / DS['Percent']\n",
    "    return DS"
   ]
  },
  {
   "cell_type": "code",
   "execution_count": 75,
   "metadata": {},
   "outputs": [],
   "source": [
    "def expandFE(data_set):\n",
    "    data_set['MinWeeks'] = data_set.groupby('Patient')['Weeks'].transform('min')\n",
    "    sub_tr = data_set.loc[data_set['Weeks']==data_set['MinWeeks']]\n",
    "\n",
    "    sub_tr['MinFVC'] = sub_tr['FVC']\n",
    "\n",
    "    sub_tr = sub_tr[['Patient', 'MinFVC']]\n",
    "\n",
    "    merged = data_set.merge(sub_tr, on='Patient', how='outer')\n",
    "\n",
    "\n",
    "    data_set=merged\n",
    "    \n",
    "    data_set['MinFVC'] = (data_set['MinFVC'] - data_set['MinFVC'].min())/(data_set['MinFVC'].max()-data_set['MinFVC'].min())\n",
    "    print(data_set.sample(5))\n",
    "    return data_set"
   ]
  },
  {
   "cell_type": "code",
   "execution_count": 76,
   "metadata": {},
   "outputs": [
    {
     "name": "stdout",
     "output_type": "stream",
     "text": [
      "                        Patient  Weeks   FVC    Percent  Age     Sex  \\\n",
      "527   ID00128637202219474716089     36  2274  99.283968   87  Female   \n",
      "1140  ID00296637202279895784347     32  2210  65.617577   58    Male   \n",
      "168   ID00048637202185016727717      9  1477  64.514720   70  Female   \n",
      "135   ID00035637202182204917484     14  2634  72.006561   69    Male   \n",
      "785   ID00199637202248141386743      5  2672  64.728682   62    Male   \n",
      "\n",
      "     SmokingStatus  MinWeeks    MinFVC  \n",
      "527   Never smoked        34  0.223811  \n",
      "1140     Ex-smoker         5  0.224368  \n",
      "168   Never smoked         9  0.066865  \n",
      "135      Ex-smoker        11  0.318165  \n",
      "785      Ex-smoker         5  0.307764  \n"
     ]
    },
    {
     "name": "stderr",
     "output_type": "stream",
     "text": [
      "/home/jacoblamkey/anaconda3/envs/tf/lib/python3.7/site-packages/ipykernel_launcher.py:5: SettingWithCopyWarning: \n",
      "A value is trying to be set on a copy of a slice from a DataFrame.\n",
      "Try using .loc[row_indexer,col_indexer] = value instead\n",
      "\n",
      "See the caveats in the documentation: https://pandas.pydata.org/pandas-docs/stable/user_guide/indexing.html#returning-a-view-versus-a-copy\n",
      "  \"\"\"\n"
     ]
    }
   ],
   "source": [
    "train = expandFE(train)\n",
    "# train = expandFVC_Percent(train)"
   ]
  },
  {
   "cell_type": "code",
   "execution_count": 77,
   "metadata": {},
   "outputs": [
    {
     "name": "stdout",
     "output_type": "stream",
     "text": [
      "                     Patient  Weeks   FVC    Percent  Age   Sex SmokingStatus  \\\n",
      "0  ID00007637202177411956430     -4  2315  58.253649   79  Male     Ex-smoker   \n",
      "1  ID00007637202177411956430      5  2214  55.712129   79  Male     Ex-smoker   \n",
      "2  ID00007637202177411956430      7  2061  51.862104   79  Male     Ex-smoker   \n",
      "3  ID00007637202177411956430      9  2144  53.950679   79  Male     Ex-smoker   \n",
      "4  ID00007637202177411956430     11  2069  52.063412   79  Male     Ex-smoker   \n",
      "\n",
      "   MinWeeks    MinFVC  \n",
      "0        -4  0.241456  \n",
      "1        -4  0.241456  \n",
      "2        -4  0.241456  \n",
      "3        -4  0.241456  \n",
      "4        -4  0.241456  \n",
      "                        Patient  Weeks   FVC     Percent  Age     Sex  \\\n",
      "1521  ID00407637202308788732304     75  2963   87.393818   66    Male   \n",
      "357   ID00093637202205278167493     39  3841   88.315092   69    Male   \n",
      "603   ID00136637202224951350618     43  3362   96.776051   64    Male   \n",
      "897   ID00224637202259281193413      9  2679   57.312168   72    Male   \n",
      "214   ID00061637202188184085559     36  4048  110.661564   68    Male   \n",
      "2     ID00007637202177411956430      7  2061   51.862104   79    Male   \n",
      "356   ID00093637202205278167493     28  3475   79.899752   69    Male   \n",
      "828   ID00210637202257228694086     39  2845   80.512791   76    Male   \n",
      "102   ID00026637202179561894768     51  2868   79.130339   57    Male   \n",
      "192   ID00051637202185848464638     54  1532   73.707000   73  Female   \n",
      "\n",
      "         SmokingStatus  MinWeeks    MinFVC  \n",
      "1521         Ex-smoker        21  0.401932  \n",
      "357          Ex-smoker        -1  0.497771  \n",
      "603          Ex-smoker         3  0.413076  \n",
      "897       Never smoked         0  0.367199  \n",
      "214          Ex-smoker        23  0.548663  \n",
      "2            Ex-smoker        -4  0.241456  \n",
      "356          Ex-smoker        -1  0.497771  \n",
      "828   Currently smokes         0  0.340082  \n",
      "102          Ex-smoker        41  0.347140  \n",
      "192          Ex-smoker        -1  0.126672  \n"
     ]
    }
   ],
   "source": [
    "print(train.head())\n",
    "print(train.sample(10))"
   ]
  },
  {
   "cell_type": "code",
   "execution_count": 78,
   "metadata": {},
   "outputs": [],
   "source": [
    "def get_tab(df):\n",
    "    # df: data frame\n",
    "    # [age, male/female[0/1], SmokingStatus[00/11/01], BaseFvc] (5,)\n",
    "    vector = [(df.Age.values[0] - tr_age_min) / (tr_age_max-tr_age_min)] \n",
    "    \n",
    "    if df.Sex.values[0] == 'male':\n",
    "       vector.append(0)\n",
    "    else:\n",
    "       vector.append(1)\n",
    "    \n",
    "    if df.SmokingStatus.values[0] == 'Never smoked':\n",
    "        vector.extend([0,0])\n",
    "    elif df.SmokingStatus.values[0] == 'Ex-smoker':\n",
    "        vector.extend([1,1])\n",
    "    elif df.SmokingStatus.values[0] == 'Currently smokes':\n",
    "        vector.extend([0,1])\n",
    "    else:\n",
    "        vector.extend([1,0])\n",
    "    vector.extend([df['MinFVC'].values[0]])\n",
    "#     vector.extend([df['FVC_Percent'].values[0]])\n",
    "    return np.array(vector) "
   ]
  },
  {
   "cell_type": "code",
   "execution_count": 79,
   "metadata": {},
   "outputs": [
    {
     "data": {
      "application/vnd.jupyter.widget-view+json": {
       "model_id": "fdc9894853aa404691f89c6f72a266da",
       "version_major": 2,
       "version_minor": 0
      },
      "text/plain": [
       "HBox(children=(FloatProgress(value=1.0, bar_style='info', layout=Layout(width='20px'), max=1.0), HTML(value=''…"
      ]
     },
     "metadata": {},
     "output_type": "display_data"
    },
    {
     "name": "stdout",
     "output_type": "stream",
     "text": [
      "\n"
     ]
    },
    {
     "name": "stderr",
     "output_type": "stream",
     "text": [
      "/home/jacoblamkey/anaconda3/envs/tf/lib/python3.7/site-packages/ipykernel_launcher.py:9: FutureWarning: `rcond` parameter will change to the default of machine precision times ``max(M, N)`` where M and N are the input matrix dimensions.\n",
      "To use the future default and silence this warning we advise to pass `rcond=None`, to keep using the old, explicitly pass `rcond=-1`.\n",
      "  if __name__ == '__main__':\n"
     ]
    }
   ],
   "source": [
    "A = {} \n",
    "TAB = {} \n",
    "P = [] \n",
    "for i, p in tqdm(enumerate(train.Patient.unique())):\n",
    "    sub = train.loc[train.Patient == p, :] \n",
    "    fvc = sub.FVC.values\n",
    "    weeks = sub.Weeks.values\n",
    "    c = np.vstack([weeks, np.ones(len(weeks))]).T\n",
    "    a, b = np.linalg.lstsq(c, fvc)[0]\n",
    "    \n",
    "    A[p] = a\n",
    "    TAB[p] = get_tab(sub)\n",
    "    P.append(p)\n",
    "\n",
    "def get_img(path):\n",
    "    d = pydicom.dcmread(path)\n",
    "    return cv2.resize(d.pixel_array / 2**11, (512, 512))"
   ]
  },
  {
   "cell_type": "code",
   "execution_count": 80,
   "metadata": {},
   "outputs": [],
   "source": [
    "from tensorflow.keras.utils import Sequence\n",
    "import math\n",
    "\n",
    "class IGenerator(Sequence):\n",
    "    BAD_ID = ['ID00011637202177653955184', 'ID00052637202186188008618']\n",
    "    def __init__(self, keys, a, tab, batch_size=8):\n",
    "        self.keys = [k for k in keys if k not in self.BAD_ID]\n",
    "        self.a = a\n",
    "        self.tab = tab\n",
    "        self.batch_size = batch_size\n",
    "        \n",
    "        self.train_data = {}  # imgs for each person; self.trian_data[pi] = [img1, img2, ..., imgn]\n",
    "        for p in train.Patient.values:\n",
    "            # filenames in \"~/train/personid/\"\n",
    "            self.train_data[p] = os.listdir(f'/home/jacoblamkey/Documents/Data/.kaggle/train/{p}/')\n",
    "    \n",
    "    def __len__(self):\n",
    "#         return 1000\n",
    "        return math.ceil(len(self.keys) / float(self.batch_size)) \n",
    "    \n",
    "    def __getitem__(self, idx):\n",
    "        x = []\n",
    "        a, tab = [], [] \n",
    "        keys = np.random.choice(self.keys, size = self.batch_size)  # persons in batch size\n",
    "        for k in keys:\n",
    "            #  chose a {[img, tab], a}for each person (only 1 img)\n",
    "            try:\n",
    "                self.train_data[k].sort()\n",
    "                mx_len = len(self.train_data[k])\n",
    "                i = np.random.choice(self.train_data[k][mx_len//3:mx_len//3*2], size=1)[0]\n",
    "#                 i = self.train_data[k][max_len//2]\n",
    "                img = get_img(f'/home/jacoblamkey/Documents/Data/.kaggle/train/{k}/{i}')\n",
    "                x.append(img)\n",
    "                a.append(self.a[k])\n",
    "                tab.append(self.tab[k])\n",
    "            except:\n",
    "                print(k, i)\n",
    "       \n",
    "        x, a, tab = np.array(x), np.array(a), np.array(tab)\n",
    "        x = np.expand_dims(x, axis=-1)\n",
    "        return [x, tab] , a"
   ]
  },
  {
   "cell_type": "code",
   "execution_count": 81,
   "metadata": {},
   "outputs": [],
   "source": [
    "from tensorflow.keras.layers import (\n",
    "    Dense, Dropout, Activation, Flatten, Input, BatchNormalization, GlobalAveragePooling2D, Add, Conv2D, AveragePooling2D, \n",
    "    LeakyReLU, Concatenate \n",
    ")\n",
    "import efficientnet.tfkeras as efn\n",
    "\n",
    "def get_efficientnet(model, shape):\n",
    "    models_dict = {\n",
    "        'b0': efn.EfficientNetB0(input_shape=shape,weights=None,include_top=False),\n",
    "        'b1': efn.EfficientNetB1(input_shape=shape,weights=None,include_top=False),\n",
    "        'b2': efn.EfficientNetB2(input_shape=shape,weights=None,include_top=False),\n",
    "        'b3': efn.EfficientNetB3(input_shape=shape,weights=None,include_top=False),\n",
    "        'b4': efn.EfficientNetB4(input_shape=shape,weights=None,include_top=False),\n",
    "        'b5': efn.EfficientNetB5(input_shape=shape,weights=None,include_top=False),\n",
    "        'b6': efn.EfficientNetB6(input_shape=shape,weights=None,include_top=False),\n",
    "        'b7': efn.EfficientNetB7(input_shape=shape,weights=None,include_top=False)\n",
    "    }\n",
    "    return models_dict[model]\n",
    "\n",
    "def build_model(shape=(512, 512, 1), model_class=None):\n",
    "    inp = Input(shape=shape)\n",
    "    base = get_efficientnet(model_class, shape)\n",
    "    x = base(inp)\n",
    "    x = GlobalAveragePooling2D()(x)\n",
    "#     inp2 = Input(shape=(4,))  # original is 4\n",
    "    inp2 = Input(shape=(5,))  # add the feature of MinFVC\n",
    "    x2 = tf.keras.layers.GaussianNoise(0.2)(inp2)\n",
    "    x = Concatenate()([x, x2]) \n",
    "    x = Dropout(Dropout_model)(x)\n",
    "    x = Dense(1)(x)\n",
    "    model = Model([inp, inp2] , x)\n",
    "    \n",
    "#     weights = [w for w in os.listdir('../input/osic-model-weights') if model_class in w][0]\n",
    "#     model.load_weights('../input/osic-model-weights/' + weights)\n",
    "    return model"
   ]
  },
  {
   "cell_type": "code",
   "execution_count": 82,
   "metadata": {},
   "outputs": [
    {
     "name": "stdout",
     "output_type": "stream",
     "text": [
      "Number of models: 1\n"
     ]
    }
   ],
   "source": [
    "model_classes = ['b5'] #['b0','b1','b2','b3',b4','b5','b6','b7']\n",
    "with strategy.scope():\n",
    "    models = [build_model(shape=(512, 512, 1), model_class=m) for m in model_classes]\n",
    "    \n",
    "print('Number of models: ' + str(len(models)))\n",
    "\n",
    "model = models[0]\n",
    "\n",
    "# model = get_model()"
   ]
  },
  {
   "cell_type": "code",
   "execution_count": 83,
   "metadata": {},
   "outputs": [],
   "source": [
    "# efn_path = \"../input/trainefn/efn.ckpt\"\n",
    "# model.load_weights(efn_path)"
   ]
  },
  {
   "cell_type": "code",
   "execution_count": 84,
   "metadata": {},
   "outputs": [
    {
     "name": "stdout",
     "output_type": "stream",
     "text": [
      "Model: \"functional_5\"\n",
      "__________________________________________________________________________________________________\n",
      "Layer (type)                    Output Shape         Param #     Connected to                     \n",
      "==================================================================================================\n",
      "input_21 (InputLayer)           [(None, 512, 512, 1) 0                                            \n",
      "__________________________________________________________________________________________________\n",
      "efficientnet-b5 (Functional)    (None, 16, 16, 2048) 28512656    input_21[0][0]                   \n",
      "__________________________________________________________________________________________________\n",
      "input_30 (InputLayer)           [(None, 5)]          0                                            \n",
      "__________________________________________________________________________________________________\n",
      "global_average_pooling2d_2 (Glo (None, 2048)         0           efficientnet-b5[0][0]            \n",
      "__________________________________________________________________________________________________\n",
      "gaussian_noise_2 (GaussianNoise (None, 5)            0           input_30[0][0]                   \n",
      "__________________________________________________________________________________________________\n",
      "concatenate_2 (Concatenate)     (None, 2053)         0           global_average_pooling2d_2[0][0] \n",
      "                                                                 gaussian_noise_2[0][0]           \n",
      "__________________________________________________________________________________________________\n",
      "dropout_2 (Dropout)             (None, 2053)         0           concatenate_2[0][0]              \n",
      "__________________________________________________________________________________________________\n",
      "dense_2 (Dense)                 (None, 1)            2054        dropout_2[0][0]                  \n",
      "==================================================================================================\n",
      "Total params: 28,514,710\n",
      "Trainable params: 28,341,974\n",
      "Non-trainable params: 172,736\n",
      "__________________________________________________________________________________________________\n"
     ]
    }
   ],
   "source": [
    "model.summary()\n",
    "# model.compile(optimizer=tf.keras.optimizers.Adam(learning_rate=0.01), loss='mae')  # original is lr=0.001"
   ]
  },
  {
   "cell_type": "code",
   "execution_count": 85,
   "metadata": {},
   "outputs": [],
   "source": [
    "def score(fvc_true, fvc_pred, sigma):\n",
    "    sigma_clip = np.maximum(sigma, 70) # changed from 70, trie 66.7 too\n",
    "    delta = np.abs(fvc_true - fvc_pred)\n",
    "    delta = np.minimum(delta, 1000)\n",
    "    sq2 = np.sqrt(2)\n",
    "    metric = (delta / sigma_clip)*sq2 + np.log(sigma_clip* sq2)\n",
    "    return np.mean(metric)\n",
    "subs = []\n",
    "q = -1"
   ]
  },
  {
   "cell_type": "code",
   "execution_count": 90,
   "metadata": {},
   "outputs": [
    {
     "name": "stdout",
     "output_type": "stream",
     "text": [
      "1\n"
     ]
    }
   ],
   "source": [
    "q = -1\n",
    "# with open('../input/trainefn/q.txt', 'r') as f:\n",
    "#     q=float(f.readlines()[0].strip())\n",
    "print(q)"
   ]
  },
  {
   "cell_type": "code",
   "execution_count": 91,
   "metadata": {},
   "outputs": [],
   "source": [
    "sub = pd.read_csv('/home/jacoblamkey/Documents/Data/.kaggle/sample_submission.csv') \n",
    "test = pd.read_csv('/home/jacoblamkey/Documents/Data/.kaggle/test.csv') \n",
    "A_test, B_test, P_test,W, FVC= {}, {}, {},{},{} \n",
    "STD, WEEK = {}, {} "
   ]
  },
  {
   "cell_type": "code",
   "execution_count": 92,
   "metadata": {},
   "outputs": [
    {
     "name": "stdout",
     "output_type": "stream",
     "text": [
      "                     Patient  Weeks   FVC    Percent  Age   Sex SmokingStatus  \\\n",
      "4  ID00426637202313170790466      0  2925  71.824968   73  Male  Never smoked   \n",
      "3  ID00423637202312137826377     17  3294  79.258903   72  Male     Ex-smoker   \n",
      "0  ID00419637202311204720264      6  3020  70.186855   73  Male     Ex-smoker   \n",
      "2  ID00422637202311677017371      6  1930  76.672493   73  Male     Ex-smoker   \n",
      "1  ID00421637202311550012437     15  2739  82.045291   68  Male     Ex-smoker   \n",
      "\n",
      "   MinWeeks    MinFVC  \n",
      "4         0  0.729472  \n",
      "3        17  1.000000  \n",
      "0         6  0.799120  \n",
      "2         6  0.000000  \n",
      "1        15  0.593109  \n"
     ]
    }
   ],
   "source": [
    "test = expandFE(test)\n",
    "# test = expandFVC_Percent(test)"
   ]
  },
  {
   "cell_type": "code",
   "execution_count": 93,
   "metadata": {},
   "outputs": [
    {
     "name": "stdout",
     "output_type": "stream",
     "text": [
      "[                      Patient_Week          FVC  Confidence\n",
      "0    ID00419637202311204720264_-12  3021.919500   72.106355\n",
      "1    ID00421637202311550012437_-12  2741.555224   84.600515\n",
      "2    ID00422637202311677017371_-12  1931.374388   78.046881\n",
      "3    ID00423637202312137826377_-12  3297.289115   82.548018\n",
      "4    ID00426637202313170790466_-12  2925.697315   72.522283\n",
      "..                             ...          ...         ...\n",
      "725  ID00419637202311204720264_133  3006.456862   83.729993\n",
      "726  ID00421637202311550012437_133  2727.832727   93.212564\n",
      "727  ID00422637202311677017371_133  1920.302932   86.369562\n",
      "728  ID00423637202312137826377_133  3280.843540   92.415363\n",
      "729  ID00426637202313170790466_133  2917.271427   79.553541\n",
      "\n",
      "[730 rows x 3 columns]]\n"
     ]
    }
   ],
   "source": [
    "for p in test.Patient.unique():\n",
    "    x = [] \n",
    "    tab = [] \n",
    "    ldir = os.listdir(f'/home/jacoblamkey/Documents/Data/.kaggle/test/{p}/')\n",
    "    for i in ldir:\n",
    "        if int(i[:-4]) / len(ldir) < 0.8 and int(i[:-4]) / len(ldir) > 0.15:\n",
    "            x.append(get_img(f'/home/jacoblamkey/Documents/Data/.kaggle/test/{p}/{i}')) \n",
    "            tab.append(get_tab(test.loc[test.Patient == p, :])) \n",
    "    if len(x) <= 1:\n",
    "        continue\n",
    "    tab = np.array(tab) \n",
    "\n",
    "    x = np.expand_dims(x, axis=-1) \n",
    "    _a = model.predict([x, tab]) \n",
    "    a = np.quantile(_a, q)\n",
    "    A_test[p] = a\n",
    "    B_test[p] = test.FVC.values[test.Patient == p] - a*test.Weeks.values[test.Patient == p]\n",
    "    P_test[p] = test.Percent.values[test.Patient == p] \n",
    "    WEEK[p] = test.Weeks.values[test.Patient == p]\n",
    "\n",
    "\n",
    "for k in sub.Patient_Week.values:\n",
    "    p, w = k.split('_')\n",
    "    w = int(w) \n",
    "\n",
    "    fvc = A_test[p] * w + B_test[p]\n",
    "    sub.loc[sub.Patient_Week == k, 'FVC'] = fvc\n",
    "    sub.loc[sub.Patient_Week == k, 'Confidence'] = (\n",
    "        P_test[p] - A_test[p] * abs(WEEK[p] - w) \n",
    ") \n",
    "\n",
    "_sub = sub[[\"Patient_Week\",\"FVC\",\"Confidence\"]].copy()\n",
    "subs.append(_sub)\n",
    "print(subs)"
   ]
  },
  {
   "cell_type": "code",
   "execution_count": 94,
   "metadata": {},
   "outputs": [
    {
     "name": "stdout",
     "output_type": "stream",
     "text": [
      "1\n",
      "                      Patient_Week          FVC  Confidence\n",
      "662  ID00422637202311677017371_120  1921.295545   85.376948\n",
      "647  ID00422637202311677017371_117  1921.524610   85.147884\n",
      "246   ID00421637202311550012437_37  2736.917966   84.127325\n",
      "269   ID00426637202313170790466_41  2922.617508   74.207460\n",
      "317   ID00422637202311677017371_51  1926.564031   80.108462\n"
     ]
    }
   ],
   "source": [
    "N = len(subs)\n",
    "print(N)\n",
    "sub = subs[0].copy() # ref\n",
    "sub[\"FVC\"] = 0\n",
    "sub[\"Confidence\"] = 0\n",
    "for i in range(N):\n",
    "    sub[\"FVC\"] += subs[0][\"FVC\"] * (1/N)\n",
    "    sub[\"Confidence\"] += subs[0][\"Confidence\"] * (1/N)\n",
    "sub[[\"Patient_Week\",\"FVC\",\"Confidence\"]].to_csv(\"submission_img.csv\", index=False)\n",
    "img_sub = sub[[\"Patient_Week\",\"FVC\",\"Confidence\"]].copy()\n",
    "print(img_sub.sample(5))"
   ]
  },
  {
   "cell_type": "code",
   "execution_count": 19,
   "metadata": {},
   "outputs": [
    {
     "ename": "RuntimeError",
     "evalue": "Expected 5-dimensional input for 5-dimensional weight [48, 1, 3, 3, 3], but got 4-dimensional input of size [2, 513, 513, 2] instead",
     "output_type": "error",
     "traceback": [
      "\u001b[0;31m---------------------------------------------------------------------------\u001b[0m",
      "\u001b[0;31mRuntimeError\u001b[0m                              Traceback (most recent call last)",
      "\u001b[0;32m<ipython-input-19-badb717ba938>\u001b[0m in \u001b[0;36m<module>\u001b[0;34m\u001b[0m\n\u001b[1;32m      5\u001b[0m \u001b[0;34m\u001b[0m\u001b[0m\n\u001b[1;32m      6\u001b[0m \u001b[0;32mfrom\u001b[0m \u001b[0mtorchsummary\u001b[0m \u001b[0;32mimport\u001b[0m \u001b[0msummary\u001b[0m\u001b[0;34m\u001b[0m\u001b[0;34m\u001b[0m\u001b[0m\n\u001b[0;32m----> 7\u001b[0;31m \u001b[0msummary\u001b[0m\u001b[0;34m(\u001b[0m\u001b[0mmodel\u001b[0m\u001b[0;34m,\u001b[0m \u001b[0minput_size\u001b[0m\u001b[0;34m=\u001b[0m\u001b[0;34m(\u001b[0m\u001b[0;36m512\u001b[0m\u001b[0;34m,\u001b[0m \u001b[0;36m512\u001b[0m\u001b[0;34m,\u001b[0m \u001b[0;36m1\u001b[0m\u001b[0;34m)\u001b[0m\u001b[0;34m)\u001b[0m\u001b[0;34m\u001b[0m\u001b[0;34m\u001b[0m\u001b[0m\n\u001b[0m\u001b[1;32m      8\u001b[0m \u001b[0;34m\u001b[0m\u001b[0m\n\u001b[1;32m      9\u001b[0m \u001b[0mmodel\u001b[0m \u001b[0;34m=\u001b[0m \u001b[0mmodel\u001b[0m\u001b[0;34m.\u001b[0m\u001b[0mcuda\u001b[0m\u001b[0;34m(\u001b[0m\u001b[0;34m)\u001b[0m\u001b[0;34m\u001b[0m\u001b[0;34m\u001b[0m\u001b[0m\n",
      "\u001b[0;32m~/anaconda3/envs/tf/lib/python3.7/site-packages/torchsummary/torchsummary.py\u001b[0m in \u001b[0;36msummary\u001b[0;34m(model, input_size, batch_size, device)\u001b[0m\n\u001b[1;32m     70\u001b[0m     \u001b[0;31m# make a forward pass\u001b[0m\u001b[0;34m\u001b[0m\u001b[0;34m\u001b[0m\u001b[0;34m\u001b[0m\u001b[0m\n\u001b[1;32m     71\u001b[0m     \u001b[0;31m# print(x.shape)\u001b[0m\u001b[0;34m\u001b[0m\u001b[0;34m\u001b[0m\u001b[0;34m\u001b[0m\u001b[0m\n\u001b[0;32m---> 72\u001b[0;31m     \u001b[0mmodel\u001b[0m\u001b[0;34m(\u001b[0m\u001b[0;34m*\u001b[0m\u001b[0mx\u001b[0m\u001b[0;34m)\u001b[0m\u001b[0;34m\u001b[0m\u001b[0;34m\u001b[0m\u001b[0m\n\u001b[0m\u001b[1;32m     73\u001b[0m \u001b[0;34m\u001b[0m\u001b[0m\n\u001b[1;32m     74\u001b[0m     \u001b[0;31m# remove these hooks\u001b[0m\u001b[0;34m\u001b[0m\u001b[0;34m\u001b[0m\u001b[0;34m\u001b[0m\u001b[0m\n",
      "\u001b[0;32m~/anaconda3/envs/tf/lib/python3.7/site-packages/torch/nn/modules/module.py\u001b[0m in \u001b[0;36m_call_impl\u001b[0;34m(self, *input, **kwargs)\u001b[0m\n\u001b[1;32m    720\u001b[0m             \u001b[0mresult\u001b[0m \u001b[0;34m=\u001b[0m \u001b[0mself\u001b[0m\u001b[0;34m.\u001b[0m\u001b[0m_slow_forward\u001b[0m\u001b[0;34m(\u001b[0m\u001b[0;34m*\u001b[0m\u001b[0minput\u001b[0m\u001b[0;34m,\u001b[0m \u001b[0;34m**\u001b[0m\u001b[0mkwargs\u001b[0m\u001b[0;34m)\u001b[0m\u001b[0;34m\u001b[0m\u001b[0;34m\u001b[0m\u001b[0m\n\u001b[1;32m    721\u001b[0m         \u001b[0;32melse\u001b[0m\u001b[0;34m:\u001b[0m\u001b[0;34m\u001b[0m\u001b[0;34m\u001b[0m\u001b[0m\n\u001b[0;32m--> 722\u001b[0;31m             \u001b[0mresult\u001b[0m \u001b[0;34m=\u001b[0m \u001b[0mself\u001b[0m\u001b[0;34m.\u001b[0m\u001b[0mforward\u001b[0m\u001b[0;34m(\u001b[0m\u001b[0;34m*\u001b[0m\u001b[0minput\u001b[0m\u001b[0;34m,\u001b[0m \u001b[0;34m**\u001b[0m\u001b[0mkwargs\u001b[0m\u001b[0;34m)\u001b[0m\u001b[0;34m\u001b[0m\u001b[0;34m\u001b[0m\u001b[0m\n\u001b[0m\u001b[1;32m    723\u001b[0m         for hook in itertools.chain(\n\u001b[1;32m    724\u001b[0m                 \u001b[0m_global_forward_hooks\u001b[0m\u001b[0;34m.\u001b[0m\u001b[0mvalues\u001b[0m\u001b[0;34m(\u001b[0m\u001b[0;34m)\u001b[0m\u001b[0;34m,\u001b[0m\u001b[0;34m\u001b[0m\u001b[0;34m\u001b[0m\u001b[0m\n",
      "\u001b[0;32m~/anaconda3/envs/tf/lib/python3.7/site-packages/efficientnet_pytorch_3d/model.py\u001b[0m in \u001b[0;36mforward\u001b[0;34m(self, inputs)\u001b[0m\n\u001b[1;32m    189\u001b[0m         \u001b[0mbs\u001b[0m \u001b[0;34m=\u001b[0m \u001b[0minputs\u001b[0m\u001b[0;34m.\u001b[0m\u001b[0msize\u001b[0m\u001b[0;34m(\u001b[0m\u001b[0;36m0\u001b[0m\u001b[0;34m)\u001b[0m\u001b[0;34m\u001b[0m\u001b[0;34m\u001b[0m\u001b[0m\n\u001b[1;32m    190\u001b[0m         \u001b[0;31m# Convolution layers\u001b[0m\u001b[0;34m\u001b[0m\u001b[0;34m\u001b[0m\u001b[0;34m\u001b[0m\u001b[0m\n\u001b[0;32m--> 191\u001b[0;31m         \u001b[0mx\u001b[0m \u001b[0;34m=\u001b[0m \u001b[0mself\u001b[0m\u001b[0;34m.\u001b[0m\u001b[0mextract_features\u001b[0m\u001b[0;34m(\u001b[0m\u001b[0minputs\u001b[0m\u001b[0;34m)\u001b[0m\u001b[0;34m\u001b[0m\u001b[0;34m\u001b[0m\u001b[0m\n\u001b[0m\u001b[1;32m    192\u001b[0m \u001b[0;34m\u001b[0m\u001b[0m\n\u001b[1;32m    193\u001b[0m         \u001b[0;31m# Pooling and final linear layer\u001b[0m\u001b[0;34m\u001b[0m\u001b[0;34m\u001b[0m\u001b[0;34m\u001b[0m\u001b[0m\n",
      "\u001b[0;32m~/anaconda3/envs/tf/lib/python3.7/site-packages/efficientnet_pytorch_3d/model.py\u001b[0m in \u001b[0;36mextract_features\u001b[0;34m(self, inputs)\u001b[0m\n\u001b[1;32m    171\u001b[0m \u001b[0;34m\u001b[0m\u001b[0m\n\u001b[1;32m    172\u001b[0m         \u001b[0;31m# Stem\u001b[0m\u001b[0;34m\u001b[0m\u001b[0;34m\u001b[0m\u001b[0;34m\u001b[0m\u001b[0m\n\u001b[0;32m--> 173\u001b[0;31m         \u001b[0mx\u001b[0m \u001b[0;34m=\u001b[0m \u001b[0mself\u001b[0m\u001b[0;34m.\u001b[0m\u001b[0m_swish\u001b[0m\u001b[0;34m(\u001b[0m\u001b[0mself\u001b[0m\u001b[0;34m.\u001b[0m\u001b[0m_bn0\u001b[0m\u001b[0;34m(\u001b[0m\u001b[0mself\u001b[0m\u001b[0;34m.\u001b[0m\u001b[0m_conv_stem\u001b[0m\u001b[0;34m(\u001b[0m\u001b[0minputs\u001b[0m\u001b[0;34m)\u001b[0m\u001b[0;34m)\u001b[0m\u001b[0;34m)\u001b[0m\u001b[0;34m\u001b[0m\u001b[0;34m\u001b[0m\u001b[0m\n\u001b[0m\u001b[1;32m    174\u001b[0m \u001b[0;34m\u001b[0m\u001b[0m\n\u001b[1;32m    175\u001b[0m         \u001b[0;31m# Blocks\u001b[0m\u001b[0;34m\u001b[0m\u001b[0;34m\u001b[0m\u001b[0;34m\u001b[0m\u001b[0m\n",
      "\u001b[0;32m~/anaconda3/envs/tf/lib/python3.7/site-packages/torch/nn/modules/module.py\u001b[0m in \u001b[0;36m_call_impl\u001b[0;34m(self, *input, **kwargs)\u001b[0m\n\u001b[1;32m    720\u001b[0m             \u001b[0mresult\u001b[0m \u001b[0;34m=\u001b[0m \u001b[0mself\u001b[0m\u001b[0;34m.\u001b[0m\u001b[0m_slow_forward\u001b[0m\u001b[0;34m(\u001b[0m\u001b[0;34m*\u001b[0m\u001b[0minput\u001b[0m\u001b[0;34m,\u001b[0m \u001b[0;34m**\u001b[0m\u001b[0mkwargs\u001b[0m\u001b[0;34m)\u001b[0m\u001b[0;34m\u001b[0m\u001b[0;34m\u001b[0m\u001b[0m\n\u001b[1;32m    721\u001b[0m         \u001b[0;32melse\u001b[0m\u001b[0;34m:\u001b[0m\u001b[0;34m\u001b[0m\u001b[0;34m\u001b[0m\u001b[0m\n\u001b[0;32m--> 722\u001b[0;31m             \u001b[0mresult\u001b[0m \u001b[0;34m=\u001b[0m \u001b[0mself\u001b[0m\u001b[0;34m.\u001b[0m\u001b[0mforward\u001b[0m\u001b[0;34m(\u001b[0m\u001b[0;34m*\u001b[0m\u001b[0minput\u001b[0m\u001b[0;34m,\u001b[0m \u001b[0;34m**\u001b[0m\u001b[0mkwargs\u001b[0m\u001b[0;34m)\u001b[0m\u001b[0;34m\u001b[0m\u001b[0;34m\u001b[0m\u001b[0m\n\u001b[0m\u001b[1;32m    723\u001b[0m         for hook in itertools.chain(\n\u001b[1;32m    724\u001b[0m                 \u001b[0m_global_forward_hooks\u001b[0m\u001b[0;34m.\u001b[0m\u001b[0mvalues\u001b[0m\u001b[0;34m(\u001b[0m\u001b[0;34m)\u001b[0m\u001b[0;34m,\u001b[0m\u001b[0;34m\u001b[0m\u001b[0;34m\u001b[0m\u001b[0m\n",
      "\u001b[0;32m~/anaconda3/envs/tf/lib/python3.7/site-packages/efficientnet_pytorch_3d/utils.py\u001b[0m in \u001b[0;36mforward\u001b[0;34m(self, x)\u001b[0m\n\u001b[1;32m    144\u001b[0m     \u001b[0;32mdef\u001b[0m \u001b[0mforward\u001b[0m\u001b[0;34m(\u001b[0m\u001b[0mself\u001b[0m\u001b[0;34m,\u001b[0m \u001b[0mx\u001b[0m\u001b[0;34m)\u001b[0m\u001b[0;34m:\u001b[0m\u001b[0;34m\u001b[0m\u001b[0;34m\u001b[0m\u001b[0m\n\u001b[1;32m    145\u001b[0m         \u001b[0mx\u001b[0m \u001b[0;34m=\u001b[0m \u001b[0mself\u001b[0m\u001b[0;34m.\u001b[0m\u001b[0mstatic_padding\u001b[0m\u001b[0;34m(\u001b[0m\u001b[0mx\u001b[0m\u001b[0;34m)\u001b[0m\u001b[0;34m\u001b[0m\u001b[0;34m\u001b[0m\u001b[0m\n\u001b[0;32m--> 146\u001b[0;31m         \u001b[0mx\u001b[0m \u001b[0;34m=\u001b[0m \u001b[0mF\u001b[0m\u001b[0;34m.\u001b[0m\u001b[0mconv3d\u001b[0m\u001b[0;34m(\u001b[0m\u001b[0mx\u001b[0m\u001b[0;34m,\u001b[0m \u001b[0mself\u001b[0m\u001b[0;34m.\u001b[0m\u001b[0mweight\u001b[0m\u001b[0;34m,\u001b[0m \u001b[0mself\u001b[0m\u001b[0;34m.\u001b[0m\u001b[0mbias\u001b[0m\u001b[0;34m,\u001b[0m \u001b[0mself\u001b[0m\u001b[0;34m.\u001b[0m\u001b[0mstride\u001b[0m\u001b[0;34m,\u001b[0m \u001b[0mself\u001b[0m\u001b[0;34m.\u001b[0m\u001b[0mpadding\u001b[0m\u001b[0;34m,\u001b[0m \u001b[0mself\u001b[0m\u001b[0;34m.\u001b[0m\u001b[0mdilation\u001b[0m\u001b[0;34m,\u001b[0m \u001b[0mself\u001b[0m\u001b[0;34m.\u001b[0m\u001b[0mgroups\u001b[0m\u001b[0;34m)\u001b[0m\u001b[0;34m\u001b[0m\u001b[0;34m\u001b[0m\u001b[0m\n\u001b[0m\u001b[1;32m    147\u001b[0m         \u001b[0;32mreturn\u001b[0m \u001b[0mx\u001b[0m\u001b[0;34m\u001b[0m\u001b[0;34m\u001b[0m\u001b[0m\n\u001b[1;32m    148\u001b[0m \u001b[0;34m\u001b[0m\u001b[0m\n",
      "\u001b[0;31mRuntimeError\u001b[0m: Expected 5-dimensional input for 5-dimensional weight [48, 1, 3, 3, 3], but got 4-dimensional input of size [2, 513, 513, 2] instead"
     ]
    }
   ],
   "source": [
    "\n",
    "from efficientnet_pytorch_3d import EfficientNet3D\n",
    "import torch\n",
    "\n",
    "model = EfficientNet3D.from_name(\"efficientnet-b5\", override_params={'num_classes': 3}, in_channels=9)\n",
    "\n",
    "from torchsummary import summary\n",
    "summary(model, input_size=(512, 512, 1))\n",
    "\n",
    "model = model.cuda()\n",
    "inputs = torch.randn(((5,))).cuda()\n",
    "labels = torch.tensor(512, 512, 1).cuda()\n",
    "# test forward\n",
    "num_classes = 3\n",
    "\n",
    "criterion = torch.nn.CrossEntropyLoss()\n",
    "optimizer = torch.optim.SGD(model.parameters(), lr=0.001, momentum=0.9)\n",
    "\n",
    "model.train()\n",
    "for epoch in range(2):\n",
    "    # zero the parameter gradients\n",
    "    optimizer.zero_grad()\n",
    "\n",
    "    # forward + backward + optimize\n",
    "    outputs = model(inputs)\n",
    "    loss = criterion(outputs, labels)\n",
    "    loss.backward()\n",
    "    optimizer.step()\n",
    "\n",
    "    # print statistics\n",
    "    print('[%d] loss: %.3f' % (epoch + 1, loss.item()))\n",
    "\n",
    "print('Finished Training')"
   ]
  },
  {
   "cell_type": "code",
   "execution_count": 95,
   "metadata": {},
   "outputs": [
    {
     "name": "stdout",
     "output_type": "stream",
     "text": [
      "add infos\n",
      "(1535, 8) (5, 8) (730, 10) (2270, 10)\n",
      "176 5 5 176\n"
     ]
    }
   ],
   "source": [
    "ROOT = \"/home/jacoblamkey/Documents/Data/.kaggle\"\n",
    "BATCH_SIZE=128*strategy.num_replicas_in_sync\n",
    "\n",
    "tr = pd.read_csv(f\"{ROOT}/train.csv\")\n",
    "tr.drop_duplicates(keep=False, inplace=True, subset=['Patient','Weeks'])\n",
    "chunk = pd.read_csv(f\"{ROOT}/test.csv\")\n",
    "\n",
    "print(\"add infos\")\n",
    "sub = pd.read_csv(f\"{ROOT}/sample_submission.csv\")\n",
    "sub['Patient'] = sub['Patient_Week'].apply(lambda x:x.split('_')[0])\n",
    "sub['Weeks'] = sub['Patient_Week'].apply(lambda x: int(x.split('_')[-1]))\n",
    "sub =  sub[['Patient','Weeks','Confidence','Patient_Week']]\n",
    "sub = sub.merge(chunk.drop('Weeks', axis=1), on=\"Patient\")\n",
    "tr['WHERE'] = 'train'\n",
    "chunk['WHERE'] = 'val'\n",
    "sub['WHERE'] = 'test'\n",
    "data = tr.append([chunk, sub])\n",
    "print(tr.shape, chunk.shape, sub.shape, data.shape)\n",
    "print(tr.Patient.nunique(), chunk.Patient.nunique(), sub.Patient.nunique(), \n",
    "      data.Patient.nunique())"
   ]
  },
  {
   "cell_type": "code",
   "execution_count": 96,
   "metadata": {},
   "outputs": [
    {
     "name": "stdout",
     "output_type": "stream",
     "text": [
      "['Male', 'Female', 'Ex-smoker', 'Never smoked', 'Currently smokes', 'age', 'percent', 'week', 'BASE']\n"
     ]
    }
   ],
   "source": [
    "data['min_week'] = data['Weeks']\n",
    "data.loc[data.WHERE=='test','min_week'] = np.nan\n",
    "data['min_week'] = data.groupby('Patient')['min_week'].transform('min')\n",
    "base = data.loc[data.Weeks == data.min_week]\n",
    "base = base[['Patient','FVC']].copy()\n",
    "base.columns = ['Patient','min_FVC']\n",
    "base['nb'] = 1\n",
    "base['nb'] = base.groupby('Patient')['nb'].transform('cumsum')\n",
    "base = base[base.nb==1]\n",
    "base.drop('nb', axis=1, inplace=True)\n",
    "data = data.merge(base, on='Patient', how='left')\n",
    "data['base_week'] = data['Weeks'] - data['min_week']\n",
    "del base\n",
    "COLS = ['Sex','SmokingStatus'] #,'Age'\n",
    "FE = []\n",
    "for col in COLS:\n",
    "    for mod in data[col].unique():\n",
    "        FE.append(mod)\n",
    "        data[mod] = (data[col] == mod).astype(int)\n",
    "#\n",
    "data['age'] = (data['Age'] - data['Age'].min() ) / ( data['Age'].max() - data['Age'].min() )\n",
    "data['BASE'] = (data['min_FVC'] - data['min_FVC'].min() ) / ( data['min_FVC'].max() - data['min_FVC'].min() )\n",
    "data['week'] = (data['base_week'] - data['base_week'].min() ) / ( data['base_week'].max() - data['base_week'].min() )\n",
    "data['percent'] = (data['Percent'] - data['Percent'].min() ) / ( data['Percent'].max() - data['Percent'].min() )\n",
    "data['FVC_Percent'] = data['FVC'] / data['Percent']\n",
    "# FE += ['age','percent','week','BASE', 'FVC_Percent']\n",
    "FE += ['age','percent','week','BASE']\n",
    "tr = data.loc[data.WHERE=='train']\n",
    "chunk = data.loc[data.WHERE=='val']\n",
    "sub = data.loc[data.WHERE=='test']\n",
    "del data\n",
    "C1, C2 = tf.constant(70, dtype='float32'), tf.constant(1000, dtype=\"float32\")\n",
    "def score(y_true, y_pred):\n",
    "    tf.dtypes.cast(y_true, tf.float32)\n",
    "    tf.dtypes.cast(y_pred, tf.float32)\n",
    "    sigma = y_pred[:, 2] - y_pred[:, 0]\n",
    "    fvc_pred = y_pred[:, 1]\n",
    "    \n",
    "    #sigma_clip = sigma + C1\n",
    "    sigma_clip = tf.maximum(sigma, C1)\n",
    "    delta = tf.abs(y_true[:, 0] - fvc_pred)\n",
    "    delta = tf.minimum(delta, C2)\n",
    "    sq2 = tf.sqrt( tf.dtypes.cast(2, dtype=tf.float32) )\n",
    "    metric = (delta / sigma_clip)*sq2 + tf.math.log(sigma_clip* sq2)\n",
    "    return K.mean(metric)\n",
    "\n",
    "def qloss(y_true, y_pred):\n",
    "    # Pinball loss for multiple quantiles\n",
    "    qs = [0.2, 0.50, 0.8]\n",
    "    q = tf.constant(np.array([qs]), dtype=tf.float32)\n",
    "    e = y_true - y_pred\n",
    "    v = tf.maximum(q*e, (q-1)*e)\n",
    "    return K.mean(v)\n",
    "\n",
    "def mloss(_lambda):\n",
    "    def loss(y_true, y_pred):\n",
    "        return _lambda * qloss(y_true, y_pred) + (1 - _lambda)*score(y_true, y_pred)\n",
    "    return loss\n",
    "\n",
    "\n",
    "def make_model(nh):\n",
    "    z = L.Input((nh,), name=\"Patient\")\n",
    "    x = L.Dense(100, activation=\"relu\", name=\"d1\")(z)\n",
    "    x = L.Dense(100, activation=\"relu\", name=\"d2\")(x)\n",
    "    p1 = L.Dense(3, activation=\"linear\", name=\"p1\")(x)\n",
    "    p2 = L.Dense(3, activation=\"relu\", name=\"p2\")(x)\n",
    "    preds = L.Lambda(lambda x: x[0] + tf.cumsum(x[1], axis=1), \n",
    "                     name=\"preds\")([p1, p2])\n",
    "    \n",
    "    model = M.Model(z, preds, name=\"CNN\")\n",
    "    model.compile(loss=mloss(0.65), optimizer=tf.keras.optimizers.Adam(lr=0.1, beta_1=0.9, beta_2=0.999, epsilon=None, decay=0.01, amsgrad=False), metrics=[score])\n",
    "    return model\n",
    "print(FE)"
   ]
  },
  {
   "cell_type": "code",
   "execution_count": 97,
   "metadata": {},
   "outputs": [
    {
     "name": "stdout",
     "output_type": "stream",
     "text": [
      "(1535, 9)\n",
      "(730, 9)\n",
      "9\n",
      "Model: \"CNN\"\n",
      "__________________________________________________________________________________________________\n",
      "Layer (type)                    Output Shape         Param #     Connected to                     \n",
      "==================================================================================================\n",
      "Patient (InputLayer)            [(None, 9)]          0                                            \n",
      "__________________________________________________________________________________________________\n",
      "d1 (Dense)                      (None, 100)          1000        Patient[0][0]                    \n",
      "__________________________________________________________________________________________________\n",
      "d2 (Dense)                      (None, 100)          10100       d1[0][0]                         \n",
      "__________________________________________________________________________________________________\n",
      "p1 (Dense)                      (None, 3)            303         d2[0][0]                         \n",
      "__________________________________________________________________________________________________\n",
      "p2 (Dense)                      (None, 3)            303         d2[0][0]                         \n",
      "__________________________________________________________________________________________________\n",
      "preds (Lambda)                  (None, 3)            0           p1[0][0]                         \n",
      "                                                                 p2[0][0]                         \n",
      "==================================================================================================\n",
      "Total params: 11,706\n",
      "Trainable params: 11,706\n",
      "Non-trainable params: 0\n",
      "__________________________________________________________________________________________________\n",
      "None\n",
      "11706\n"
     ]
    }
   ],
   "source": [
    "y = tr['FVC'].values  # train target\n",
    "z = tr[FE].values  # fetures (1535, 9)\n",
    "print(z.shape)\n",
    "ze = sub[FE].values  # fetures of submission (730, 9) e: estimate\n",
    "print(ze.shape) \n",
    "nh = z.shape[1] \n",
    "print(nh)  # feature numbers (9,)\n",
    "pe = np.zeros((ze.shape[0], 3))  #estimate of prediction\n",
    "pred = np.zeros((z.shape[0], 3))  # prediction of truth ground\n",
    "with strategy.scope():    \n",
    "    net = make_model(nh)\n",
    "print(net.summary())\n",
    "print(net.count_params())\n",
    "NFOLD = 5 # originally 5\n",
    "kf = KFold(n_splits=NFOLD)"
   ]
  },
  {
   "cell_type": "code",
   "execution_count": 98,
   "metadata": {},
   "outputs": [
    {
     "name": "stdout",
     "output_type": "stream",
     "text": [
      "FOLD 1\n",
      "train [34.47637176513672, 6.513923645019531]\n",
      "val [39.85040283203125, 6.86565637588501]\n",
      "predict val...\n",
      "predict test...\n",
      "FOLD 2\n",
      "train [34.06155776977539, 6.523756504058838]\n",
      "val [45.42940902709961, 7.124200820922852]\n",
      "predict val...\n",
      "predict test...\n",
      "FOLD 3\n",
      "train [32.638267517089844, 6.452246189117432]\n",
      "val [46.845672607421875, 6.67275333404541]\n",
      "predict val...\n",
      "predict test...\n",
      "FOLD 4\n",
      "train [33.55527877807617, 6.483666896820068]\n",
      "val [34.03110885620117, 6.528132438659668]\n",
      "predict val...\n",
      "predict test...\n",
      "FOLD 5\n",
      "train [33.570655822753906, 6.49782657623291]\n",
      "val [42.6612434387207, 6.763314247131348]\n",
      "predict val...\n",
      "predict test...\n"
     ]
    }
   ],
   "source": [
    "cnt = 0\n",
    "EPOCHS = 800\n",
    "y = y.astype(np.float32)\n",
    "for tr_idx, val_idx in kf.split(z):\n",
    "    cnt += 1\n",
    "    print(f\"FOLD {cnt}\")\n",
    "    net = make_model(nh)\n",
    "    net.fit(z[tr_idx], y[tr_idx], batch_size=BATCH_SIZE, epochs=EPOCHS, \n",
    "            validation_data=(z[val_idx], y[val_idx]), verbose=0) #\n",
    "    print(\"train\", net.evaluate(z[tr_idx], y[tr_idx], verbose=0, batch_size=BATCH_SIZE))\n",
    "    print(\"val\", net.evaluate(z[val_idx], y[val_idx], verbose=0, batch_size=BATCH_SIZE))\n",
    "    print(\"predict val...\")\n",
    "    pred[val_idx] = net.predict(z[val_idx], batch_size=BATCH_SIZE, verbose=0)\n",
    "    print(\"predict test...\")\n",
    "    pe += net.predict(ze, batch_size=BATCH_SIZE, verbose=0) / NFOLD"
   ]
  },
  {
   "cell_type": "code",
   "execution_count": 99,
   "metadata": {},
   "outputs": [
    {
     "name": "stdout",
     "output_type": "stream",
     "text": [
      "145.08138479425386 233.7395183351995\n"
     ]
    },
    {
     "data": {
      "image/png": "[encoded data removed]",
      "text/plain": [
       "<Figure size 432x288 with 1 Axes>"
      ]
     },
     "metadata": {
      "needs_background": "light"
     },
     "output_type": "display_data"
    },
    {
     "name": "stdout",
     "output_type": "stream",
     "text": [
      "78.295166015625 233.7395183351995 386.01806640625 1.0\n"
     ]
    },
    {
     "data": {
      "image/png": "[encoded data removed]",
      "text/plain": [
       "<Figure size 432x288 with 1 Axes>"
      ]
     },
     "metadata": {
      "needs_background": "light"
     },
     "output_type": "display_data"
    }
   ],
   "source": [
    "sigma_opt = mean_absolute_error(y, pred[:, 1])\n",
    "unc = pred[:,2] - pred[:, 0]\n",
    "sigma_mean = np.mean(unc)\n",
    "print(sigma_opt, sigma_mean)\n",
    "idxs = np.random.randint(0, y.shape[0], 100)\n",
    "plt.plot(y[idxs], label=\"ground truth\")\n",
    "plt.plot(pred[idxs, 0], label=\"q25\")\n",
    "plt.plot(pred[idxs, 1], label=\"q50\")\n",
    "plt.plot(pred[idxs, 2], label=\"q75\")\n",
    "plt.legend(loc=\"best\")\n",
    "plt.show()\n",
    "print(unc.min(), unc.mean(), unc.max(), (unc>=0).mean())\n",
    "plt.hist(unc)\n",
    "plt.title(\"uncertainty in prediction\")\n",
    "plt.show()\n",
    "sub.head()\n",
    "# PREDICTION\n",
    "sub['FVC1'] = 1.*pe[:, 1]\n",
    "sub['Confidence1'] = pe[:, 2] - pe[:, 0]\n",
    "subm = sub[['Patient_Week','FVC','Confidence','FVC1','Confidence1']].copy()\n",
    "subm.loc[~subm.FVC1.isnull()].head(10)\n",
    "subm.loc[~subm.FVC1.isnull(),'FVC'] = subm.loc[~subm.FVC1.isnull(),'FVC1']\n",
    "if sigma_mean<70:\n",
    "    subm['Confidence'] = sigma_opt\n",
    "else:\n",
    "    subm.loc[~subm.FVC1.isnull(),'Confidence'] = subm.loc[~subm.FVC1.isnull(),'Confidence1']\n",
    "subm.head()\n",
    "subm.describe().T\n",
    "otest = pd.read_csv('/home/jacoblamkey/Documents/Data/.kaggle/test.csv')\n",
    "for i in range(len(otest)):\n",
    "    subm.loc[subm['Patient_Week']==otest.Patient[i]+'_'+str(otest.Weeks[i]), 'FVC'] = otest.FVC[i]\n",
    "    subm.loc[subm['Patient_Week']==otest.Patient[i]+'_'+str(otest.Weeks[i]), 'Confidence'] = 0.1\n",
    "subm[[\"Patient_Week\",\"FVC\",\"Confidence\"]].to_csv(\"submission_regression.csv\", index=False)\n",
    "reg_sub = subm[[\"Patient_Week\",\"FVC\",\"Confidence\"]].copy()\n",
    "df1 = img_sub.sort_values(by=['Patient_Week'], ascending=True).reset_index(drop=True)\n",
    "df2 = reg_sub.sort_values(by=['Patient_Week'], ascending=True).reset_index(drop=True)\n",
    "df = df1[['Patient_Week']].copy()\n",
    "df['FVC'] = FVC_weight*df1['FVC'] + (1-FVC_weight)*df2['FVC']\n",
    "df['Confidence'] = Confidence_weight*df1['Confidence'] + (1-Confidence_weight)*df2['Confidence']\n",
    "df.head();\n",
    "df.to_csv('submission.csv', index=False)"
   ]
  },
  {
   "cell_type": "code",
   "execution_count": 100,
   "metadata": {},
   "outputs": [],
   "source": [
    "df_issa2 = df.copy()"
   ]
  },
  {
   "cell_type": "markdown",
   "metadata": {},
   "source": [
    "notebook3"
   ]
  },
  {
   "cell_type": "code",
   "execution_count": 102,
   "metadata": {},
   "outputs": [
    {
     "name": "stdout",
     "output_type": "stream",
     "text": [
      "                        Patient  Weeks   FVC     Percent  Age     Sex  \\\n",
      "1085  ID00283637202278714365037      7  1967   54.578246   60    Male   \n",
      "1080  ID00279637202272164826258     46  4046   88.852776   70    Male   \n",
      "1162  ID00305637202281772703145     12  2776   73.392555   62    Male   \n",
      "1037  ID00264637202270643353440     19  2239  132.453857   76  Female   \n",
      "171   ID00048637202185016727717     11  1399   61.107714   70  Female   \n",
      "\n",
      "     SmokingStatus  MinWeeks    MinFVC  \n",
      "1085  Never smoked         0  0.176449  \n",
      "1080     Ex-smoker         8  0.580609  \n",
      "1162     Ex-smoker         8  0.365713  \n",
      "1037  Never smoked        13  0.171434  \n",
      "171   Never smoked         9  0.085810  \n",
      "                     Patient  Weeks   FVC    Percent  Age   Sex SmokingStatus  \\\n",
      "0  ID00007637202177411956430     -4  2315  58.253649   79  Male     Ex-smoker   \n",
      "1  ID00007637202177411956430      5  2214  55.712129   79  Male     Ex-smoker   \n",
      "2  ID00007637202177411956430      7  2061  51.862104   79  Male     Ex-smoker   \n",
      "3  ID00007637202177411956430      9  2144  53.950679   79  Male     Ex-smoker   \n",
      "4  ID00007637202177411956430     11  2069  52.063412   79  Male     Ex-smoker   \n",
      "\n",
      "   MinWeeks    MinFVC  \n",
      "0        -4  0.241456  \n",
      "1        -4  0.241456  \n",
      "2        -4  0.241456  \n",
      "3        -4  0.241456  \n",
      "4        -4  0.241456  \n",
      "                        Patient  Weeks   FVC    Percent  Age     Sex  \\\n",
      "141   ID00035637202182204917484     65  2272  62.110443   69    Male   \n",
      "1525  ID00408637202308839708961     18  2384  87.595532   74    Male   \n",
      "63    ID00019637202178323708467     14  2047  90.515145   83  Female   \n",
      "988   ID00241637202264294508775     28  1313  74.046921   66  Female   \n",
      "975   ID00240637202264138860065     18  2713  71.132669   63    Male   \n",
      "1503  ID00401637202305320178010     99  1892  69.635628   74  Female   \n",
      "402   ID00105637202208831864134     82  2322  62.245336   64    Male   \n",
      "1367  ID00364637202296074419422     53  3032  86.628571   64    Male   \n",
      "12    ID00009637202177434476278     13  3759  87.589710   69    Male   \n",
      "880   ID00221637202258717315571     24  1529  81.869779   76  Female   \n",
      "\n",
      "     SmokingStatus  MinWeeks    MinFVC  \n",
      "141      Ex-smoker        11  0.318165  \n",
      "1525     Ex-smoker        13  0.303863  \n",
      "63       Ex-smoker        13  0.201523  \n",
      "988   Never smoked         2  0.071322  \n",
      "975      Ex-smoker         5  0.393202  \n",
      "1503     Ex-smoker        42  0.217125  \n",
      "402      Ex-smoker        44  0.271917  \n",
      "1367     Ex-smoker        37  0.404160  \n",
      "12       Ex-smoker         8  0.491270  \n",
      "880      Ex-smoker        11  0.071694  \n"
     ]
    },
    {
     "name": "stderr",
     "output_type": "stream",
     "text": [
      "/home/jacoblamkey/anaconda3/envs/tf/lib/python3.7/site-packages/ipykernel_launcher.py:50: SettingWithCopyWarning: \n",
      "A value is trying to be set on a copy of a slice from a DataFrame.\n",
      "Try using .loc[row_indexer,col_indexer] = value instead\n",
      "\n",
      "See the caveats in the documentation: https://pandas.pydata.org/pandas-docs/stable/user_guide/indexing.html#returning-a-view-versus-a-copy\n"
     ]
    },
    {
     "data": {
      "application/vnd.jupyter.widget-view+json": {
       "model_id": "e34cb83c3a1147aea8eb2118ef385172",
       "version_major": 2,
       "version_minor": 0
      },
      "text/plain": [
       "HBox(children=(FloatProgress(value=1.0, bar_style='info', layout=Layout(width='20px'), max=1.0), HTML(value=''…"
      ]
     },
     "metadata": {},
     "output_type": "display_data"
    },
    {
     "name": "stderr",
     "output_type": "stream",
     "text": [
      "/home/jacoblamkey/anaconda3/envs/tf/lib/python3.7/site-packages/ipykernel_launcher.py:99: FutureWarning: `rcond` parameter will change to the default of machine precision times ``max(M, N)`` where M and N are the input matrix dimensions.\n",
      "To use the future default and silence this warning we advise to pass `rcond=None`, to keep using the old, explicitly pass `rcond=-1`.\n"
     ]
    },
    {
     "name": "stdout",
     "output_type": "stream",
     "text": [
      "\n",
      "Number of models: 1\n",
      "Model: \"functional_7\"\n",
      "__________________________________________________________________________________________________\n",
      "Layer (type)                    Output Shape         Param #     Connected to                     \n",
      "==================================================================================================\n",
      "input_36 (InputLayer)           [(None, 512, 512, 1) 0                                            \n",
      "__________________________________________________________________________________________________\n",
      "efficientnet-b5 (Functional)    (None, 16, 16, 2048) 28512656    input_36[0][0]                   \n",
      "__________________________________________________________________________________________________\n",
      "input_45 (InputLayer)           [(None, 5)]          0                                            \n",
      "__________________________________________________________________________________________________\n",
      "global_average_pooling2d_3 (Glo (None, 2048)         0           efficientnet-b5[0][0]            \n",
      "__________________________________________________________________________________________________\n",
      "gaussian_noise_3 (GaussianNoise (None, 5)            0           input_45[0][0]                   \n",
      "__________________________________________________________________________________________________\n",
      "concatenate_3 (Concatenate)     (None, 2053)         0           global_average_pooling2d_3[0][0] \n",
      "                                                                 gaussian_noise_3[0][0]           \n",
      "__________________________________________________________________________________________________\n",
      "dropout_3 (Dropout)             (None, 2053)         0           concatenate_3[0][0]              \n",
      "__________________________________________________________________________________________________\n",
      "dense_3 (Dense)                 (None, 1)            2054        dropout_3[0][0]                  \n",
      "==================================================================================================\n",
      "Total params: 28,514,710\n",
      "Trainable params: 28,341,974\n",
      "Non-trainable params: 172,736\n",
      "__________________________________________________________________________________________________\n",
      "1\n",
      "                     Patient  Weeks   FVC    Percent  Age   Sex SmokingStatus  \\\n",
      "0  ID00419637202311204720264      6  3020  70.186855   73  Male     Ex-smoker   \n",
      "3  ID00423637202312137826377     17  3294  79.258903   72  Male     Ex-smoker   \n",
      "2  ID00422637202311677017371      6  1930  76.672493   73  Male     Ex-smoker   \n",
      "4  ID00426637202313170790466      0  2925  71.824968   73  Male  Never smoked   \n",
      "1  ID00421637202311550012437     15  2739  82.045291   68  Male     Ex-smoker   \n",
      "\n",
      "   MinWeeks    MinFVC  \n",
      "0         6  0.799120  \n",
      "3        17  1.000000  \n",
      "2         6  0.000000  \n",
      "4         0  0.729472  \n",
      "1        15  0.593109  \n",
      "[                      Patient_Week          FVC  Confidence\n",
      "0    ID00419637202311204720264_-12  3019.173915   69.360770\n",
      "1    ID00421637202311550012437_-12  2738.169230   81.214521\n",
      "2    ID00422637202311677017371_-12  1929.818514   76.491007\n",
      "3    ID00423637202312137826377_-12  3292.441972   77.700875\n",
      "4    ID00426637202313170790466_-12  2924.074385   70.899353\n",
      "..                             ...          ...         ...\n",
      "725  ID00419637202311204720264_133  3025.828491   64.358364\n",
      "726  ID00421637202311550012437_133  2742.630775   78.414516\n",
      "727  ID00422637202311677017371_133  1931.280488   75.392006\n",
      "728  ID00423637202312137826377_133  3300.232111   73.026792\n",
      "729  ID00426637202313170790466_133  2935.258903   61.566065\n",
      "\n",
      "[730 rows x 3 columns]]\n",
      "1\n",
      "                     Patient_Week          FVC  Confidence\n",
      "286  ID00421637202311550012437_45  2739.923078   81.122213\n",
      "102   ID00422637202311677017371_8  1930.020165   76.652328\n",
      "477  ID00422637202311677017371_83  1930.776359   75.896135\n",
      "18   ID00423637202312137826377_-9  3292.603147   77.862050\n",
      "470  ID00419637202311204720264_82  3023.487916   66.698939\n",
      "add infos\n",
      "(1535, 8) (5, 8) (730, 10) (2270, 10)\n",
      "176 5 5 176\n",
      "['Male', 'Female', 'Ex-smoker', 'Never smoked', 'Currently smokes', 'age', 'percent', 'week', 'BASE']\n",
      "(1535, 9)\n",
      "(730, 9)\n",
      "9\n",
      "Model: \"CNN\"\n",
      "__________________________________________________________________________________________________\n",
      "Layer (type)                    Output Shape         Param #     Connected to                     \n",
      "==================================================================================================\n",
      "Patient (InputLayer)            [(None, 9)]          0                                            \n",
      "__________________________________________________________________________________________________\n",
      "d1 (Dense)                      (None, 100)          1000        Patient[0][0]                    \n",
      "__________________________________________________________________________________________________\n",
      "d2 (Dense)                      (None, 100)          10100       d1[0][0]                         \n",
      "__________________________________________________________________________________________________\n",
      "p1 (Dense)                      (None, 3)            303         d2[0][0]                         \n",
      "__________________________________________________________________________________________________\n",
      "p2 (Dense)                      (None, 3)            303         d2[0][0]                         \n",
      "__________________________________________________________________________________________________\n",
      "preds (Lambda)                  (None, 3)            0           p1[0][0]                         \n",
      "                                                                 p2[0][0]                         \n",
      "==================================================================================================\n",
      "Total params: 11,706\n",
      "Trainable params: 11,706\n",
      "Non-trainable params: 0\n",
      "__________________________________________________________________________________________________\n",
      "None\n",
      "11706\n",
      "FOLD 1\n",
      "train [34.162105560302734, 6.514143466949463]\n",
      "val [38.82135772705078, 6.706284999847412]\n",
      "predict val...\n",
      "predict test...\n",
      "FOLD 2\n",
      "train [34.875240325927734, 6.551336765289307]\n",
      "val [36.66924285888672, 6.634232521057129]\n",
      "predict val...\n",
      "predict test...\n",
      "FOLD 3\n",
      "train [30.906660079956055, 6.396121025085449]\n",
      "val [45.59993362426758, 6.688230037689209]\n",
      "predict val...\n",
      "predict test...\n",
      "FOLD 4\n",
      "train [33.96669387817383, 6.512555122375488]\n",
      "val [34.236881256103516, 6.445592403411865]\n",
      "predict val...\n",
      "predict test...\n",
      "FOLD 5\n",
      "train [33.13780212402344, 6.473931789398193]\n",
      "val [41.37015151977539, 6.750727653503418]\n",
      "predict val...\n",
      "predict test...\n",
      "137.33542512278603 232.3256051029367\n"
     ]
    },
    {
     "data": {
      "image/png": "[encoded data removed]",
      "text/plain": [
       "<Figure size 432x288 with 1 Axes>"
      ]
     },
     "metadata": {
      "needs_background": "light"
     },
     "output_type": "display_data"
    },
    {
     "name": "stdout",
     "output_type": "stream",
     "text": [
      "-16.052978515625 232.3256051029367 416.615234375 0.9973941368078176\n"
     ]
    },
    {
     "data": {
      "image/png": "[encoded data removed]",
      "text/plain": [
       "<Figure size 432x288 with 1 Axes>"
      ]
     },
     "metadata": {
      "needs_background": "light"
     },
     "output_type": "display_data"
    }
   ],
   "source": [
    "Dropout_model = 0.3856\n",
    "FVC_weight = 0.2\n",
    "Confidence_weight = 0\n",
    "#!pip install ../input/kerasapplications/keras-team-keras-applications-3b180cb -f ./ --no-index\n",
    "#!pip install ../input/efficientnet/efficientnet-1.1.0/ -f ./ --no-index\n",
    "import os\n",
    "import cv2\n",
    "import pydicom\n",
    "import pandas as pd\n",
    "import numpy as np \n",
    "import tensorflow as tf \n",
    "import matplotlib.pyplot as plt \n",
    "import random\n",
    "from tqdm.notebook import tqdm \n",
    "from sklearn.model_selection import train_test_split, KFold\n",
    "from sklearn.metrics import mean_absolute_error\n",
    "from tensorflow_addons.optimizers import RectifiedAdam\n",
    "from tensorflow.keras import Model\n",
    "import tensorflow.keras.backend as K\n",
    "import tensorflow.keras.layers as L\n",
    "import tensorflow.keras.models as M\n",
    "from tensorflow.keras.optimizers import Nadam\n",
    "import seaborn as sns\n",
    "from PIL import Image\n",
    "\n",
    "def seed_everything(seed=2020):\n",
    "    random.seed(seed)\n",
    "    os.environ['PYTHONHASHSEED'] = str(seed)\n",
    "    np.random.seed(seed)\n",
    "    tf.random.set_seed(seed)\n",
    "    \n",
    "seed_everything(45)\n",
    "config = tf.compat.v1.ConfigProto()\n",
    "config.gpu_options.allow_growth = True\n",
    "session = tf.compat.v1.Session(config=config)\n",
    "train = pd.read_csv('/home/jacoblamkey/Documents/Data/.kaggle/train.csv') \n",
    "\n",
    "tr_age_max = train.Age.values.max()\n",
    "tr_age_min = train.Age.values.min()\n",
    "tr_age_mean = train.Age.values.mean()\n",
    "\n",
    "def expandFVC_Percent(DS):\n",
    "    DS['FVC_Percent'] = DS['FVC'] / DS['Percent']\n",
    "    return DS\n",
    "\n",
    "def expandFE(data_set):\n",
    "    data_set['MinWeeks'] = data_set.groupby('Patient')['Weeks'].transform('min')\n",
    "    sub_tr = data_set.loc[data_set['Weeks']==data_set['MinWeeks']]\n",
    "\n",
    "    sub_tr['MinFVC'] = sub_tr['FVC']\n",
    "\n",
    "    sub_tr = sub_tr[['Patient', 'MinFVC']]\n",
    "\n",
    "    merged = data_set.merge(sub_tr, on='Patient', how='outer')\n",
    "\n",
    "\n",
    "    data_set=merged\n",
    "    \n",
    "    data_set['MinFVC'] = (data_set['MinFVC'] - data_set['MinFVC'].min())/(data_set['MinFVC'].max()-data_set['MinFVC'].min())\n",
    "    print(data_set.sample(5))\n",
    "    return data_set\n",
    "\n",
    "train = expandFE(train)\n",
    "# train = expandFVC_Percent(train)\n",
    "\n",
    "print(train.head())\n",
    "print(train.sample(10))\n",
    "\n",
    "def get_tab(df):\n",
    "    # df: data frame\n",
    "    # [age, male/female[0/1], SmokingStatus[00/11/01], BaseFvc] (5,)\n",
    "    vector = [(df.Age.values[0] - tr_age_min) / (tr_age_max-tr_age_min)] \n",
    "    \n",
    "    if df.Sex.values[0] == 'male':\n",
    "       vector.append(0)\n",
    "    else:\n",
    "       vector.append(1)\n",
    "    \n",
    "    if df.SmokingStatus.values[0] == 'Never smoked':\n",
    "        vector.extend([0,0])\n",
    "    elif df.SmokingStatus.values[0] == 'Ex-smoker':\n",
    "        vector.extend([1,1])\n",
    "    elif df.SmokingStatus.values[0] == 'Currently smokes':\n",
    "        vector.extend([0,1])\n",
    "    else:\n",
    "        vector.extend([1,0])\n",
    "    vector.extend([df['MinFVC'].values[0]])\n",
    "#     vector.extend([df['FVC_Percent'].values[0]])\n",
    "    return np.array(vector) \n",
    "\n",
    "A = {} \n",
    "TAB = {} \n",
    "P = [] \n",
    "for i, p in tqdm(enumerate(train.Patient.unique())):\n",
    "    sub = train.loc[train.Patient == p, :] \n",
    "    fvc = sub.FVC.values\n",
    "    weeks = sub.Weeks.values\n",
    "    c = np.vstack([weeks, np.ones(len(weeks))]).T\n",
    "    a, b = np.linalg.lstsq(c, fvc)[0]\n",
    "    \n",
    "    A[p] = a\n",
    "    TAB[p] = get_tab(sub)\n",
    "    P.append(p)\n",
    "\n",
    "def get_img(path):\n",
    "    d = pydicom.dcmread(path)\n",
    "    return cv2.resize(d.pixel_array / 2**11, (512, 512))\n",
    "\n",
    "from tensorflow.keras.utils import Sequence\n",
    "import math\n",
    "\n",
    "class IGenerator(Sequence):\n",
    "    BAD_ID = ['ID00011637202177653955184', 'ID00052637202186188008618']\n",
    "    def __init__(self, keys, a, tab, batch_size=8):\n",
    "        self.keys = [k for k in keys if k not in self.BAD_ID]\n",
    "        self.a = a\n",
    "        self.tab = tab\n",
    "        self.batch_size = batch_size\n",
    "        \n",
    "        self.train_data = {}  # imgs for each person; self.trian_data[pi] = [img1, img2, ..., imgn]\n",
    "        for p in train.Patient.values:\n",
    "            # filenames in \"~/train/personid/\"\n",
    "            self.train_data[p] = os.listdir(f'/home/jacoblamkey/Documents/Data/.kaggle/train/{p}/')\n",
    "    \n",
    "    def __len__(self):\n",
    "#         return 1000\n",
    "        return math.ceil(len(self.keys) / float(self.batch_size)) \n",
    "    \n",
    "    def __getitem__(self, idx):\n",
    "        x = []\n",
    "        a, tab = [], [] \n",
    "        keys = np.random.choice(self.keys, size = self.batch_size)  # persons in batch size\n",
    "        for k in keys:\n",
    "            #  chose a {[img, tab], a}for each person (only 1 img)\n",
    "            try:\n",
    "                self.train_data[k].sort()\n",
    "                mx_len = len(self.train_data[k])\n",
    "                i = np.random.choice(self.train_data[k][mx_len//3:mx_len//3*2], size=1)[0]\n",
    "#                 i = self.train_data[k][max_len//2]\n",
    "                img = get_img(f'/home/jacoblamkey/Documents/Data/.kaggle/train/{k}/{i}')\n",
    "                x.append(img)\n",
    "                a.append(self.a[k])\n",
    "                tab.append(self.tab[k])\n",
    "            except:\n",
    "                print(k, i)\n",
    "       \n",
    "        x, a, tab = np.array(x), np.array(a), np.array(tab)\n",
    "        x = np.expand_dims(x, axis=-1)\n",
    "        return [x, tab] , a\n",
    "\n",
    "from tensorflow.keras.layers import (\n",
    "    Dense, Dropout, Activation, Flatten, Input, BatchNormalization, GlobalAveragePooling2D, Add, Conv2D, AveragePooling2D, \n",
    "    LeakyReLU, Concatenate \n",
    ")\n",
    "import efficientnet.tfkeras as efn\n",
    "\n",
    "def get_efficientnet(model, shape):\n",
    "    models_dict = {\n",
    "        'b0': efn.EfficientNetB0(input_shape=shape,weights=None,include_top=False),\n",
    "        'b1': efn.EfficientNetB1(input_shape=shape,weights=None,include_top=False),\n",
    "        'b2': efn.EfficientNetB2(input_shape=shape,weights=None,include_top=False),\n",
    "        'b3': efn.EfficientNetB3(input_shape=shape,weights=None,include_top=False),\n",
    "        'b4': efn.EfficientNetB4(input_shape=shape,weights=None,include_top=False),\n",
    "        'b5': efn.EfficientNetB5(input_shape=shape,weights=None,include_top=False),\n",
    "        'b6': efn.EfficientNetB6(input_shape=shape,weights=None,include_top=False),\n",
    "        'b7': efn.EfficientNetB7(input_shape=shape,weights=None,include_top=False)\n",
    "    }\n",
    "    return models_dict[model]\n",
    "\n",
    "def build_model(shape=(512, 512, 1), model_class=None):\n",
    "    inp = Input(shape=shape)\n",
    "    base = get_efficientnet(model_class, shape)\n",
    "    x = base(inp)\n",
    "    x = GlobalAveragePooling2D()(x)\n",
    "#     inp2 = Input(shape=(4,))  # original is 4\n",
    "    inp2 = Input(shape=(5,))  # add the feature of MinFVC\n",
    "    x2 = tf.keras.layers.GaussianNoise(0.2)(inp2)\n",
    "    x = Concatenate()([x, x2]) \n",
    "    x = Dropout(Dropout_model)(x)\n",
    "    x = Dense(1)(x)\n",
    "    model = Model([inp, inp2] , x)\n",
    "    \n",
    "#     weights = [w for w in os.listdir('../input/osic-model-weights') if model_class in w][0]\n",
    "#     model.load_weights('../input/osic-model-weights/' + weights)\n",
    "    return model\n",
    "\n",
    "model_classes = ['b5'] #['b0','b1','b2','b3',b4','b5','b6','b7']\n",
    "with strategy.scope():\n",
    "    models = [build_model(shape=(512, 512, 1), model_class=m) for m in model_classes]\n",
    "    \n",
    "print('Number of models: ' + str(len(models)))\n",
    "\n",
    "model = models[0]\n",
    "\n",
    "# model = get_model()\n",
    "\n",
    "# efn_path = \"../input/trainefn/efn.ckpt\"\n",
    "# model.load_weights(efn_path)\n",
    "\n",
    "model.summary()\n",
    "# model.compile(optimizer=tf.keras.optimizers.Adam(learning_rate=0.01), loss='mae')  # original is lr=0.001\n",
    "\n",
    "def score(fvc_true, fvc_pred, sigma):\n",
    "    sigma_clip = np.maximum(sigma, 70) # changed from 70, trie 66.7 too\n",
    "    delta = np.abs(fvc_true - fvc_pred)\n",
    "    delta = np.minimum(delta, 1000)\n",
    "    sq2 = np.sqrt(2)\n",
    "    metric = (delta / sigma_clip)*sq2 + np.log(sigma_clip* sq2)\n",
    "    return np.mean(metric)\n",
    "subs = []\n",
    "q = -1\n",
    "\n",
    "q = -1\n",
    "# with open('../input/trainefn/q.txt', 'r') as f:\n",
    "#     q=float(f.readlines()[0].strip())\n",
    "print(q)\n",
    "\n",
    "sub = pd.read_csv('/home/jacoblamkey/Documents/Data/.kaggle/sample_submission.csv') \n",
    "test = pd.read_csv('/home/jacoblamkey/Documents/Data/.kaggle/test.csv') \n",
    "A_test, B_test, P_test,W, FVC= {}, {}, {},{},{} \n",
    "STD, WEEK = {}, {} \n",
    "\n",
    "test = expandFE(test)\n",
    "# test = expandFVC_Percent(test)\n",
    "\n",
    "for p in test.Patient.unique():\n",
    "    x = [] \n",
    "    tab = [] \n",
    "    ldir = os.listdir(f'/home/jacoblamkey/Documents/Data/.kaggle/test/{p}/')\n",
    "    for i in ldir:\n",
    "        if int(i[:-4]) / len(ldir) < 0.8 and int(i[:-4]) / len(ldir) > 0.15:\n",
    "            x.append(get_img(f'/home/jacoblamkey/Documents/Data/.kaggle/test/{p}/{i}')) \n",
    "            tab.append(get_tab(test.loc[test.Patient == p, :])) \n",
    "    if len(x) <= 1:\n",
    "        continue\n",
    "    tab = np.array(tab) \n",
    "\n",
    "    x = np.expand_dims(x, axis=-1) \n",
    "    _a = model.predict([x, tab]) \n",
    "    a = np.quantile(_a, q)\n",
    "    A_test[p] = a\n",
    "    B_test[p] = test.FVC.values[test.Patient == p] - a*test.Weeks.values[test.Patient == p]\n",
    "    P_test[p] = test.Percent.values[test.Patient == p] \n",
    "    WEEK[p] = test.Weeks.values[test.Patient == p]\n",
    "\n",
    "\n",
    "for k in sub.Patient_Week.values:\n",
    "    p, w = k.split('_')\n",
    "    w = int(w) \n",
    "\n",
    "    fvc = A_test[p] * w + B_test[p]\n",
    "    sub.loc[sub.Patient_Week == k, 'FVC'] = fvc\n",
    "    sub.loc[sub.Patient_Week == k, 'Confidence'] = (\n",
    "        P_test[p] - A_test[p] * abs(WEEK[p] - w) \n",
    ") \n",
    "\n",
    "_sub = sub[[\"Patient_Week\",\"FVC\",\"Confidence\"]].copy()\n",
    "subs.append(_sub)\n",
    "print(subs)\n",
    "\n",
    "N = len(subs)\n",
    "print(N)\n",
    "sub = subs[0].copy() # ref\n",
    "sub[\"FVC\"] = 0\n",
    "sub[\"Confidence\"] = 0\n",
    "for i in range(N):\n",
    "    sub[\"FVC\"] += subs[0][\"FVC\"] * (1/N)\n",
    "    sub[\"Confidence\"] += subs[0][\"Confidence\"] * (1/N)\n",
    "sub[[\"Patient_Week\",\"FVC\",\"Confidence\"]].to_csv(\"submission_img.csv\", index=False)\n",
    "img_sub = sub[[\"Patient_Week\",\"FVC\",\"Confidence\"]].copy()\n",
    "print(img_sub.sample(5))\n",
    "\n",
    "ROOT = \"/home/jacoblamkey/Documents/Data/.kaggle\"\n",
    "BATCH_SIZE=128*strategy.num_replicas_in_sync\n",
    "\n",
    "tr = pd.read_csv(f\"{ROOT}/train.csv\")\n",
    "tr.drop_duplicates(keep=False, inplace=True, subset=['Patient','Weeks'])\n",
    "chunk = pd.read_csv(f\"{ROOT}/test.csv\")\n",
    "\n",
    "print(\"add infos\")\n",
    "sub = pd.read_csv(f\"{ROOT}/sample_submission.csv\")\n",
    "sub['Patient'] = sub['Patient_Week'].apply(lambda x:x.split('_')[0])\n",
    "sub['Weeks'] = sub['Patient_Week'].apply(lambda x: int(x.split('_')[-1]))\n",
    "sub =  sub[['Patient','Weeks','Confidence','Patient_Week']]\n",
    "sub = sub.merge(chunk.drop('Weeks', axis=1), on=\"Patient\")\n",
    "tr['WHERE'] = 'train'\n",
    "chunk['WHERE'] = 'val'\n",
    "sub['WHERE'] = 'test'\n",
    "data = tr.append([chunk, sub])\n",
    "print(tr.shape, chunk.shape, sub.shape, data.shape)\n",
    "print(tr.Patient.nunique(), chunk.Patient.nunique(), sub.Patient.nunique(), \n",
    "      data.Patient.nunique())\n",
    "\n",
    "data['min_week'] = data['Weeks']\n",
    "data.loc[data.WHERE=='test','min_week'] = np.nan\n",
    "data['min_week'] = data.groupby('Patient')['min_week'].transform('min')\n",
    "base = data.loc[data.Weeks == data.min_week]\n",
    "base = base[['Patient','FVC']].copy()\n",
    "base.columns = ['Patient','min_FVC']\n",
    "base['nb'] = 1\n",
    "base['nb'] = base.groupby('Patient')['nb'].transform('cumsum')\n",
    "base = base[base.nb==1]\n",
    "base.drop('nb', axis=1, inplace=True)\n",
    "data = data.merge(base, on='Patient', how='left')\n",
    "data['base_week'] = data['Weeks'] - data['min_week']\n",
    "del base\n",
    "COLS = ['Sex','SmokingStatus'] #,'Age'\n",
    "FE = []\n",
    "for col in COLS:\n",
    "    for mod in data[col].unique():\n",
    "        FE.append(mod)\n",
    "        data[mod] = (data[col] == mod).astype(int)\n",
    "#\n",
    "data['age'] = (data['Age'] - data['Age'].min() ) / ( data['Age'].max() - data['Age'].min() )\n",
    "data['BASE'] = (data['min_FVC'] - data['min_FVC'].min() ) / ( data['min_FVC'].max() - data['min_FVC'].min() )\n",
    "data['week'] = (data['base_week'] - data['base_week'].min() ) / ( data['base_week'].max() - data['base_week'].min() )\n",
    "data['percent'] = (data['Percent'] - data['Percent'].min() ) / ( data['Percent'].max() - data['Percent'].min() )\n",
    "data['FVC_Percent'] = data['FVC'] / data['Percent']\n",
    "# FE += ['age','percent','week','BASE', 'FVC_Percent']\n",
    "FE += ['age','percent','week','BASE']\n",
    "tr = data.loc[data.WHERE=='train']\n",
    "chunk = data.loc[data.WHERE=='val']\n",
    "sub = data.loc[data.WHERE=='test']\n",
    "del data\n",
    "C1, C2 = tf.constant(70, dtype='float32'), tf.constant(1000, dtype=\"float32\")\n",
    "def score(y_true, y_pred):\n",
    "    tf.dtypes.cast(y_true, tf.float32)\n",
    "    tf.dtypes.cast(y_pred, tf.float32)\n",
    "    sigma = y_pred[:, 2] - y_pred[:, 0]\n",
    "    fvc_pred = y_pred[:, 1]\n",
    "    \n",
    "    #sigma_clip = sigma + C1\n",
    "    sigma_clip = tf.maximum(sigma, C1)\n",
    "    delta = tf.abs(y_true[:, 0] - fvc_pred)\n",
    "    delta = tf.minimum(delta, C2)\n",
    "    sq2 = tf.sqrt( tf.dtypes.cast(2, dtype=tf.float32) )\n",
    "    metric = (delta / sigma_clip)*sq2 + tf.math.log(sigma_clip* sq2)\n",
    "    return K.mean(metric)\n",
    "\n",
    "def qloss(y_true, y_pred):\n",
    "    # Pinball loss for multiple quantiles\n",
    "    qs = [0.2, 0.50, 0.8]\n",
    "    q = tf.constant(np.array([qs]), dtype=tf.float32)\n",
    "    e = y_true - y_pred\n",
    "    v = tf.maximum(q*e, (q-1)*e)\n",
    "    return K.mean(v)\n",
    "\n",
    "def mloss(_lambda):\n",
    "    def loss(y_true, y_pred):\n",
    "        return _lambda * qloss(y_true, y_pred) + (1 - _lambda)*score(y_true, y_pred)\n",
    "    return loss\n",
    "\n",
    "\n",
    "def make_model(nh):\n",
    "    z = L.Input((nh,), name=\"Patient\")\n",
    "    x = L.Dense(100, activation=\"relu\", name=\"d1\")(z)\n",
    "    x = L.Dense(100, activation=\"relu\", name=\"d2\")(x)\n",
    "    p1 = L.Dense(3, activation=\"linear\", name=\"p1\")(x)\n",
    "    p2 = L.Dense(3, activation=\"relu\", name=\"p2\")(x)\n",
    "    preds = L.Lambda(lambda x: x[0] + tf.cumsum(x[1], axis=1), \n",
    "                     name=\"preds\")([p1, p2])\n",
    "    \n",
    "    model = M.Model(z, preds, name=\"CNN\")\n",
    "    model.compile(loss=mloss(0.65), optimizer=tf.keras.optimizers.Adam(lr=0.1, beta_1=0.9, beta_2=0.999, epsilon=None, decay=0.01, amsgrad=False), metrics=[score])\n",
    "    return model\n",
    "print(FE)\n",
    "\n",
    "y = tr['FVC'].values  # train target\n",
    "z = tr[FE].values  # fetures (1535, 9)\n",
    "print(z.shape)\n",
    "ze = sub[FE].values  # fetures of submission (730, 9) e: estimate\n",
    "print(ze.shape) \n",
    "nh = z.shape[1] \n",
    "print(nh)  # feature numbers (9,)\n",
    "pe = np.zeros((ze.shape[0], 3))  #estimate of prediction\n",
    "pred = np.zeros((z.shape[0], 3))  # prediction of truth ground\n",
    "with strategy.scope():    \n",
    "    net = make_model(nh)\n",
    "print(net.summary())\n",
    "print(net.count_params())\n",
    "NFOLD = 5 # originally 5\n",
    "kf = KFold(n_splits=NFOLD)\n",
    "\n",
    "cnt = 0\n",
    "EPOCHS = 800\n",
    "y = y.astype(np.float32)\n",
    "for tr_idx, val_idx in kf.split(z):\n",
    "    cnt += 1\n",
    "    print(f\"FOLD {cnt}\")\n",
    "    net = make_model(nh)\n",
    "    net.fit(z[tr_idx], y[tr_idx], batch_size=BATCH_SIZE, epochs=EPOCHS, \n",
    "            validation_data=(z[val_idx], y[val_idx]), verbose=0) #\n",
    "    print(\"train\", net.evaluate(z[tr_idx], y[tr_idx], verbose=0, batch_size=BATCH_SIZE))\n",
    "    print(\"val\", net.evaluate(z[val_idx], y[val_idx], verbose=0, batch_size=BATCH_SIZE))\n",
    "    print(\"predict val...\")\n",
    "    pred[val_idx] = net.predict(z[val_idx], batch_size=BATCH_SIZE, verbose=0)\n",
    "    print(\"predict test...\")\n",
    "    pe += net.predict(ze, batch_size=BATCH_SIZE, verbose=0) / NFOLD\n",
    "\n",
    "sigma_opt = mean_absolute_error(y, pred[:, 1])\n",
    "unc = pred[:,2] - pred[:, 0]\n",
    "sigma_mean = np.mean(unc)\n",
    "print(sigma_opt, sigma_mean)\n",
    "idxs = np.random.randint(0, y.shape[0], 100)\n",
    "plt.plot(y[idxs], label=\"ground truth\")\n",
    "plt.plot(pred[idxs, 0], label=\"q25\")\n",
    "plt.plot(pred[idxs, 1], label=\"q50\")\n",
    "plt.plot(pred[idxs, 2], label=\"q75\")\n",
    "plt.legend(loc=\"best\")\n",
    "plt.show()\n",
    "print(unc.min(), unc.mean(), unc.max(), (unc>=0).mean())\n",
    "plt.hist(unc)\n",
    "plt.title(\"uncertainty in prediction\")\n",
    "plt.show()\n",
    "sub.head()\n",
    "# PREDICTION\n",
    "sub['FVC1'] = 1.*pe[:, 1]\n",
    "sub['Confidence1'] = pe[:, 2] - pe[:, 0]\n",
    "subm = sub[['Patient_Week','FVC','Confidence','FVC1','Confidence1']].copy()\n",
    "subm.loc[~subm.FVC1.isnull()].head(10)\n",
    "subm.loc[~subm.FVC1.isnull(),'FVC'] = subm.loc[~subm.FVC1.isnull(),'FVC1']\n",
    "if sigma_mean<70:\n",
    "    subm['Confidence'] = sigma_opt\n",
    "else:\n",
    "    subm.loc[~subm.FVC1.isnull(),'Confidence'] = subm.loc[~subm.FVC1.isnull(),'Confidence1']\n",
    "subm.head()\n",
    "subm.describe().T\n",
    "otest = pd.read_csv('/home/jacoblamkey/Documents/Data/.kaggle/test.csv')\n",
    "for i in range(len(otest)):\n",
    "    subm.loc[subm['Patient_Week']==otest.Patient[i]+'_'+str(otest.Weeks[i]), 'FVC'] = otest.FVC[i]\n",
    "    subm.loc[subm['Patient_Week']==otest.Patient[i]+'_'+str(otest.Weeks[i]), 'Confidence'] = 0.1\n",
    "subm[[\"Patient_Week\",\"FVC\",\"Confidence\"]].to_csv(\"submission_regression.csv\", index=False)\n",
    "reg_sub = subm[[\"Patient_Week\",\"FVC\",\"Confidence\"]].copy()\n",
    "df1 = img_sub.sort_values(by=['Patient_Week'], ascending=True).reset_index(drop=True)\n",
    "df2 = reg_sub.sort_values(by=['Patient_Week'], ascending=True).reset_index(drop=True)\n",
    "df = df1[['Patient_Week']].copy()\n",
    "df['FVC'] = FVC_weight*df1['FVC'] + (1-FVC_weight)*df2['FVC']\n",
    "df['Confidence'] = Confidence_weight*df1['Confidence'] + (1-Confidence_weight)*df2['Confidence']\n",
    "df.head();\n",
    "df.to_csv('submission.csv', index=False)\n",
    "\n",
    "df_issa3 = df.copy()\n",
    "\n"
   ]
  },
  {
   "cell_type": "markdown",
   "metadata": {},
   "source": [
    "Notebook4"
   ]
  },
  {
   "cell_type": "code",
   "execution_count": 103,
   "metadata": {},
   "outputs": [
    {
     "name": "stdout",
     "output_type": "stream",
     "text": [
      "                        Patient  Weeks   FVC     Percent  Age     Sex  \\\n",
      "547   ID00130637202220059448013     24  1436   59.353559   65  Female   \n",
      "1387  ID00367637202296290303449     87   837   34.160477   57  Female   \n",
      "500   ID00125637202218590429387     14  2320   53.094105   65    Male   \n",
      "984   ID00241637202264294508775      6  1349   76.077149   66  Female   \n",
      "1295  ID00341637202287410878488     36  2854  143.633619   68  Female   \n",
      "\n",
      "         SmokingStatus  MinWeeks    MinFVC  \n",
      "547       Never smoked        11  0.125371  \n",
      "1387      Never smoked        35  0.065193  \n",
      "500       Never smoked         8  0.247771  \n",
      "984       Never smoked         2  0.071322  \n",
      "1295  Currently smokes        28  0.340639  \n",
      "                     Patient  Weeks   FVC    Percent  Age   Sex SmokingStatus  \\\n",
      "0  ID00007637202177411956430     -4  2315  58.253649   79  Male     Ex-smoker   \n",
      "1  ID00007637202177411956430      5  2214  55.712129   79  Male     Ex-smoker   \n",
      "2  ID00007637202177411956430      7  2061  51.862104   79  Male     Ex-smoker   \n",
      "3  ID00007637202177411956430      9  2144  53.950679   79  Male     Ex-smoker   \n",
      "4  ID00007637202177411956430     11  2069  52.063412   79  Male     Ex-smoker   \n",
      "\n",
      "   MinWeeks    MinFVC  \n",
      "0        -4  0.241456  \n",
      "1        -4  0.241456  \n",
      "2        -4  0.241456  \n",
      "3        -4  0.241456  \n",
      "4        -4  0.241456  \n",
      "                        Patient  Weeks   FVC     Percent  Age     Sex  \\\n",
      "0     ID00007637202177411956430     -4  2315   58.253649   79    Male   \n",
      "1171  ID00307637202282126172865      8  3292   84.906634   65    Male   \n",
      "1207  ID00319637202283897208687     20  4143  121.595445   72    Male   \n",
      "823   ID00210637202257228694086      5  2773   78.475209   76    Male   \n",
      "827   ID00210637202257228694086     27  2844   80.484492   76    Male   \n",
      "293   ID00077637202199102000916     18  3391   87.795153   70    Male   \n",
      "767   ID00196637202246668775836      9  3849   89.921503   65    Male   \n",
      "267   ID00073637202198167792918     18  2353   65.353850   69    Male   \n",
      "276   ID00075637202198610425520     51  1469   60.025334   52  Female   \n",
      "197   ID00052637202186188008618     58  2251   53.331122   54    Male   \n",
      "\n",
      "         SmokingStatus  MinWeeks    MinFVC  \n",
      "0            Ex-smoker        -4  0.241456  \n",
      "1171      Never smoked         3  0.400260  \n",
      "1207         Ex-smoker        12  0.580981  \n",
      "823   Currently smokes         0  0.340082  \n",
      "827   Currently smokes         0  0.340082  \n",
      "293          Ex-smoker         5  0.400260  \n",
      "767          Ex-smoker         9  0.526374  \n",
      "267          Ex-smoker         3  0.284547  \n",
      "276       Never smoked        25  0.116270  \n",
      "197          Ex-smoker        48  0.273774  \n"
     ]
    },
    {
     "name": "stderr",
     "output_type": "stream",
     "text": [
      "/home/jacoblamkey/anaconda3/envs/tf/lib/python3.7/site-packages/ipykernel_launcher.py:50: SettingWithCopyWarning: \n",
      "A value is trying to be set on a copy of a slice from a DataFrame.\n",
      "Try using .loc[row_indexer,col_indexer] = value instead\n",
      "\n",
      "See the caveats in the documentation: https://pandas.pydata.org/pandas-docs/stable/user_guide/indexing.html#returning-a-view-versus-a-copy\n"
     ]
    },
    {
     "data": {
      "application/vnd.jupyter.widget-view+json": {
       "model_id": "d0d75252da7c4acc9dee9029ed9f806d",
       "version_major": 2,
       "version_minor": 0
      },
      "text/plain": [
       "HBox(children=(FloatProgress(value=1.0, bar_style='info', layout=Layout(width='20px'), max=1.0), HTML(value=''…"
      ]
     },
     "metadata": {},
     "output_type": "display_data"
    },
    {
     "name": "stderr",
     "output_type": "stream",
     "text": [
      "/home/jacoblamkey/anaconda3/envs/tf/lib/python3.7/site-packages/ipykernel_launcher.py:99: FutureWarning: `rcond` parameter will change to the default of machine precision times ``max(M, N)`` where M and N are the input matrix dimensions.\n",
      "To use the future default and silence this warning we advise to pass `rcond=None`, to keep using the old, explicitly pass `rcond=-1`.\n"
     ]
    },
    {
     "name": "stdout",
     "output_type": "stream",
     "text": [
      "\n",
      "Number of models: 1\n",
      "Model: \"functional_9\"\n",
      "__________________________________________________________________________________________________\n",
      "Layer (type)                    Output Shape         Param #     Connected to                     \n",
      "==================================================================================================\n",
      "input_46 (InputLayer)           [(None, 512, 512, 1) 0                                            \n",
      "__________________________________________________________________________________________________\n",
      "efficientnet-b5 (Functional)    (None, 16, 16, 2048) 28512656    input_46[0][0]                   \n",
      "__________________________________________________________________________________________________\n",
      "input_55 (InputLayer)           [(None, 5)]          0                                            \n",
      "__________________________________________________________________________________________________\n",
      "global_average_pooling2d_4 (Glo (None, 2048)         0           efficientnet-b5[0][0]            \n",
      "__________________________________________________________________________________________________\n",
      "gaussian_noise_4 (GaussianNoise (None, 5)            0           input_55[0][0]                   \n",
      "__________________________________________________________________________________________________\n",
      "concatenate_4 (Concatenate)     (None, 2053)         0           global_average_pooling2d_4[0][0] \n",
      "                                                                 gaussian_noise_4[0][0]           \n",
      "__________________________________________________________________________________________________\n",
      "dropout_4 (Dropout)             (None, 2053)         0           concatenate_4[0][0]              \n",
      "__________________________________________________________________________________________________\n",
      "dense_4 (Dense)                 (None, 1)            2054        dropout_4[0][0]                  \n",
      "==================================================================================================\n",
      "Total params: 28,514,710\n",
      "Trainable params: 28,341,974\n",
      "Non-trainable params: 172,736\n",
      "__________________________________________________________________________________________________\n",
      "1\n",
      "                     Patient  Weeks   FVC    Percent  Age   Sex SmokingStatus  \\\n",
      "4  ID00426637202313170790466      0  2925  71.824968   73  Male  Never smoked   \n",
      "2  ID00422637202311677017371      6  1930  76.672493   73  Male     Ex-smoker   \n",
      "1  ID00421637202311550012437     15  2739  82.045291   68  Male     Ex-smoker   \n",
      "0  ID00419637202311204720264      6  3020  70.186855   73  Male     Ex-smoker   \n",
      "3  ID00423637202312137826377     17  3294  79.258903   72  Male     Ex-smoker   \n",
      "\n",
      "   MinWeeks    MinFVC  \n",
      "4         0  0.729472  \n",
      "2         6  0.000000  \n",
      "1        15  0.593109  \n",
      "0         6  0.799120  \n",
      "3        17  1.000000  \n",
      "[                      Patient_Week          FVC  Confidence\n",
      "0    ID00419637202311204720264_-12  3019.422493   69.609348\n",
      "1    ID00421637202311550012437_-12  2738.077866   81.123157\n",
      "2    ID00422637202311677017371_-12  1929.308594   75.981087\n",
      "3    ID00423637202312137826377_-12  3293.116576   78.375479\n",
      "4    ID00426637202313170790466_-12  2924.758716   71.583684\n",
      "..                             ...          ...         ...\n",
      "725  ID00419637202311204720264_133  3024.074636   66.112219\n",
      "726  ID00421637202311550012437_133  2743.030067   78.015224\n",
      "727  ID00422637202311677017371_133  1934.878252   71.794241\n",
      "728  ID00423637202312137826377_133  3297.533696   75.725207\n",
      "729  ID00426637202313170790466_133  2927.674233   69.150735\n",
      "\n",
      "[730 rows x 3 columns]]\n",
      "1\n",
      "                      Patient_Week          FVC  Confidence\n",
      "161   ID00421637202311550012437_20  2739.170766   81.874526\n",
      "716  ID00421637202311550012437_131  2742.961761   78.083530\n",
      "171   ID00421637202311550012437_22  2739.239072   81.806219\n",
      "210   ID00419637202311204720264_30  3020.770010   69.416845\n",
      "303   ID00423637202312137826377_48  3294.944350   78.314553\n",
      "add infos\n",
      "(1535, 8) (5, 8) (730, 10) (2270, 10)\n",
      "176 5 5 176\n",
      "['Male', 'Female', 'Ex-smoker', 'Never smoked', 'Currently smokes', 'age', 'percent', 'week', 'BASE']\n",
      "(1535, 9)\n",
      "(730, 9)\n",
      "9\n",
      "Model: \"CNN\"\n",
      "__________________________________________________________________________________________________\n",
      "Layer (type)                    Output Shape         Param #     Connected to                     \n",
      "==================================================================================================\n",
      "Patient (InputLayer)            [(None, 9)]          0                                            \n",
      "__________________________________________________________________________________________________\n",
      "d1 (Dense)                      (None, 100)          1000        Patient[0][0]                    \n",
      "__________________________________________________________________________________________________\n",
      "d2 (Dense)                      (None, 100)          10100       d1[0][0]                         \n",
      "__________________________________________________________________________________________________\n",
      "p1 (Dense)                      (None, 3)            303         d2[0][0]                         \n",
      "__________________________________________________________________________________________________\n",
      "p2 (Dense)                      (None, 3)            303         d2[0][0]                         \n",
      "__________________________________________________________________________________________________\n",
      "preds (Lambda)                  (None, 3)            0           p1[0][0]                         \n",
      "                                                                 p2[0][0]                         \n",
      "==================================================================================================\n",
      "Total params: 11,706\n",
      "Trainable params: 11,706\n",
      "Non-trainable params: 0\n",
      "__________________________________________________________________________________________________\n",
      "None\n",
      "11706\n",
      "FOLD 1\n",
      "train [32.42194366455078, 6.473875522613525]\n",
      "val [38.50668716430664, 6.725763320922852]\n",
      "predict val...\n",
      "predict test...\n",
      "FOLD 2\n",
      "train [34.148380279541016, 6.524112701416016]\n",
      "val [37.89554214477539, 6.574807167053223]\n",
      "predict val...\n",
      "predict test...\n",
      "FOLD 3\n",
      "train [32.025936126708984, 6.4416961669921875]\n",
      "val [44.21614074707031, 6.661318778991699]\n",
      "predict val...\n",
      "predict test...\n",
      "FOLD 4\n",
      "train [34.72624206542969, 6.54299783706665]\n",
      "val [34.896480560302734, 6.466360569000244]\n",
      "predict val...\n",
      "predict test...\n",
      "FOLD 5\n",
      "train [33.159488677978516, 6.4839186668396]\n",
      "val [41.82765197753906, 6.743351936340332]\n",
      "predict val...\n",
      "predict test...\n",
      "137.76883119465086 242.3483353108459\n"
     ]
    },
    {
     "data": {
      "image/png": "[encoded data removed]",
      "text/plain": [
       "<Figure size 432x288 with 1 Axes>"
      ]
     },
     "metadata": {
      "needs_background": "light"
     },
     "output_type": "display_data"
    },
    {
     "name": "stdout",
     "output_type": "stream",
     "text": [
      "86.29150390625 242.3483353108459 480.429443359375 1.0\n"
     ]
    },
    {
     "data": {
      "image/png": "[encoded data removed]",
      "text/plain": [
       "<Figure size 432x288 with 1 Axes>"
      ]
     },
     "metadata": {
      "needs_background": "light"
     },
     "output_type": "display_data"
    }
   ],
   "source": [
    "Dropout_model = 0.3856\n",
    "FVC_weight = 0.2\n",
    "Confidence_weight = 0\n",
    "#!pip install ../input/kerasapplications/keras-team-keras-applications-3b180cb -f ./ --no-index\n",
    "#!pip install ../input/efficientnet/efficientnet-1.1.0/ -f ./ --no-index\n",
    "import os\n",
    "import cv2\n",
    "import pydicom\n",
    "import pandas as pd\n",
    "import numpy as np \n",
    "import tensorflow as tf \n",
    "import matplotlib.pyplot as plt \n",
    "import random\n",
    "from tqdm.notebook import tqdm \n",
    "from sklearn.model_selection import train_test_split, KFold\n",
    "from sklearn.metrics import mean_absolute_error\n",
    "from tensorflow_addons.optimizers import RectifiedAdam\n",
    "from tensorflow.keras import Model\n",
    "import tensorflow.keras.backend as K\n",
    "import tensorflow.keras.layers as L\n",
    "import tensorflow.keras.models as M\n",
    "from tensorflow.keras.optimizers import Nadam\n",
    "import seaborn as sns\n",
    "from PIL import Image\n",
    "\n",
    "def seed_everything(seed=2020):\n",
    "    random.seed(seed)\n",
    "    os.environ['PYTHONHASHSEED'] = str(seed)\n",
    "    np.random.seed(seed)\n",
    "    tf.random.set_seed(seed)\n",
    "    \n",
    "seed_everything(43)\n",
    "config = tf.compat.v1.ConfigProto()\n",
    "config.gpu_options.allow_growth = True\n",
    "session = tf.compat.v1.Session(config=config)\n",
    "train = pd.read_csv('/home/jacoblamkey/Documents/Data/.kaggle/train.csv') \n",
    "\n",
    "tr_age_max = train.Age.values.max()\n",
    "tr_age_min = train.Age.values.min()\n",
    "tr_age_mean = train.Age.values.mean()\n",
    "\n",
    "def expandFVC_Percent(DS):\n",
    "    DS['FVC_Percent'] = DS['FVC'] / DS['Percent']\n",
    "    return DS\n",
    "\n",
    "def expandFE(data_set):\n",
    "    data_set['MinWeeks'] = data_set.groupby('Patient')['Weeks'].transform('min')\n",
    "    sub_tr = data_set.loc[data_set['Weeks']==data_set['MinWeeks']]\n",
    "\n",
    "    sub_tr['MinFVC'] = sub_tr['FVC']\n",
    "\n",
    "    sub_tr = sub_tr[['Patient', 'MinFVC']]\n",
    "\n",
    "    merged = data_set.merge(sub_tr, on='Patient', how='outer')\n",
    "\n",
    "\n",
    "    data_set=merged\n",
    "    \n",
    "    data_set['MinFVC'] = (data_set['MinFVC'] - data_set['MinFVC'].min())/(data_set['MinFVC'].max()-data_set['MinFVC'].min())\n",
    "    print(data_set.sample(5))\n",
    "    return data_set\n",
    "\n",
    "train = expandFE(train)\n",
    "# train = expandFVC_Percent(train)\n",
    "\n",
    "print(train.head())\n",
    "print(train.sample(10))\n",
    "\n",
    "def get_tab(df):\n",
    "    # df: data frame\n",
    "    # [age, male/female[0/1], SmokingStatus[00/11/01], BaseFvc] (5,)\n",
    "    vector = [(df.Age.values[0] - tr_age_min) / (tr_age_max-tr_age_min)] \n",
    "    \n",
    "    if df.Sex.values[0] == 'male':\n",
    "       vector.append(0)\n",
    "    else:\n",
    "       vector.append(1)\n",
    "    \n",
    "    if df.SmokingStatus.values[0] == 'Never smoked':\n",
    "        vector.extend([0,0])\n",
    "    elif df.SmokingStatus.values[0] == 'Ex-smoker':\n",
    "        vector.extend([1,1])\n",
    "    elif df.SmokingStatus.values[0] == 'Currently smokes':\n",
    "        vector.extend([0,1])\n",
    "    else:\n",
    "        vector.extend([1,0])\n",
    "    vector.extend([df['MinFVC'].values[0]])\n",
    "#     vector.extend([df['FVC_Percent'].values[0]])\n",
    "    return np.array(vector) \n",
    "\n",
    "A = {} \n",
    "TAB = {} \n",
    "P = [] \n",
    "for i, p in tqdm(enumerate(train.Patient.unique())):\n",
    "    sub = train.loc[train.Patient == p, :] \n",
    "    fvc = sub.FVC.values\n",
    "    weeks = sub.Weeks.values\n",
    "    c = np.vstack([weeks, np.ones(len(weeks))]).T\n",
    "    a, b = np.linalg.lstsq(c, fvc)[0]\n",
    "    \n",
    "    A[p] = a\n",
    "    TAB[p] = get_tab(sub)\n",
    "    P.append(p)\n",
    "\n",
    "def get_img(path):\n",
    "    d = pydicom.dcmread(path)\n",
    "    return cv2.resize(d.pixel_array / 2**11, (512, 512))\n",
    "\n",
    "from tensorflow.keras.utils import Sequence\n",
    "import math\n",
    "\n",
    "class IGenerator(Sequence):\n",
    "    BAD_ID = ['ID00011637202177653955184', 'ID00052637202186188008618']\n",
    "    def __init__(self, keys, a, tab, batch_size=8):\n",
    "        self.keys = [k for k in keys if k not in self.BAD_ID]\n",
    "        self.a = a\n",
    "        self.tab = tab\n",
    "        self.batch_size = batch_size\n",
    "        \n",
    "        self.train_data = {}  # imgs for each person; self.trian_data[pi] = [img1, img2, ..., imgn]\n",
    "        for p in train.Patient.values:\n",
    "            # filenames in \"~/train/personid/\"\n",
    "            self.train_data[p] = os.listdir(f'/home/jacoblamkey/Documents/Data/.kaggle/train/{p}/')\n",
    "    \n",
    "    def __len__(self):\n",
    "#         return 1000\n",
    "        return math.ceil(len(self.keys) / float(self.batch_size)) \n",
    "    \n",
    "    def __getitem__(self, idx):\n",
    "        x = []\n",
    "        a, tab = [], [] \n",
    "        keys = np.random.choice(self.keys, size = self.batch_size)  # persons in batch size\n",
    "        for k in keys:\n",
    "            #  chose a {[img, tab], a}for each person (only 1 img)\n",
    "            try:\n",
    "                self.train_data[k].sort()\n",
    "                mx_len = len(self.train_data[k])\n",
    "                i = np.random.choice(self.train_data[k][mx_len//3:mx_len//3*2], size=1)[0]\n",
    "#                 i = self.train_data[k][max_len//2]\n",
    "                img = get_img(f'/home/jacoblamkey/Documents/Data/.kaggle/train/{k}/{i}')\n",
    "                x.append(img)\n",
    "                a.append(self.a[k])\n",
    "                tab.append(self.tab[k])\n",
    "            except:\n",
    "                print(k, i)\n",
    "       \n",
    "        x, a, tab = np.array(x), np.array(a), np.array(tab)\n",
    "        x = np.expand_dims(x, axis=-1)\n",
    "        return [x, tab] , a\n",
    "\n",
    "from tensorflow.keras.layers import (\n",
    "    Dense, Dropout, Activation, Flatten, Input, BatchNormalization, GlobalAveragePooling2D, Add, Conv2D, AveragePooling2D, \n",
    "    LeakyReLU, Concatenate \n",
    ")\n",
    "import efficientnet.tfkeras as efn\n",
    "\n",
    "def get_efficientnet(model, shape):\n",
    "    models_dict = {\n",
    "        'b0': efn.EfficientNetB0(input_shape=shape,weights=None,include_top=False),\n",
    "        'b1': efn.EfficientNetB1(input_shape=shape,weights=None,include_top=False),\n",
    "        'b2': efn.EfficientNetB2(input_shape=shape,weights=None,include_top=False),\n",
    "        'b3': efn.EfficientNetB3(input_shape=shape,weights=None,include_top=False),\n",
    "        'b4': efn.EfficientNetB4(input_shape=shape,weights=None,include_top=False),\n",
    "        'b5': efn.EfficientNetB5(input_shape=shape,weights=None,include_top=False),\n",
    "        'b6': efn.EfficientNetB6(input_shape=shape,weights=None,include_top=False),\n",
    "        'b7': efn.EfficientNetB7(input_shape=shape,weights=None,include_top=False)\n",
    "    }\n",
    "    return models_dict[model]\n",
    "\n",
    "def build_model(shape=(512, 512, 1), model_class=None):\n",
    "    inp = Input(shape=shape)\n",
    "    base = get_efficientnet(model_class, shape)\n",
    "    x = base(inp)\n",
    "    x = GlobalAveragePooling2D()(x)\n",
    "#     inp2 = Input(shape=(4,))  # original is 4\n",
    "    inp2 = Input(shape=(5,))  # add the feature of MinFVC\n",
    "    x2 = tf.keras.layers.GaussianNoise(0.2)(inp2)\n",
    "    x = Concatenate()([x, x2]) \n",
    "    x = Dropout(Dropout_model)(x)\n",
    "    x = Dense(1)(x)\n",
    "    model = Model([inp, inp2] , x)\n",
    "    \n",
    "#     weights = [w for w in os.listdir('../input/osic-model-weights') if model_class in w][0]\n",
    "#     model.load_weights('../input/osic-model-weights/' + weights)\n",
    "    return model\n",
    "\n",
    "model_classes = ['b5'] #['b0','b1','b2','b3',b4','b5','b6','b7']\n",
    "with strategy.scope():\n",
    "    models = [build_model(shape=(512, 512, 1), model_class=m) for m in model_classes]\n",
    "    \n",
    "print('Number of models: ' + str(len(models)))\n",
    "\n",
    "model = models[0]\n",
    "\n",
    "# model = get_model()\n",
    "\n",
    "# efn_path = \"../input/trainefn/efn.ckpt\"\n",
    "# model.load_weights(efn_path)\n",
    "\n",
    "model.summary()\n",
    "# model.compile(optimizer=tf.keras.optimizers.Adam(learning_rate=0.01), loss='mae')  # original is lr=0.001\n",
    "\n",
    "def score(fvc_true, fvc_pred, sigma):\n",
    "    sigma_clip = np.maximum(sigma, 70) # changed from 70, trie 66.7 too\n",
    "    delta = np.abs(fvc_true - fvc_pred)\n",
    "    delta = np.minimum(delta, 1000)\n",
    "    sq2 = np.sqrt(2)\n",
    "    metric = (delta / sigma_clip)*sq2 + np.log(sigma_clip* sq2)\n",
    "    return np.mean(metric)\n",
    "subs = []\n",
    "q = -1\n",
    "\n",
    "q = -1\n",
    "# with open('../input/trainefn/q.txt', 'r') as f:\n",
    "#     q=float(f.readlines()[0].strip())\n",
    "print(q)\n",
    "\n",
    "sub = pd.read_csv('/home/jacoblamkey/Documents/Data/.kaggle/sample_submission.csv') \n",
    "test = pd.read_csv('/home/jacoblamkey/Documents/Data/.kaggle/test.csv') \n",
    "A_test, B_test, P_test,W, FVC= {}, {}, {},{},{} \n",
    "STD, WEEK = {}, {} \n",
    "\n",
    "test = expandFE(test)\n",
    "# test = expandFVC_Percent(test)\n",
    "\n",
    "for p in test.Patient.unique():\n",
    "    x = [] \n",
    "    tab = [] \n",
    "    ldir = os.listdir(f'/home/jacoblamkey/Documents/Data/.kaggle/test/{p}/')\n",
    "    for i in ldir:\n",
    "        if int(i[:-4]) / len(ldir) < 0.8 and int(i[:-4]) / len(ldir) > 0.15:\n",
    "            x.append(get_img(f'/home/jacoblamkey/Documents/Data/.kaggle/test/{p}/{i}')) \n",
    "            tab.append(get_tab(test.loc[test.Patient == p, :])) \n",
    "    if len(x) <= 1:\n",
    "        continue\n",
    "    tab = np.array(tab) \n",
    "\n",
    "    x = np.expand_dims(x, axis=-1) \n",
    "    _a = model.predict([x, tab]) \n",
    "    a = np.quantile(_a, q)\n",
    "    A_test[p] = a\n",
    "    B_test[p] = test.FVC.values[test.Patient == p] - a*test.Weeks.values[test.Patient == p]\n",
    "    P_test[p] = test.Percent.values[test.Patient == p] \n",
    "    WEEK[p] = test.Weeks.values[test.Patient == p]\n",
    "\n",
    "\n",
    "for k in sub.Patient_Week.values:\n",
    "    p, w = k.split('_')\n",
    "    w = int(w) \n",
    "\n",
    "    fvc = A_test[p] * w + B_test[p]\n",
    "    sub.loc[sub.Patient_Week == k, 'FVC'] = fvc\n",
    "    sub.loc[sub.Patient_Week == k, 'Confidence'] = (\n",
    "        P_test[p] - A_test[p] * abs(WEEK[p] - w) \n",
    ") \n",
    "\n",
    "_sub = sub[[\"Patient_Week\",\"FVC\",\"Confidence\"]].copy()\n",
    "subs.append(_sub)\n",
    "print(subs)\n",
    "\n",
    "N = len(subs)\n",
    "print(N)\n",
    "sub = subs[0].copy() # ref\n",
    "sub[\"FVC\"] = 0\n",
    "sub[\"Confidence\"] = 0\n",
    "for i in range(N):\n",
    "    sub[\"FVC\"] += subs[0][\"FVC\"] * (1/N)\n",
    "    sub[\"Confidence\"] += subs[0][\"Confidence\"] * (1/N)\n",
    "sub[[\"Patient_Week\",\"FVC\",\"Confidence\"]].to_csv(\"submission_img.csv\", index=False)\n",
    "img_sub = sub[[\"Patient_Week\",\"FVC\",\"Confidence\"]].copy()\n",
    "print(img_sub.sample(5))\n",
    "\n",
    "ROOT = \"/home/jacoblamkey/Documents/Data/.kaggle\"\n",
    "BATCH_SIZE=128*strategy.num_replicas_in_sync\n",
    "\n",
    "tr = pd.read_csv(f\"{ROOT}/train.csv\")\n",
    "tr.drop_duplicates(keep=False, inplace=True, subset=['Patient','Weeks'])\n",
    "chunk = pd.read_csv(f\"{ROOT}/test.csv\")\n",
    "\n",
    "print(\"add infos\")\n",
    "sub = pd.read_csv(f\"{ROOT}/sample_submission.csv\")\n",
    "sub['Patient'] = sub['Patient_Week'].apply(lambda x:x.split('_')[0])\n",
    "sub['Weeks'] = sub['Patient_Week'].apply(lambda x: int(x.split('_')[-1]))\n",
    "sub =  sub[['Patient','Weeks','Confidence','Patient_Week']]\n",
    "sub = sub.merge(chunk.drop('Weeks', axis=1), on=\"Patient\")\n",
    "tr['WHERE'] = 'train'\n",
    "chunk['WHERE'] = 'val'\n",
    "sub['WHERE'] = 'test'\n",
    "data = tr.append([chunk, sub])\n",
    "print(tr.shape, chunk.shape, sub.shape, data.shape)\n",
    "print(tr.Patient.nunique(), chunk.Patient.nunique(), sub.Patient.nunique(), \n",
    "      data.Patient.nunique())\n",
    "\n",
    "data['min_week'] = data['Weeks']\n",
    "data.loc[data.WHERE=='test','min_week'] = np.nan\n",
    "data['min_week'] = data.groupby('Patient')['min_week'].transform('min')\n",
    "base = data.loc[data.Weeks == data.min_week]\n",
    "base = base[['Patient','FVC']].copy()\n",
    "base.columns = ['Patient','min_FVC']\n",
    "base['nb'] = 1\n",
    "base['nb'] = base.groupby('Patient')['nb'].transform('cumsum')\n",
    "base = base[base.nb==1]\n",
    "base.drop('nb', axis=1, inplace=True)\n",
    "data = data.merge(base, on='Patient', how='left')\n",
    "data['base_week'] = data['Weeks'] - data['min_week']\n",
    "del base\n",
    "COLS = ['Sex','SmokingStatus'] #,'Age'\n",
    "FE = []\n",
    "for col in COLS:\n",
    "    for mod in data[col].unique():\n",
    "        FE.append(mod)\n",
    "        data[mod] = (data[col] == mod).astype(int)\n",
    "#\n",
    "data['age'] = (data['Age'] - data['Age'].min() ) / ( data['Age'].max() - data['Age'].min() )\n",
    "data['BASE'] = (data['min_FVC'] - data['min_FVC'].min() ) / ( data['min_FVC'].max() - data['min_FVC'].min() )\n",
    "data['week'] = (data['base_week'] - data['base_week'].min() ) / ( data['base_week'].max() - data['base_week'].min() )\n",
    "data['percent'] = (data['Percent'] - data['Percent'].min() ) / ( data['Percent'].max() - data['Percent'].min() )\n",
    "data['FVC_Percent'] = data['FVC'] / data['Percent']\n",
    "# FE += ['age','percent','week','BASE', 'FVC_Percent']\n",
    "FE += ['age','percent','week','BASE']\n",
    "tr = data.loc[data.WHERE=='train']\n",
    "chunk = data.loc[data.WHERE=='val']\n",
    "sub = data.loc[data.WHERE=='test']\n",
    "del data\n",
    "C1, C2 = tf.constant(70, dtype='float32'), tf.constant(1000, dtype=\"float32\")\n",
    "def score(y_true, y_pred):\n",
    "    tf.dtypes.cast(y_true, tf.float32)\n",
    "    tf.dtypes.cast(y_pred, tf.float32)\n",
    "    sigma = y_pred[:, 2] - y_pred[:, 0]\n",
    "    fvc_pred = y_pred[:, 1]\n",
    "    \n",
    "    #sigma_clip = sigma + C1\n",
    "    sigma_clip = tf.maximum(sigma, C1)\n",
    "    delta = tf.abs(y_true[:, 0] - fvc_pred)\n",
    "    delta = tf.minimum(delta, C2)\n",
    "    sq2 = tf.sqrt( tf.dtypes.cast(2, dtype=tf.float32) )\n",
    "    metric = (delta / sigma_clip)*sq2 + tf.math.log(sigma_clip* sq2)\n",
    "    return K.mean(metric)\n",
    "\n",
    "def qloss(y_true, y_pred):\n",
    "    # Pinball loss for multiple quantiles\n",
    "    qs = [0.2, 0.50, 0.8]\n",
    "    q = tf.constant(np.array([qs]), dtype=tf.float32)\n",
    "    e = y_true - y_pred\n",
    "    v = tf.maximum(q*e, (q-1)*e)\n",
    "    return K.mean(v)\n",
    "\n",
    "def mloss(_lambda):\n",
    "    def loss(y_true, y_pred):\n",
    "        return _lambda * qloss(y_true, y_pred) + (1 - _lambda)*score(y_true, y_pred)\n",
    "    return loss\n",
    "\n",
    "\n",
    "def make_model(nh):\n",
    "    z = L.Input((nh,), name=\"Patient\")\n",
    "    x = L.Dense(100, activation=\"relu\", name=\"d1\")(z)\n",
    "    x = L.Dense(100, activation=\"relu\", name=\"d2\")(x)\n",
    "    p1 = L.Dense(3, activation=\"linear\", name=\"p1\")(x)\n",
    "    p2 = L.Dense(3, activation=\"relu\", name=\"p2\")(x)\n",
    "    preds = L.Lambda(lambda x: x[0] + tf.cumsum(x[1], axis=1), \n",
    "                     name=\"preds\")([p1, p2])\n",
    "    \n",
    "    model = M.Model(z, preds, name=\"CNN\")\n",
    "    model.compile(loss=mloss(0.65), optimizer=tf.keras.optimizers.Adam(lr=0.1, beta_1=0.9, beta_2=0.999, epsilon=None, decay=0.01, amsgrad=False), metrics=[score])\n",
    "    return model\n",
    "print(FE)\n",
    "\n",
    "y = tr['FVC'].values  # train target\n",
    "z = tr[FE].values  # fetures (1535, 9)\n",
    "print(z.shape)\n",
    "ze = sub[FE].values  # fetures of submission (730, 9) e: estimate\n",
    "print(ze.shape) \n",
    "nh = z.shape[1] \n",
    "print(nh)  # feature numbers (9,)\n",
    "pe = np.zeros((ze.shape[0], 3))  #estimate of prediction\n",
    "pred = np.zeros((z.shape[0], 3))  # prediction of truth ground\n",
    "with strategy.scope():    \n",
    "    net = make_model(nh)\n",
    "print(net.summary())\n",
    "print(net.count_params())\n",
    "NFOLD = 5 # originally 5\n",
    "kf = KFold(n_splits=NFOLD)\n",
    "\n",
    "cnt = 0\n",
    "EPOCHS = 800\n",
    "y = y.astype(np.float32)\n",
    "for tr_idx, val_idx in kf.split(z):\n",
    "    cnt += 1\n",
    "    print(f\"FOLD {cnt}\")\n",
    "    net = make_model(nh)\n",
    "    net.fit(z[tr_idx], y[tr_idx], batch_size=BATCH_SIZE, epochs=EPOCHS, \n",
    "            validation_data=(z[val_idx], y[val_idx]), verbose=0) #\n",
    "    print(\"train\", net.evaluate(z[tr_idx], y[tr_idx], verbose=0, batch_size=BATCH_SIZE))\n",
    "    print(\"val\", net.evaluate(z[val_idx], y[val_idx], verbose=0, batch_size=BATCH_SIZE))\n",
    "    print(\"predict val...\")\n",
    "    pred[val_idx] = net.predict(z[val_idx], batch_size=BATCH_SIZE, verbose=0)\n",
    "    print(\"predict test...\")\n",
    "    pe += net.predict(ze, batch_size=BATCH_SIZE, verbose=0) / NFOLD\n",
    "\n",
    "sigma_opt = mean_absolute_error(y, pred[:, 1])\n",
    "unc = pred[:,2] - pred[:, 0]\n",
    "sigma_mean = np.mean(unc)\n",
    "print(sigma_opt, sigma_mean)\n",
    "idxs = np.random.randint(0, y.shape[0], 100)\n",
    "plt.plot(y[idxs], label=\"ground truth\")\n",
    "plt.plot(pred[idxs, 0], label=\"q25\")\n",
    "plt.plot(pred[idxs, 1], label=\"q50\")\n",
    "plt.plot(pred[idxs, 2], label=\"q75\")\n",
    "plt.legend(loc=\"best\")\n",
    "plt.show()\n",
    "print(unc.min(), unc.mean(), unc.max(), (unc>=0).mean())\n",
    "plt.hist(unc)\n",
    "plt.title(\"uncertainty in prediction\")\n",
    "plt.show()\n",
    "sub.head()\n",
    "# PREDICTION\n",
    "sub['FVC1'] = 1.*pe[:, 1]\n",
    "sub['Confidence1'] = pe[:, 2] - pe[:, 0]\n",
    "subm = sub[['Patient_Week','FVC','Confidence','FVC1','Confidence1']].copy()\n",
    "subm.loc[~subm.FVC1.isnull()].head(10)\n",
    "subm.loc[~subm.FVC1.isnull(),'FVC'] = subm.loc[~subm.FVC1.isnull(),'FVC1']\n",
    "if sigma_mean<70:\n",
    "    subm['Confidence'] = sigma_opt\n",
    "else:\n",
    "    subm.loc[~subm.FVC1.isnull(),'Confidence'] = subm.loc[~subm.FVC1.isnull(),'Confidence1']\n",
    "subm.head()\n",
    "subm.describe().T\n",
    "otest = pd.read_csv('/home/jacoblamkey/Documents/Data/.kaggle/test.csv')\n",
    "for i in range(len(otest)):\n",
    "    subm.loc[subm['Patient_Week']==otest.Patient[i]+'_'+str(otest.Weeks[i]), 'FVC'] = otest.FVC[i]\n",
    "    subm.loc[subm['Patient_Week']==otest.Patient[i]+'_'+str(otest.Weeks[i]), 'Confidence'] = 0.1\n",
    "subm[[\"Patient_Week\",\"FVC\",\"Confidence\"]].to_csv(\"submission_regression.csv\", index=False)\n",
    "reg_sub = subm[[\"Patient_Week\",\"FVC\",\"Confidence\"]].copy()\n",
    "df1 = img_sub.sort_values(by=['Patient_Week'], ascending=True).reset_index(drop=True)\n",
    "df2 = reg_sub.sort_values(by=['Patient_Week'], ascending=True).reset_index(drop=True)\n",
    "df = df1[['Patient_Week']].copy()\n",
    "df['FVC'] = FVC_weight*df1['FVC'] + (1-FVC_weight)*df2['FVC']\n",
    "df['Confidence'] = Confidence_weight*df1['Confidence'] + (1-Confidence_weight)*df2['Confidence']\n",
    "df.head();\n",
    "df.to_csv('submission.csv', index=False)\n",
    "\n",
    "df_issa4 = df.copy()\n",
    "\n"
   ]
  },
  {
   "cell_type": "markdown",
   "metadata": {},
   "source": [
    "Notebook 5"
   ]
  },
  {
   "cell_type": "code",
   "execution_count": 104,
   "metadata": {},
   "outputs": [
    {
     "name": "stdout",
     "output_type": "stream",
     "text": [
      "                        Patient  Weeks   FVC    Percent  Age     Sex  \\\n",
      "942   ID00233637202260580149633      9  3609  94.993683   68    Male   \n",
      "1158  ID00299637202280383305867     60  2141  78.344555   78    Male   \n",
      "856   ID00216637202257988213445     63  2105  55.954280   65    Male   \n",
      "460   ID00119637202215426335765     16  2950  67.456325   57    Male   \n",
      "549   ID00130637202220059448013     48  1351  55.840291   65  Female   \n",
      "\n",
      "     SmokingStatus  MinWeeks    MinFVC  \n",
      "942      Ex-smoker        -3  0.522660  \n",
      "1158     Ex-smoker        22  0.203195  \n",
      "856   Never smoked        10  0.305163  \n",
      "460      Ex-smoker         2  0.353269  \n",
      "549   Never smoked        11  0.125371  \n",
      "                     Patient  Weeks   FVC    Percent  Age   Sex SmokingStatus  \\\n",
      "0  ID00007637202177411956430     -4  2315  58.253649   79  Male     Ex-smoker   \n",
      "1  ID00007637202177411956430      5  2214  55.712129   79  Male     Ex-smoker   \n",
      "2  ID00007637202177411956430      7  2061  51.862104   79  Male     Ex-smoker   \n",
      "3  ID00007637202177411956430      9  2144  53.950679   79  Male     Ex-smoker   \n",
      "4  ID00007637202177411956430     11  2069  52.063412   79  Male     Ex-smoker   \n",
      "\n",
      "   MinWeeks    MinFVC  \n",
      "0        -4  0.241456  \n",
      "1        -4  0.241456  \n",
      "2        -4  0.241456  \n",
      "3        -4  0.241456  \n",
      "4        -4  0.241456  \n",
      "                        Patient  Weeks   FVC     Percent  Age     Sex  \\\n",
      "1212  ID00319637202283897208687     69  4218  123.796666   72    Male   \n",
      "906   ID00225637202259339837603     23   969   49.075715   77  Female   \n",
      "1339  ID00355637202295106567614     32  4323  138.185654   65    Male   \n",
      "330   ID00089637202204675567570     11  2511   58.739590   63    Male   \n",
      "146   ID00038637202182690843176     19  4000   98.357431   71    Male   \n",
      "497   ID00125637202218590429387     10  2337   53.483156   65    Male   \n",
      "384   ID00102637202206574119190     29  2196   59.044956   60    Male   \n",
      "508   ID00126637202218610655908     18  2375   59.375000   78    Male   \n",
      "917   ID00228637202259965313869     50  1657   75.225859   58  Female   \n",
      "1068  ID00276637202271694539978      9  2828   79.322338   77    Male   \n",
      "\n",
      "         SmokingStatus  MinWeeks    MinFVC  \n",
      "1212         Ex-smoker        12  0.580981  \n",
      "906       Never smoked        13  0.105498  \n",
      "1339  Currently smokes        24  0.632058  \n",
      "330       Never smoked         7  0.271731  \n",
      "146          Ex-smoker         6  0.544391  \n",
      "497       Never smoked         8  0.291419  \n",
      "384          Ex-smoker         3  0.285661  \n",
      "508          Ex-smoker        18  0.252600  \n",
      "917          Ex-smoker        14  0.161590  \n",
      "1068         Ex-smoker         6  0.388559  \n"
     ]
    },
    {
     "name": "stderr",
     "output_type": "stream",
     "text": [
      "/home/jacoblamkey/anaconda3/envs/tf/lib/python3.7/site-packages/ipykernel_launcher.py:50: SettingWithCopyWarning: \n",
      "A value is trying to be set on a copy of a slice from a DataFrame.\n",
      "Try using .loc[row_indexer,col_indexer] = value instead\n",
      "\n",
      "See the caveats in the documentation: https://pandas.pydata.org/pandas-docs/stable/user_guide/indexing.html#returning-a-view-versus-a-copy\n"
     ]
    },
    {
     "data": {
      "application/vnd.jupyter.widget-view+json": {
       "model_id": "25b8eb9410f84bccbcfec787ba88c27f",
       "version_major": 2,
       "version_minor": 0
      },
      "text/plain": [
       "HBox(children=(FloatProgress(value=1.0, bar_style='info', layout=Layout(width='20px'), max=1.0), HTML(value=''…"
      ]
     },
     "metadata": {},
     "output_type": "display_data"
    },
    {
     "name": "stderr",
     "output_type": "stream",
     "text": [
      "/home/jacoblamkey/anaconda3/envs/tf/lib/python3.7/site-packages/ipykernel_launcher.py:99: FutureWarning: `rcond` parameter will change to the default of machine precision times ``max(M, N)`` where M and N are the input matrix dimensions.\n",
      "To use the future default and silence this warning we advise to pass `rcond=None`, to keep using the old, explicitly pass `rcond=-1`.\n"
     ]
    },
    {
     "name": "stdout",
     "output_type": "stream",
     "text": [
      "\n",
      "Number of models: 1\n",
      "Model: \"functional_11\"\n",
      "__________________________________________________________________________________________________\n",
      "Layer (type)                    Output Shape         Param #     Connected to                     \n",
      "==================================================================================================\n",
      "input_56 (InputLayer)           [(None, 512, 512, 1) 0                                            \n",
      "__________________________________________________________________________________________________\n",
      "efficientnet-b5 (Functional)    (None, 16, 16, 2048) 28512656    input_56[0][0]                   \n",
      "__________________________________________________________________________________________________\n",
      "input_65 (InputLayer)           [(None, 5)]          0                                            \n",
      "__________________________________________________________________________________________________\n",
      "global_average_pooling2d_5 (Glo (None, 2048)         0           efficientnet-b5[0][0]            \n",
      "__________________________________________________________________________________________________\n",
      "gaussian_noise_5 (GaussianNoise (None, 5)            0           input_65[0][0]                   \n",
      "__________________________________________________________________________________________________\n",
      "concatenate_5 (Concatenate)     (None, 2053)         0           global_average_pooling2d_5[0][0] \n",
      "                                                                 gaussian_noise_5[0][0]           \n",
      "__________________________________________________________________________________________________\n",
      "dropout_5 (Dropout)             (None, 2053)         0           concatenate_5[0][0]              \n",
      "__________________________________________________________________________________________________\n",
      "dense_5 (Dense)                 (None, 1)            2054        dropout_5[0][0]                  \n",
      "==================================================================================================\n",
      "Total params: 28,514,710\n",
      "Trainable params: 28,341,974\n",
      "Non-trainable params: 172,736\n",
      "__________________________________________________________________________________________________\n",
      "1\n",
      "                     Patient  Weeks   FVC    Percent  Age   Sex SmokingStatus  \\\n",
      "1  ID00421637202311550012437     15  2739  82.045291   68  Male     Ex-smoker   \n",
      "3  ID00423637202312137826377     17  3294  79.258903   72  Male     Ex-smoker   \n",
      "4  ID00426637202313170790466      0  2925  71.824968   73  Male  Never smoked   \n",
      "2  ID00422637202311677017371      6  1930  76.672493   73  Male     Ex-smoker   \n",
      "0  ID00419637202311204720264      6  3020  70.186855   73  Male     Ex-smoker   \n",
      "\n",
      "   MinWeeks    MinFVC  \n",
      "1        15  0.593109  \n",
      "3        17  1.000000  \n",
      "4         0  0.729472  \n",
      "2         6  0.000000  \n",
      "0         6  0.799120  \n",
      "[                      Patient_Week          FVC  Confidence\n",
      "0    ID00419637202311204720264_-12  3018.326357   68.513212\n",
      "1    ID00421637202311550012437_-12  2736.402229   79.447520\n",
      "2    ID00422637202311677017371_-12  1927.959637   74.632130\n",
      "3    ID00423637202312137826377_-12  3291.463858   76.722761\n",
      "4    ID00426637202313170790466_-12  2924.577381   71.402349\n",
      "..                             ...          ...         ...\n",
      "725  ID00419637202311204720264_133  3031.808484   58.378371\n",
      "726  ID00421637202311550012437_133  2750.353221   70.692070\n",
      "727  ID00422637202311677017371_133  1944.395897   62.276596\n",
      "728  ID00423637202312137826377_133  3304.144569   69.114334\n",
      "729  ID00426637202313170790466_133  2929.684027   67.140941\n",
      "\n",
      "[730 rows x 3 columns]]\n",
      "1\n",
      "                      Patient_Week          FVC  Confidence\n",
      "527   ID00422637202311677017371_93  1939.861756   66.810737\n",
      "582  ID00422637202311677017371_104  1941.108645   65.563848\n",
      "248   ID00423637202312137826377_37  3295.749064   77.509839\n",
      "11   ID00421637202311550012437_-10  2736.594657   79.639948\n",
      "185   ID00419637202311204720264_25  3021.766624   68.420231\n",
      "add infos\n",
      "(1535, 8) (5, 8) (730, 10) (2270, 10)\n",
      "176 5 5 176\n",
      "['Male', 'Female', 'Ex-smoker', 'Never smoked', 'Currently smokes', 'age', 'percent', 'week', 'BASE']\n",
      "(1535, 9)\n",
      "(730, 9)\n",
      "9\n",
      "Model: \"CNN\"\n",
      "__________________________________________________________________________________________________\n",
      "Layer (type)                    Output Shape         Param #     Connected to                     \n",
      "==================================================================================================\n",
      "Patient (InputLayer)            [(None, 9)]          0                                            \n",
      "__________________________________________________________________________________________________\n",
      "d1 (Dense)                      (None, 100)          1000        Patient[0][0]                    \n",
      "__________________________________________________________________________________________________\n",
      "d2 (Dense)                      (None, 100)          10100       d1[0][0]                         \n",
      "__________________________________________________________________________________________________\n",
      "p1 (Dense)                      (None, 3)            303         d2[0][0]                         \n",
      "__________________________________________________________________________________________________\n",
      "p2 (Dense)                      (None, 3)            303         d2[0][0]                         \n",
      "__________________________________________________________________________________________________\n",
      "preds (Lambda)                  (None, 3)            0           p1[0][0]                         \n",
      "                                                                 p2[0][0]                         \n",
      "==================================================================================================\n",
      "Total params: 11,706\n",
      "Trainable params: 11,706\n",
      "Non-trainable params: 0\n",
      "__________________________________________________________________________________________________\n",
      "None\n",
      "11706\n",
      "FOLD 1\n",
      "train [32.62990188598633, 6.476450443267822]\n",
      "val [40.8638916015625, 6.920377731323242]\n",
      "predict val...\n",
      "predict test...\n",
      "FOLD 2\n",
      "train [34.54022979736328, 6.531473636627197]\n",
      "val [43.16527557373047, 6.926662445068359]\n",
      "predict val...\n",
      "predict test...\n",
      "FOLD 3\n",
      "train [32.40304946899414, 6.441590785980225]\n",
      "val [45.71232986450195, 6.673593521118164]\n",
      "predict val...\n",
      "predict test...\n",
      "FOLD 4\n",
      "train [35.5460319519043, 6.563922882080078]\n",
      "val [35.53181457519531, 6.509653091430664]\n",
      "predict val...\n",
      "predict test...\n",
      "FOLD 5\n",
      "train [32.739131927490234, 6.4653472900390625]\n",
      "val [43.334049224853516, 6.801885604858398]\n",
      "predict val...\n",
      "predict test...\n",
      "145.32647605672332 234.2406960552601\n"
     ]
    },
    {
     "data": {
      "image/png": "[encoded data removed]",
      "text/plain": [
       "<Figure size 432x288 with 1 Axes>"
      ]
     },
     "metadata": {
      "needs_background": "light"
     },
     "output_type": "display_data"
    },
    {
     "name": "stdout",
     "output_type": "stream",
     "text": [
      "53.73095703125 234.2406960552601 382.04931640625 1.0\n"
     ]
    },
    {
     "data": {
      "image/png": "[encoded data removed]",
      "text/plain": [
       "<Figure size 432x288 with 1 Axes>"
      ]
     },
     "metadata": {
      "needs_background": "light"
     },
     "output_type": "display_data"
    }
   ],
   "source": [
    "Dropout_model = 0.3856\n",
    "FVC_weight = 0.2\n",
    "Confidence_weight = 0\n",
    "#!pip install ../input/kerasapplications/keras-team-keras-applications-3b180cb -f ./ --no-index\n",
    "#!pip install ../input/efficientnet/efficientnet-1.1.0/ -f ./ --no-index\n",
    "import os\n",
    "import cv2\n",
    "import pydicom\n",
    "import pandas as pd\n",
    "import numpy as np \n",
    "import tensorflow as tf \n",
    "import matplotlib.pyplot as plt \n",
    "import random\n",
    "from tqdm.notebook import tqdm \n",
    "from sklearn.model_selection import train_test_split, KFold\n",
    "from sklearn.metrics import mean_absolute_error\n",
    "from tensorflow_addons.optimizers import RectifiedAdam\n",
    "from tensorflow.keras import Model\n",
    "import tensorflow.keras.backend as K\n",
    "import tensorflow.keras.layers as L\n",
    "import tensorflow.keras.models as M\n",
    "from tensorflow.keras.optimizers import Nadam\n",
    "import seaborn as sns\n",
    "from PIL import Image\n",
    "\n",
    "def seed_everything(seed=2020):\n",
    "    random.seed(seed)\n",
    "    os.environ['PYTHONHASHSEED'] = str(seed)\n",
    "    np.random.seed(seed)\n",
    "    tf.random.set_seed(seed)\n",
    "    \n",
    "seed_everything(44)\n",
    "config = tf.compat.v1.ConfigProto()\n",
    "config.gpu_options.allow_growth = True\n",
    "session = tf.compat.v1.Session(config=config)\n",
    "train = pd.read_csv('/home/jacoblamkey/Documents/Data/.kaggle/train.csv') \n",
    "\n",
    "tr_age_max = train.Age.values.max()\n",
    "tr_age_min = train.Age.values.min()\n",
    "tr_age_mean = train.Age.values.mean()\n",
    "\n",
    "def expandFVC_Percent(DS):\n",
    "    DS['FVC_Percent'] = DS['FVC'] / DS['Percent']\n",
    "    return DS\n",
    "\n",
    "def expandFE(data_set):\n",
    "    data_set['MinWeeks'] = data_set.groupby('Patient')['Weeks'].transform('min')\n",
    "    sub_tr = data_set.loc[data_set['Weeks']==data_set['MinWeeks']]\n",
    "\n",
    "    sub_tr['MinFVC'] = sub_tr['FVC']\n",
    "\n",
    "    sub_tr = sub_tr[['Patient', 'MinFVC']]\n",
    "\n",
    "    merged = data_set.merge(sub_tr, on='Patient', how='outer')\n",
    "\n",
    "\n",
    "    data_set=merged\n",
    "    \n",
    "    data_set['MinFVC'] = (data_set['MinFVC'] - data_set['MinFVC'].min())/(data_set['MinFVC'].max()-data_set['MinFVC'].min())\n",
    "    print(data_set.sample(5))\n",
    "    return data_set\n",
    "\n",
    "train = expandFE(train)\n",
    "# train = expandFVC_Percent(train)\n",
    "\n",
    "print(train.head())\n",
    "print(train.sample(10))\n",
    "\n",
    "def get_tab(df):\n",
    "    # df: data frame\n",
    "    # [age, male/female[0/1], SmokingStatus[00/11/01], BaseFvc] (5,)\n",
    "    vector = [(df.Age.values[0] - tr_age_min) / (tr_age_max-tr_age_min)] \n",
    "    \n",
    "    if df.Sex.values[0] == 'male':\n",
    "       vector.append(0)\n",
    "    else:\n",
    "       vector.append(1)\n",
    "    \n",
    "    if df.SmokingStatus.values[0] == 'Never smoked':\n",
    "        vector.extend([0,0])\n",
    "    elif df.SmokingStatus.values[0] == 'Ex-smoker':\n",
    "        vector.extend([1,1])\n",
    "    elif df.SmokingStatus.values[0] == 'Currently smokes':\n",
    "        vector.extend([0,1])\n",
    "    else:\n",
    "        vector.extend([1,0])\n",
    "    vector.extend([df['MinFVC'].values[0]])\n",
    "#     vector.extend([df['FVC_Percent'].values[0]])\n",
    "    return np.array(vector) \n",
    "\n",
    "A = {} \n",
    "TAB = {} \n",
    "P = [] \n",
    "for i, p in tqdm(enumerate(train.Patient.unique())):\n",
    "    sub = train.loc[train.Patient == p, :] \n",
    "    fvc = sub.FVC.values\n",
    "    weeks = sub.Weeks.values\n",
    "    c = np.vstack([weeks, np.ones(len(weeks))]).T\n",
    "    a, b = np.linalg.lstsq(c, fvc)[0]\n",
    "    \n",
    "    A[p] = a\n",
    "    TAB[p] = get_tab(sub)\n",
    "    P.append(p)\n",
    "\n",
    "def get_img(path):\n",
    "    d = pydicom.dcmread(path)\n",
    "    return cv2.resize(d.pixel_array / 2**11, (512, 512))\n",
    "\n",
    "from tensorflow.keras.utils import Sequence\n",
    "import math\n",
    "\n",
    "class IGenerator(Sequence):\n",
    "    BAD_ID = ['ID00011637202177653955184', 'ID00052637202186188008618']\n",
    "    def __init__(self, keys, a, tab, batch_size=8):\n",
    "        self.keys = [k for k in keys if k not in self.BAD_ID]\n",
    "        self.a = a\n",
    "        self.tab = tab\n",
    "        self.batch_size = batch_size\n",
    "        \n",
    "        self.train_data = {}  # imgs for each person; self.trian_data[pi] = [img1, img2, ..., imgn]\n",
    "        for p in train.Patient.values:\n",
    "            # filenames in \"~/train/personid/\"\n",
    "            self.train_data[p] = os.listdir(f'/home/jacoblamkey/Documents/Data/.kaggle/train/{p}/')\n",
    "    \n",
    "    def __len__(self):\n",
    "#         return 1000\n",
    "        return math.ceil(len(self.keys) / float(self.batch_size)) \n",
    "    \n",
    "    def __getitem__(self, idx):\n",
    "        x = []\n",
    "        a, tab = [], [] \n",
    "        keys = np.random.choice(self.keys, size = self.batch_size)  # persons in batch size\n",
    "        for k in keys:\n",
    "            #  chose a {[img, tab], a}for each person (only 1 img)\n",
    "            try:\n",
    "                self.train_data[k].sort()\n",
    "                mx_len = len(self.train_data[k])\n",
    "                i = np.random.choice(self.train_data[k][mx_len//3:mx_len//3*2], size=1)[0]\n",
    "#                 i = self.train_data[k][max_len//2]\n",
    "                img = get_img(f'/home/jacoblamkey/Documents/Data/.kaggle/train/{k}/{i}')\n",
    "                x.append(img)\n",
    "                a.append(self.a[k])\n",
    "                tab.append(self.tab[k])\n",
    "            except:\n",
    "                print(k, i)\n",
    "       \n",
    "        x, a, tab = np.array(x), np.array(a), np.array(tab)\n",
    "        x = np.expand_dims(x, axis=-1)\n",
    "        return [x, tab] , a\n",
    "\n",
    "from tensorflow.keras.layers import (\n",
    "    Dense, Dropout, Activation, Flatten, Input, BatchNormalization, GlobalAveragePooling2D, Add, Conv2D, AveragePooling2D, \n",
    "    LeakyReLU, Concatenate \n",
    ")\n",
    "import efficientnet.tfkeras as efn\n",
    "\n",
    "def get_efficientnet(model, shape):\n",
    "    models_dict = {\n",
    "        'b0': efn.EfficientNetB0(input_shape=shape,weights=None,include_top=False),\n",
    "        'b1': efn.EfficientNetB1(input_shape=shape,weights=None,include_top=False),\n",
    "        'b2': efn.EfficientNetB2(input_shape=shape,weights=None,include_top=False),\n",
    "        'b3': efn.EfficientNetB3(input_shape=shape,weights=None,include_top=False),\n",
    "        'b4': efn.EfficientNetB4(input_shape=shape,weights=None,include_top=False),\n",
    "        'b5': efn.EfficientNetB5(input_shape=shape,weights=None,include_top=False),\n",
    "        'b6': efn.EfficientNetB6(input_shape=shape,weights=None,include_top=False),\n",
    "        'b7': efn.EfficientNetB7(input_shape=shape,weights=None,include_top=False)\n",
    "    }\n",
    "    return models_dict[model]\n",
    "\n",
    "def build_model(shape=(512, 512, 1), model_class=None):\n",
    "    inp = Input(shape=shape)\n",
    "    base = get_efficientnet(model_class, shape)\n",
    "    x = base(inp)\n",
    "    x = GlobalAveragePooling2D()(x)\n",
    "#     inp2 = Input(shape=(4,))  # original is 4\n",
    "    inp2 = Input(shape=(5,))  # add the feature of MinFVC\n",
    "    x2 = tf.keras.layers.GaussianNoise(0.2)(inp2)\n",
    "    x = Concatenate()([x, x2]) \n",
    "    x = Dropout(Dropout_model)(x)\n",
    "    x = Dense(1)(x)\n",
    "    model = Model([inp, inp2] , x)\n",
    "    \n",
    "#     weights = [w for w in os.listdir('../input/osic-model-weights') if model_class in w][0]\n",
    "#     model.load_weights('../input/osic-model-weights/' + weights)\n",
    "    return model\n",
    "\n",
    "model_classes = ['b5'] #['b0','b1','b2','b3',b4','b5','b6','b7']\n",
    "with strategy.scope():\n",
    "    models = [build_model(shape=(512, 512, 1), model_class=m) for m in model_classes]\n",
    "    \n",
    "print('Number of models: ' + str(len(models)))\n",
    "\n",
    "model = models[0]\n",
    "\n",
    "# model = get_model()\n",
    "\n",
    "# efn_path = \"../input/trainefn/efn.ckpt\"\n",
    "# model.load_weights(efn_path)\n",
    "\n",
    "model.summary()\n",
    "# model.compile(optimizer=tf.keras.optimizers.Adam(learning_rate=0.01), loss='mae')  # original is lr=0.001\n",
    "\n",
    "def score(fvc_true, fvc_pred, sigma):\n",
    "    sigma_clip = np.maximum(sigma, 70) # changed from 70, trie 66.7 too\n",
    "    delta = np.abs(fvc_true - fvc_pred)\n",
    "    delta = np.minimum(delta, 1000)\n",
    "    sq2 = np.sqrt(2)\n",
    "    metric = (delta / sigma_clip)*sq2 + np.log(sigma_clip* sq2)\n",
    "    return np.mean(metric)\n",
    "subs = []\n",
    "q = -1\n",
    "\n",
    "q = -1\n",
    "# with open('../input/trainefn/q.txt', 'r') as f:\n",
    "#     q=float(f.readlines()[0].strip())\n",
    "print(q)\n",
    "\n",
    "sub = pd.read_csv('/home/jacoblamkey/Documents/Data/.kaggle/sample_submission.csv') \n",
    "test = pd.read_csv('/home/jacoblamkey/Documents/Data/.kaggle/test.csv') \n",
    "A_test, B_test, P_test,W, FVC= {}, {}, {},{},{} \n",
    "STD, WEEK = {}, {} \n",
    "\n",
    "test = expandFE(test)\n",
    "# test = expandFVC_Percent(test)\n",
    "\n",
    "for p in test.Patient.unique():\n",
    "    x = [] \n",
    "    tab = [] \n",
    "    ldir = os.listdir(f'/home/jacoblamkey/Documents/Data/.kaggle/test/{p}/')\n",
    "    for i in ldir:\n",
    "        if int(i[:-4]) / len(ldir) < 0.8 and int(i[:-4]) / len(ldir) > 0.15:\n",
    "            x.append(get_img(f'/home/jacoblamkey/Documents/Data/.kaggle/test/{p}/{i}')) \n",
    "            tab.append(get_tab(test.loc[test.Patient == p, :])) \n",
    "    if len(x) <= 1:\n",
    "        continue\n",
    "    tab = np.array(tab) \n",
    "\n",
    "    x = np.expand_dims(x, axis=-1) \n",
    "    _a = model.predict([x, tab]) \n",
    "    a = np.quantile(_a, q)\n",
    "    A_test[p] = a\n",
    "    B_test[p] = test.FVC.values[test.Patient == p] - a*test.Weeks.values[test.Patient == p]\n",
    "    P_test[p] = test.Percent.values[test.Patient == p] \n",
    "    WEEK[p] = test.Weeks.values[test.Patient == p]\n",
    "\n",
    "\n",
    "for k in sub.Patient_Week.values:\n",
    "    p, w = k.split('_')\n",
    "    w = int(w) \n",
    "\n",
    "    fvc = A_test[p] * w + B_test[p]\n",
    "    sub.loc[sub.Patient_Week == k, 'FVC'] = fvc\n",
    "    sub.loc[sub.Patient_Week == k, 'Confidence'] = (\n",
    "        P_test[p] - A_test[p] * abs(WEEK[p] - w) \n",
    ") \n",
    "\n",
    "_sub = sub[[\"Patient_Week\",\"FVC\",\"Confidence\"]].copy()\n",
    "subs.append(_sub)\n",
    "print(subs)\n",
    "\n",
    "N = len(subs)\n",
    "print(N)\n",
    "sub = subs[0].copy() # ref\n",
    "sub[\"FVC\"] = 0\n",
    "sub[\"Confidence\"] = 0\n",
    "for i in range(N):\n",
    "    sub[\"FVC\"] += subs[0][\"FVC\"] * (1/N)\n",
    "    sub[\"Confidence\"] += subs[0][\"Confidence\"] * (1/N)\n",
    "sub[[\"Patient_Week\",\"FVC\",\"Confidence\"]].to_csv(\"submission_img.csv\", index=False)\n",
    "img_sub = sub[[\"Patient_Week\",\"FVC\",\"Confidence\"]].copy()\n",
    "print(img_sub.sample(5))\n",
    "\n",
    "ROOT = \"/home/jacoblamkey/Documents/Data/.kaggle\"\n",
    "BATCH_SIZE=128*strategy.num_replicas_in_sync\n",
    "\n",
    "tr = pd.read_csv(f\"{ROOT}/train.csv\")\n",
    "tr.drop_duplicates(keep=False, inplace=True, subset=['Patient','Weeks'])\n",
    "chunk = pd.read_csv(f\"{ROOT}/test.csv\")\n",
    "\n",
    "print(\"add infos\")\n",
    "sub = pd.read_csv(f\"{ROOT}/sample_submission.csv\")\n",
    "sub['Patient'] = sub['Patient_Week'].apply(lambda x:x.split('_')[0])\n",
    "sub['Weeks'] = sub['Patient_Week'].apply(lambda x: int(x.split('_')[-1]))\n",
    "sub =  sub[['Patient','Weeks','Confidence','Patient_Week']]\n",
    "sub = sub.merge(chunk.drop('Weeks', axis=1), on=\"Patient\")\n",
    "tr['WHERE'] = 'train'\n",
    "chunk['WHERE'] = 'val'\n",
    "sub['WHERE'] = 'test'\n",
    "data = tr.append([chunk, sub])\n",
    "print(tr.shape, chunk.shape, sub.shape, data.shape)\n",
    "print(tr.Patient.nunique(), chunk.Patient.nunique(), sub.Patient.nunique(), \n",
    "      data.Patient.nunique())\n",
    "\n",
    "data['min_week'] = data['Weeks']\n",
    "data.loc[data.WHERE=='test','min_week'] = np.nan\n",
    "data['min_week'] = data.groupby('Patient')['min_week'].transform('min')\n",
    "base = data.loc[data.Weeks == data.min_week]\n",
    "base = base[['Patient','FVC']].copy()\n",
    "base.columns = ['Patient','min_FVC']\n",
    "base['nb'] = 1\n",
    "base['nb'] = base.groupby('Patient')['nb'].transform('cumsum')\n",
    "base = base[base.nb==1]\n",
    "base.drop('nb', axis=1, inplace=True)\n",
    "data = data.merge(base, on='Patient', how='left')\n",
    "data['base_week'] = data['Weeks'] - data['min_week']\n",
    "del base\n",
    "COLS = ['Sex','SmokingStatus'] #,'Age'\n",
    "FE = []\n",
    "for col in COLS:\n",
    "    for mod in data[col].unique():\n",
    "        FE.append(mod)\n",
    "        data[mod] = (data[col] == mod).astype(int)\n",
    "#\n",
    "data['age'] = (data['Age'] - data['Age'].min() ) / ( data['Age'].max() - data['Age'].min() )\n",
    "data['BASE'] = (data['min_FVC'] - data['min_FVC'].min() ) / ( data['min_FVC'].max() - data['min_FVC'].min() )\n",
    "data['week'] = (data['base_week'] - data['base_week'].min() ) / ( data['base_week'].max() - data['base_week'].min() )\n",
    "data['percent'] = (data['Percent'] - data['Percent'].min() ) / ( data['Percent'].max() - data['Percent'].min() )\n",
    "data['FVC_Percent'] = data['FVC'] / data['Percent']\n",
    "# FE += ['age','percent','week','BASE', 'FVC_Percent']\n",
    "FE += ['age','percent','week','BASE']\n",
    "tr = data.loc[data.WHERE=='train']\n",
    "chunk = data.loc[data.WHERE=='val']\n",
    "sub = data.loc[data.WHERE=='test']\n",
    "del data\n",
    "C1, C2 = tf.constant(70, dtype='float32'), tf.constant(1000, dtype=\"float32\")\n",
    "def score(y_true, y_pred):\n",
    "    tf.dtypes.cast(y_true, tf.float32)\n",
    "    tf.dtypes.cast(y_pred, tf.float32)\n",
    "    sigma = y_pred[:, 2] - y_pred[:, 0]\n",
    "    fvc_pred = y_pred[:, 1]\n",
    "    \n",
    "    #sigma_clip = sigma + C1\n",
    "    sigma_clip = tf.maximum(sigma, C1)\n",
    "    delta = tf.abs(y_true[:, 0] - fvc_pred)\n",
    "    delta = tf.minimum(delta, C2)\n",
    "    sq2 = tf.sqrt( tf.dtypes.cast(2, dtype=tf.float32) )\n",
    "    metric = (delta / sigma_clip)*sq2 + tf.math.log(sigma_clip* sq2)\n",
    "    return K.mean(metric)\n",
    "\n",
    "def qloss(y_true, y_pred):\n",
    "    # Pinball loss for multiple quantiles\n",
    "    qs = [0.2, 0.50, 0.8]\n",
    "    q = tf.constant(np.array([qs]), dtype=tf.float32)\n",
    "    e = y_true - y_pred\n",
    "    v = tf.maximum(q*e, (q-1)*e)\n",
    "    return K.mean(v)\n",
    "\n",
    "def mloss(_lambda):\n",
    "    def loss(y_true, y_pred):\n",
    "        return _lambda * qloss(y_true, y_pred) + (1 - _lambda)*score(y_true, y_pred)\n",
    "    return loss\n",
    "\n",
    "\n",
    "def make_model(nh):\n",
    "    z = L.Input((nh,), name=\"Patient\")\n",
    "    x = L.Dense(100, activation=\"relu\", name=\"d1\")(z)\n",
    "    x = L.Dense(100, activation=\"relu\", name=\"d2\")(x)\n",
    "    p1 = L.Dense(3, activation=\"linear\", name=\"p1\")(x)\n",
    "    p2 = L.Dense(3, activation=\"relu\", name=\"p2\")(x)\n",
    "    preds = L.Lambda(lambda x: x[0] + tf.cumsum(x[1], axis=1), \n",
    "                     name=\"preds\")([p1, p2])\n",
    "    \n",
    "    model = M.Model(z, preds, name=\"CNN\")\n",
    "    model.compile(loss=mloss(0.65), optimizer=tf.keras.optimizers.Adam(lr=0.1, beta_1=0.9, beta_2=0.999, epsilon=None, decay=0.01, amsgrad=False), metrics=[score])\n",
    "    return model\n",
    "print(FE)\n",
    "\n",
    "y = tr['FVC'].values  # train target\n",
    "z = tr[FE].values  # fetures (1535, 9)\n",
    "print(z.shape)\n",
    "ze = sub[FE].values  # fetures of submission (730, 9) e: estimate\n",
    "print(ze.shape) \n",
    "nh = z.shape[1] \n",
    "print(nh)  # feature numbers (9,)\n",
    "pe = np.zeros((ze.shape[0], 3))  #estimate of prediction\n",
    "pred = np.zeros((z.shape[0], 3))  # prediction of truth ground\n",
    "with strategy.scope():    \n",
    "    net = make_model(nh)\n",
    "print(net.summary())\n",
    "print(net.count_params())\n",
    "NFOLD = 5 # originally 5\n",
    "kf = KFold(n_splits=NFOLD)\n",
    "\n",
    "cnt = 0\n",
    "EPOCHS = 800\n",
    "y = y.astype(np.float32)\n",
    "for tr_idx, val_idx in kf.split(z):\n",
    "    cnt += 1\n",
    "    print(f\"FOLD {cnt}\")\n",
    "    net = make_model(nh)\n",
    "    net.fit(z[tr_idx], y[tr_idx], batch_size=BATCH_SIZE, epochs=EPOCHS, \n",
    "            validation_data=(z[val_idx], y[val_idx]), verbose=0) #\n",
    "    print(\"train\", net.evaluate(z[tr_idx], y[tr_idx], verbose=0, batch_size=BATCH_SIZE))\n",
    "    print(\"val\", net.evaluate(z[val_idx], y[val_idx], verbose=0, batch_size=BATCH_SIZE))\n",
    "    print(\"predict val...\")\n",
    "    pred[val_idx] = net.predict(z[val_idx], batch_size=BATCH_SIZE, verbose=0)\n",
    "    print(\"predict test...\")\n",
    "    pe += net.predict(ze, batch_size=BATCH_SIZE, verbose=0) / NFOLD\n",
    "\n",
    "sigma_opt = mean_absolute_error(y, pred[:, 1])\n",
    "unc = pred[:,2] - pred[:, 0]\n",
    "sigma_mean = np.mean(unc)\n",
    "print(sigma_opt, sigma_mean)\n",
    "idxs = np.random.randint(0, y.shape[0], 100)\n",
    "plt.plot(y[idxs], label=\"ground truth\")\n",
    "plt.plot(pred[idxs, 0], label=\"q25\")\n",
    "plt.plot(pred[idxs, 1], label=\"q50\")\n",
    "plt.plot(pred[idxs, 2], label=\"q75\")\n",
    "plt.legend(loc=\"best\")\n",
    "plt.show()\n",
    "print(unc.min(), unc.mean(), unc.max(), (unc>=0).mean())\n",
    "plt.hist(unc)\n",
    "plt.title(\"uncertainty in prediction\")\n",
    "plt.show()\n",
    "sub.head()\n",
    "# PREDICTION\n",
    "sub['FVC1'] = 1.*pe[:, 1]\n",
    "sub['Confidence1'] = pe[:, 2] - pe[:, 0]\n",
    "subm = sub[['Patient_Week','FVC','Confidence','FVC1','Confidence1']].copy()\n",
    "subm.loc[~subm.FVC1.isnull()].head(10)\n",
    "subm.loc[~subm.FVC1.isnull(),'FVC'] = subm.loc[~subm.FVC1.isnull(),'FVC1']\n",
    "if sigma_mean<70:\n",
    "    subm['Confidence'] = sigma_opt\n",
    "else:\n",
    "    subm.loc[~subm.FVC1.isnull(),'Confidence'] = subm.loc[~subm.FVC1.isnull(),'Confidence1']\n",
    "subm.head()\n",
    "subm.describe().T\n",
    "otest = pd.read_csv('/home/jacoblamkey/Documents/Data/.kaggle/test.csv')\n",
    "for i in range(len(otest)):\n",
    "    subm.loc[subm['Patient_Week']==otest.Patient[i]+'_'+str(otest.Weeks[i]), 'FVC'] = otest.FVC[i]\n",
    "    subm.loc[subm['Patient_Week']==otest.Patient[i]+'_'+str(otest.Weeks[i]), 'Confidence'] = 0.1\n",
    "subm[[\"Patient_Week\",\"FVC\",\"Confidence\"]].to_csv(\"submission_regression.csv\", index=False)\n",
    "reg_sub = subm[[\"Patient_Week\",\"FVC\",\"Confidence\"]].copy()\n",
    "df1 = img_sub.sort_values(by=['Patient_Week'], ascending=True).reset_index(drop=True)\n",
    "df2 = reg_sub.sort_values(by=['Patient_Week'], ascending=True).reset_index(drop=True)\n",
    "df = df1[['Patient_Week']].copy()\n",
    "df['FVC'] = FVC_weight*df1['FVC'] + (1-FVC_weight)*df2['FVC']\n",
    "df['Confidence'] = Confidence_weight*df1['Confidence'] + (1-Confidence_weight)*df2['Confidence']\n",
    "df.head();\n",
    "df.to_csv('submission.csv', index=False)\n",
    "\n",
    "df_issa5 = df.copy()\n",
    "\n"
   ]
  },
  {
   "cell_type": "markdown",
   "metadata": {},
   "source": [
    "# Save submission"
   ]
  },
  {
   "cell_type": "code",
   "execution_count": 159,
   "metadata": {
    "_kg_hide-input": true,
    "_kg_hide-output": true
   },
   "outputs": [],
   "source": [
    "\n",
    "df_issa1.to_csv('df_issa1.csv', index=False)\n",
    "df_issa2.to_csv('df_issa2.csv', index=False)\n",
    "df_issa3.to_csv('df_issa3.csv', index=False)\n",
    "df_issa4.to_csv('df_issa4.csv', index=False)\n",
    "df_issa5.to_csv('df_issa5.csv', index=False)"
   ]
  },
  {
   "cell_type": "code",
   "execution_count": 160,
   "metadata": {},
   "outputs": [],
   "source": [
    "def cal_average(num):\n",
    "    sum_num = 0\n",
    "    for t in num:\n",
    "        sum_num = sum_num + t           \n",
    "\n",
    "    avg = sum_num / len(num)\n",
    "    return avg"
   ]
  },
  {
   "cell_type": "code",
   "execution_count": 178,
   "metadata": {},
   "outputs": [
    {
     "name": "stdout",
     "output_type": "stream",
     "text": [
      "285.1376706156206 277.8478653999224 275.6832930891481 283.53341286019105 274.3653726656143\n",
      "2643.7117066487094 2674.0927686860355 2682.562560441635 2685.66590556549 2679.966320337359\n"
     ]
    }
   ],
   "source": [
    "df1Avg=cal_average(df_issa1.Confidence)\n",
    "df2Avg=cal_average(df_issa2.Confidence)\n",
    "df3Avg=cal_average(df_issa3.Confidence)\n",
    "df4Avg=cal_average(df_issa4.Confidence)\n",
    "df5Avg=cal_average(df_issa5.Confidence)\n",
    "print(df1Avg,df2Avg,df3Avg,df4Avg,df5Avg)\n",
    "\n",
    "df1Avg=cal_average(df_issa1.FVC)\n",
    "df2Avg=cal_average(df_issa2.FVC)\n",
    "df3Avg=cal_average(df_issa3.FVC)\n",
    "df4Avg=cal_average(df_issa4.FVC)\n",
    "df5Avg=cal_average(df_issa5.FVC)\n",
    "\n",
    "print(df1Avg,df2Avg,df3Avg,df4Avg,df5Avg)"
   ]
  },
  {
   "cell_type": "code",
   "execution_count": 208,
   "metadata": {},
   "outputs": [],
   "source": [
    "otest = pd.read_csv('/home/jacoblamkey/Documents/Data/.kaggle/test.csv')\n",
    "otest['Patient_Week'] = otest['Patient'].map(str) + \"_\" + otest['Weeks'].map(str)\n",
    "otest.head()\n",
    "test_avg = cal_average(otest.FVC)"
   ]
  },
  {
   "cell_type": "code",
   "execution_count": 207,
   "metadata": {},
   "outputs": [
    {
     "ename": "NameError",
     "evalue": "name 'rm' is not defined",
     "output_type": "error",
     "traceback": [
      "\u001b[0;31m---------------------------------------------------------------------------\u001b[0m",
      "\u001b[0;31mNameError\u001b[0m                                 Traceback (most recent call last)",
      "\u001b[0;32m<ipython-input-207-12b1a58838d8>\u001b[0m in \u001b[0;36m<module>\u001b[0;34m\u001b[0m\n\u001b[1;32m     36\u001b[0m                         \u001b[0mdn\u001b[0m\u001b[0;34m.\u001b[0m\u001b[0mappend\u001b[0m\u001b[0;34m(\u001b[0m\u001b[0md\u001b[0m\u001b[0;34m)\u001b[0m\u001b[0;34m\u001b[0m\u001b[0;34m\u001b[0m\u001b[0m\n\u001b[1;32m     37\u001b[0m                         \u001b[0men\u001b[0m\u001b[0;34m.\u001b[0m\u001b[0mappend\u001b[0m\u001b[0;34m(\u001b[0m\u001b[0me\u001b[0m\u001b[0;34m)\u001b[0m\u001b[0;34m\u001b[0m\u001b[0;34m\u001b[0m\u001b[0m\n\u001b[0;32m---> 38\u001b[0;31m                         \u001b[0mrm\u001b[0m\u001b[0;34m(\u001b[0m\u001b[0mdfConAvg\u001b[0m\u001b[0;34m,\u001b[0m\u001b[0mdfFvcAvg\u001b[0m\u001b[0;34m,\u001b[0m\u001b[0ma\u001b[0m\u001b[0;34m,\u001b[0m\u001b[0mb\u001b[0m\u001b[0;34m,\u001b[0m\u001b[0mc\u001b[0m\u001b[0;34m,\u001b[0m\u001b[0md\u001b[0m\u001b[0;34m,\u001b[0m\u001b[0me\u001b[0m\u001b[0;34m,\u001b[0m\u001b[0mdf\u001b[0m\u001b[0;34m)\u001b[0m\u001b[0;34m\u001b[0m\u001b[0;34m\u001b[0m\u001b[0m\n\u001b[0m",
      "\u001b[0;31mNameError\u001b[0m: name 'rm' is not defined"
     ]
    }
   ],
   "source": [
    "resultFvc = []\n",
    "resultCon = []\n",
    "an=[]\n",
    "bn=[]\n",
    "cn=[]\n",
    "dn=[]\n",
    "en=[]\n",
    "\n",
    "\n",
    "    \n",
    "for a in np.arange(0, 1.1, 0.05):\n",
    "    for b in np.arange(0, 1.1, 0.05):\n",
    "        for c in np.arange(0, 1.1, 0.05):\n",
    "            for d in np.arange(0, 1.1, 0.05):\n",
    "                for e in np.arange(0, 1.1, 0.05):\n",
    "                    if((a + b + c + d + e) == 1):\n",
    "                        df = df_issa1[['Patient_Week']].copy()\n",
    "                        df['FVC'] =  a * df_issa1['FVC'] +  b * df_issa2['FVC'] +  c * df_issa3['FVC'] + d * df_issa4['FVC'] +  e * df_issa5['FVC']\n",
    "\n",
    "                        df['Confidence'] = a * df_issa1['Confidence'] +   b * df_issa2['Confidence'] +  c * df_issa3['Confidence'] +d * df_issa4['Confidence'] + e * df_issa5['Confidence']\n",
    "\n",
    "                       #test_score = pd.merge(otest,df, on = 'Patient_Week',how=\"left\")\n",
    "                        #sigma_opt = mean_absolute_error(y, pred[:, 1])\n",
    "                        #score = score(test_score.FVC, test_score.FVC1)\n",
    "                        \n",
    "                        dfConAvg=cal_average(df.Confidence)\n",
    "                        dfFvcAvg=cal_average(df.FVC)\n",
    "                        resultCon.append(dfConAvg)\n",
    "                        resultFvc.append(dfFvcAvg)\n",
    "                        #sigma_optn.append(sigma_opt)\n",
    "                        #scoren.append(score)\n",
    "                        an.append(a)\n",
    "                        bn.append(b)\n",
    "                        cn.append(c)\n",
    "                        dn.append(d)\n",
    "                        en.append(e)\n",
    "                        del(dfConAvg,dfFvcAvg,a,b,c,d,e,df)"
   ]
  },
  {
   "cell_type": "code",
   "execution_count": 183,
   "metadata": {},
   "outputs": [],
   "source": [
    "conf_list = [resultCon,an,bn,cn,dn,en]\n",
    "fvc_list = [resultFvc,an,bn,cn,dn,en]\n",
    "\n",
    "Confidence = pd.DataFrame(conf_list).transpose()\n",
    "Confidence.columns = ['confidenceEnsemble','a','b','c','d','e']\n",
    "fvc = pd.DataFrame(fvc_list).transpose()\n",
    "fvc.columns = ['fvcEnsemble','a','b','c','d','e']\n",
    "\n",
    "confidence_min = Confidence.sort_values('confidenceEnsemble').iloc[[0]]\n",
    "fvc_min = fvc.sort_values('fvcEnsemble').iloc[[0]]\n"
   ]
  },
  {
   "cell_type": "code",
   "execution_count": 216,
   "metadata": {},
   "outputs": [
    {
     "name": "stdout",
     "output_type": "stream",
     "text": [
      "Dataframe Contens \n",
      "   confidenceEnsemble    a    b    c    d    e\n",
      "0          274.365373  0.0  0.0  0.0  0.0  1.0\n",
      "Dataframe Contens \n",
      "      fvcEnsemble    a    b    c    d    e\n",
      "5083  2643.711707  1.0  0.0  0.0  0.0  0.0\n",
      "2643.7117066487094\n",
      "2674.0927686860355\n",
      "2682.562560441635\n",
      "2685.66590556549\n",
      "2679.966320337359\n",
      "2781.6\n"
     ]
    }
   ],
   "source": [
    "print(\"Dataframe Contens \", confidence_min, sep='\\n')\n",
    "print(\"Dataframe Contens \", fvc_min, sep='\\n')\n",
    "\n",
    "print(df1Avg)\n",
    "print(df2Avg)\n",
    "print(df3Avg)\n",
    "print(df4Avg)\n",
    "print(df5Avg)\n",
    "\n",
    "print(test_avg)\n",
    "fvc.to_csv('fvc.csv', index=False)"
   ]
  },
  {
   "cell_type": "code",
   "execution_count": 174,
   "metadata": {},
   "outputs": [
    {
     "name": "stdout",
     "output_type": "stream",
     "text": [
      "0.0\n",
      "0.0\n",
      "0.0\n",
      "0.0\n",
      "1.0\n"
     ]
    }
   ],
   "source": [
    "a= confidence_min.iloc[0]['a']\n",
    "b= confidence_min.iloc[0]['b']\n",
    "c= confidence_min.iloc[0]['c']\n",
    "d= confidence_min.iloc[0]['d']\n",
    "e= confidence_min.iloc[0]['e']\n",
    "\n",
    "print(a)\n",
    "print(b)\n",
    "print(c)\n",
    "print(d)\n",
    "print(e)\n"
   ]
  },
  {
   "cell_type": "code",
   "execution_count": 217,
   "metadata": {
    "_kg_hide-input": true,
    "_kg_hide-output": true
   },
   "outputs": [
    {
     "data": {
      "text/html": [
       "<div>\n",
       "<style scoped>\n",
       "    .dataframe tbody tr th:only-of-type {\n",
       "        vertical-align: middle;\n",
       "    }\n",
       "\n",
       "    .dataframe tbody tr th {\n",
       "        vertical-align: top;\n",
       "    }\n",
       "\n",
       "    .dataframe thead th {\n",
       "        text-align: right;\n",
       "    }\n",
       "</style>\n",
       "<table border=\"1\" class=\"dataframe\">\n",
       "  <thead>\n",
       "    <tr style=\"text-align: right;\">\n",
       "      <th></th>\n",
       "      <th>Patient_Week</th>\n",
       "      <th>FVC</th>\n",
       "      <th>Confidence</th>\n",
       "    </tr>\n",
       "  </thead>\n",
       "  <tbody>\n",
       "    <tr>\n",
       "      <th>0</th>\n",
       "      <td>ID00419637202311204720264_-1</td>\n",
       "      <td>2884.679778</td>\n",
       "      <td>247.979191</td>\n",
       "    </tr>\n",
       "    <tr>\n",
       "      <th>1</th>\n",
       "      <td>ID00419637202311204720264_-10</td>\n",
       "      <td>2902.870292</td>\n",
       "      <td>240.401272</td>\n",
       "    </tr>\n",
       "    <tr>\n",
       "      <th>2</th>\n",
       "      <td>ID00419637202311204720264_-11</td>\n",
       "      <td>2904.946964</td>\n",
       "      <td>239.567416</td>\n",
       "    </tr>\n",
       "    <tr>\n",
       "      <th>3</th>\n",
       "      <td>ID00419637202311204720264_-12</td>\n",
       "      <td>2907.024109</td>\n",
       "      <td>238.733437</td>\n",
       "    </tr>\n",
       "    <tr>\n",
       "      <th>4</th>\n",
       "      <td>ID00419637202311204720264_-2</td>\n",
       "      <td>2886.637641</td>\n",
       "      <td>247.135683</td>\n",
       "    </tr>\n",
       "  </tbody>\n",
       "</table>\n",
       "</div>"
      ],
      "text/plain": [
       "                    Patient_Week          FVC  Confidence\n",
       "0   ID00419637202311204720264_-1  2884.679778  247.979191\n",
       "1  ID00419637202311204720264_-10  2902.870292  240.401272\n",
       "2  ID00419637202311204720264_-11  2904.946964  239.567416\n",
       "3  ID00419637202311204720264_-12  2907.024109  238.733437\n",
       "4   ID00419637202311204720264_-2  2886.637641  247.135683"
      ]
     },
     "execution_count": 217,
     "metadata": {},
     "output_type": "execute_result"
    }
   ],
   "source": [
    "a = .15\n",
    "b = .25\n",
    "c = .15\n",
    "d = .2\n",
    "e = .25\n",
    "df = df_issa1.copy()\n",
    "df['FVC'] = a*df_issa1['FVC'] + b*df_issa2['FVC'] + c*df_issa3['FVC'] + d*df_issa4['FVC'] +e*df_issa5['FVC']\n",
    "            \n",
    "df['Confidence'] = a*df_issa1['Confidence'] + b*df_issa2['Confidence'] +  c*df_issa3['Confidence'] +  d*df_issa4['Confidence'] +e*df_issa5['Confidence']\n",
    "df.head()"
   ]
  },
  {
   "cell_type": "code",
   "execution_count": 177,
   "metadata": {},
   "outputs": [],
   "source": [
    "df.to_csv('submission.csv', index=False)"
   ]
  },
  {
   "cell_type": "code",
   "execution_count": null,
   "metadata": {},
   "outputs": [],
   "source": []
  }
 ],
 "metadata": {
  "kernelspec": {
   "display_name": "tf",
   "language": "python",
   "name": "tf"
  },
  "language_info": {
   "codemirror_mode": {
    "name": "ipython",
    "version": 3
   },
   "file_extension": ".py",
   "mimetype": "text/x-python",
   "name": "python",
   "nbconvert_exporter": "python",
   "pygments_lexer": "ipython3",
   "version": "3.6.10"
  }
 },
 "nbformat": 4,
 "nbformat_minor": 4
}
