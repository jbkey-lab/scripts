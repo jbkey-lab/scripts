{
 "cells": [
  {
   "cell_type": "markdown",
   "metadata": {},
   "source": [
    "Import files and libraries"
   ]
  },
  {
   "cell_type": "code",
   "execution_count": 1,
   "metadata": {},
   "outputs": [],
   "source": [
    "import numpy as np\n",
    "import pandas as pd\n",
    "\n",
    "import os, sys\n",
    "import gc\n",
    "import math\n",
    "import random\n",
    "import pathlib\n",
    "from tqdm import tqdm"
   ]
  },
  {
   "cell_type": "code",
   "execution_count": 2,
   "metadata": {},
   "outputs": [],
   "source": [
    "TDP = '/media/jacoblamkey/Storage/jane-street-market-prediction/'"
   ]
  },
  {
   "cell_type": "code",
   "execution_count": 7,
   "metadata": {},
   "outputs": [],
   "source": [
    "def load_data(input_dir=TDP):\n",
    "    train = pd.read_csv(pathlib.Path(input_dir + 'train.csv'))\n",
    "    features = pd.read_csv(pathlib.Path(input_dir + 'features.csv'))\n",
    "    example_test = pd.read_csv(pathlib.Path(input_dir + 'example_test.csv'))\n",
    "    ss = pd.read_csv(pathlib.Path(input_dir + 'example_sample_submission.csv'))\n",
    "    return train, features, example_test, ss\n",
    "\n",
    "train, features, example_test, ss = load_data(TDP)\n"
   ]
  },
  {
   "cell_type": "code",
   "execution_count": 8,
   "metadata": {},
   "outputs": [
    {
     "name": "stdout",
     "output_type": "stream",
     "text": [
      "(2390491, 138)\n"
     ]
    }
   ],
   "source": []
  },
  {
   "cell_type": "markdown",
   "metadata": {},
   "source": [
    "Kaggle Predict"
   ]
  },
  {
   "cell_type": "code",
   "execution_count": null,
   "metadata": {},
   "outputs": [],
   "source": [
    "import janestreet\n",
    "env = janestreet.make_env() # initialize the environment\n",
    "iter_test = env.iter_test() # an iterator which loops over the test set"
   ]
  },
  {
   "cell_type": "code",
   "execution_count": null,
   "metadata": {},
   "outputs": [],
   "source": [
    "for (test_df, pred_df) in tqdm(iter_test): # need to predict\n",
    "    if test_df['weight'].item() > 0:\n",
    "        # inference with treelite\n",
    "        batch = treelite_runtime.Batch.from_npy2d(test_df[feats].values)\n",
    "        pred_df.action = (predictor.predict(batch) > TRADING_THRESHOLD).astype('int') # make prediction here\n",
    "    else:\n",
    "        pred_df.action = 0 # make prediction here\n",
    "    env.predict(pred_df) #need to predict"
   ]
  }
 ],
 "metadata": {
  "kernelspec": {
   "display_name": "tf",
   "language": "python",
   "name": "tf"
  },
  "language_info": {
   "codemirror_mode": {
    "name": "ipython",
    "version": 3
   },
   "file_extension": ".py",
   "mimetype": "text/x-python",
   "name": "python",
   "nbconvert_exporter": "python",
   "pygments_lexer": "ipython3",
   "version": "3.6.10"
  }
 },
 "nbformat": 4,
 "nbformat_minor": 2
}
