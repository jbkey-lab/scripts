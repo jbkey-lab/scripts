{
 "cells": [
  {
   "cell_type": "code",
   "execution_count": null,
   "metadata": {},
   "outputs": [],
   "source": [
    "import rpy2.robjects as robjects\n",
    "funcs=robjects.r.source(\"/media/jacoblamkey/Storage/scripts/jigsaw.R\")\n"
   ]
  },
  {
   "cell_type": "code",
   "execution_count": null,
   "metadata": {},
   "outputs": [],
   "source": [
    "r = robjects.r\n",
    "\n",
    "#rparamTuning = robjects.r['paramTuning']\n",
    "datasets=r.paramTuning(worddim = 60,  samplep = .2,word_len=90000,seed=8041, \n",
    "                       embeddingGlove=False, dataloc = \"ubuntu\")[0]"
   ]
  },
  {
   "cell_type": "code",
   "execution_count": null,
   "metadata": {},
   "outputs": [],
   "source": [
    "train = datasets[[1]]\n",
    "validate = datasets[[2]]\n",
    "trainingx2 = datasets[[3]]\n",
    "trainx2 = datasets[[4]]\n",
    "validatex2 = datasets[[5]]\n",
    "test_data = datasets[[6]]\n",
    "train_data = datasets[[7]]\n",
    "embedding = datasets[[8]]\n",
    "x_target = datasets[[9]]\n",
    "y_target = datasets[[10]]\n"
   ]
  },
  {
   "cell_type": "code",
   "execution_count": null,
   "metadata": {},
   "outputs": [],
   "source": [
    "import tensorflow as tf\n",
    "import os\n",
    "#from tensorflow import keras\n",
    "#from tensorflow.keras import layers\n",
    "import numpy\n",
    "import keras\n",
    "### import keras và các module để tạo model\n",
    "from keras.layers import Dense, Input, LSTM, Embedding, Dropout, Activation, Conv1D,GRU\n",
    "from keras.layers import Bidirectional, GlobalMaxPool1D\n",
    "from keras.models import Model,load_model\n",
    "from keras.preprocessing.sequence import pad_sequences\n",
    "from keras.utils.vis_utils import plot_model\n",
    "from keras.models import Sequential\n",
    "from keras.callbacks import ModelCheckpoint,EarlyStopping\n",
    "from tensorflow.keras.optimizers import Adam\n",
    "import tensorflow as tf\n",
    "#import keras_tuner\n",
    "from keras.engine.base_layer import InputSpec\n",
    "\n",
    "\n",
    "print (tf.__version__)\n",
    "print (keras.__version__)\n"
   ]
  },
  {
   "cell_type": "code",
   "execution_count": null,
   "metadata": {},
   "outputs": [],
   "source": [
    "config = tf.compat.v1.ConfigProto()\n",
    "config.gpu_options.allow_growth = True\n",
    "session = tf.compat.v1.Session(config=config)\n",
    "strategy = tf.distribute.MirroredStrategy()\n",
    "print('Number of devices: {}'.format(strategy.num_replicas_in_sync))\n"
   ]
  },
  {
   "cell_type": "code",
   "execution_count": null,
   "metadata": {},
   "outputs": [],
   "source": [
    "with strategy.scope():\n",
    "    def modelj(): \n",
    "\n",
    "        inp = input(shape=(input_dim,))\n",
    "        x = Embedding(length(df.embedding),300,weights=[embedding],input_length=input_dim,trainable=False)(inp)\n",
    "        x = Bidirectional(LSTM(128, return_sequences=True))(x)\n",
    "        x = Conv1D(64,3,activation=\"relu\")(x)\n",
    "        x = GlobalMaxPool1D()(x)\n",
    "        x = Dense(128, activation=\"relu\")(x)\n",
    "        x = Dropout(0.2)(x)\n",
    "        x = Dense(2, activation=\"sigmoid\")(x)\n",
    "        model = Model(inputs=inp, outputs=x)\n",
    "        #plot_model(model, to_file='model_plot.png', show_shapes=True, show_layer_names=True)\n",
    "        print(model.summary())\n",
    "\n",
    "        optimizer = Adam(learning_rate=1e-4)\n",
    "        model.compile(optimizer=optimizer, loss=\"binary_crossentropy\", metrics=[\"accuracy\"]\n",
    "        )\n",
    "   \n",
    "        # Compile\n",
    "    return model\n",
    "\n",
    "    def jmodelLoop(batch, epochs, model):    \n",
    "\n",
    "        model.fit(x=train, y=x_target, epochs=epochs, \n",
    "                  validation_data=(validate, y_target), \n",
    "                  #steps_per_epoch = 549//batch_size,\n",
    "                  #validation_steps = 137//batch_size,\n",
    "                  batch_size=batch,\n",
    "                  workers=19,\n",
    "                  use_multiprocessing=True,\n",
    "                  shuffle=False,\n",
    "                    callbacks = [\n",
    "                        keras.callbacks.ModelCheckpoint(\"/media/jacoblamkey/Storage/jigsaw-toxic-severity-rating/_\"+\"_save_{epoch}_{accuracy:.2f}.h5\",save_best_only=True)\n",
    "                                ]\n",
    "                 )\n",
    "    return model\n",
    "        #plot_hist(hist)\n"
   ]
  },
  {
   "cell_type": "code",
   "execution_count": null,
   "metadata": {},
   "outputs": [],
   "source": [
    " #for i, mob in enumerate(['mobE0'\n",
    "                             \n",
    "model=modelj()\n",
    "\n",
    "jmodelLoop(batch = 128, epochs=2, model=model)\n",
    "    \n",
    " "
   ]
  },
  {
   "cell_type": "code",
   "execution_count": null,
   "metadata": {},
   "outputs": [],
   "source": [
    "submit = r.evaluate()\n",
    "submit.to_csv('submission.csv', index=False)\n"
   ]
  }
 ],
 "metadata": {
  "kernelspec": {
   "display_name": "tf",
   "language": "python",
   "name": "tf"
  },
  "language_info": {
   "codemirror_mode": {
    "name": "ipython",
    "version": 3
   },
   "file_extension": ".py",
   "mimetype": "text/x-python",
   "name": "python",
   "nbconvert_exporter": "python",
   "pygments_lexer": "ipython3",
   "version": "3.6.10"
  }
 },
 "nbformat": 4,
 "nbformat_minor": 2
}
