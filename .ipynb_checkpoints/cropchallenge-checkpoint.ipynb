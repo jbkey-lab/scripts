{
 "cells": [
  {
   "cell_type": "code",
   "execution_count": 2,
   "metadata": {},
   "outputs": [],
   "source": [
    "dp = \"/media/jacoblamkey/Storage/cropchallenge/Dataset_Competition_Zip_File/Dataset_Competition/Training/\"\n",
    "tdp = \"/media/jacoblamkey/Storage/cropchallenge/Dataset_Competition_Zip_File/Dataset_Competition/Test Inputs/\"\n",
    "gdp = \"/media/jacoblamkey/Storage/cropchallenge/Dataset_Competition_Zip_File/Dataset_Competition/\"\n"
   ]
  },
  {
   "cell_type": "code",
   "execution_count": 35,
   "metadata": {},
   "outputs": [],
   "source": [
    "import numpy as np\n",
    "import pandas as pd\n",
    "import pydicom\n",
    "import os\n",
    "import random\n",
    "from pandas import DataFrame\n",
    "\n",
    "import matplotlib.pyplot as plt\n",
    "from matplotlib import pyplot\n",
    "from tqdm import tqdm\n",
    "from PIL import Image\n",
    "from sklearn.metrics import mean_absolute_error\n",
    "from sklearn.model_selection import KFold"
   ]
  },
  {
   "cell_type": "code",
   "execution_count": 80,
   "metadata": {},
   "outputs": [],
   "source": [
    "otrain = pandas.DataFrame(np.load(dp+\"inputs_others_train.npy\"),columns=['MG','ID','State','Year','Loc'])\n",
    "ytrain = pandas.DataFrame(np.load(dp+\"yield_train.npy\"),columns=['Yield'])\n",
    "\n",
    "otest = pandas.DataFrame(np.load(tdp+\"inputs_others_test.npy\"),columns=['MG','ID','State','Year','Loc'])\n",
    "\n",
    "geno = pandas.DataFrame(np.load(gdp+\"clusterID_genotype.npy\"),columns=['Cluster'])\n",
    "\n",
    "wtrain = pd.DataFrame(np.concatenate( np.load(dp+\"inputs_weather_train.npy\")), columns=['ADNI','AP','ARH','MDNI','MaxSur','MinSur','AvgSur'])\n",
    "wtest = pd.DataFrame(np.concatenate(np.load(tdp+\"inputs_weather_test.npy\")), columns=['ADNI','AP','ARH','MDNI','MaxSur','MinSur','AvgSur'])\n",
    "\n"
   ]
  },
  {
   "cell_type": "code",
   "execution_count": 83,
   "metadata": {},
   "outputs": [
    {
     "data": {
      "text/html": [
       "<div>\n",
       "<style scoped>\n",
       "    .dataframe tbody tr th:only-of-type {\n",
       "        vertical-align: middle;\n",
       "    }\n",
       "\n",
       "    .dataframe tbody tr th {\n",
       "        vertical-align: top;\n",
       "    }\n",
       "\n",
       "    .dataframe thead th {\n",
       "        text-align: right;\n",
       "    }\n",
       "</style>\n",
       "<table border=\"1\" class=\"dataframe\">\n",
       "  <thead>\n",
       "    <tr style=\"text-align: right;\">\n",
       "      <th></th>\n",
       "      <th>Cluster</th>\n",
       "    </tr>\n",
       "  </thead>\n",
       "  <tbody>\n",
       "    <tr>\n",
       "      <th>0</th>\n",
       "      <td>6</td>\n",
       "    </tr>\n",
       "    <tr>\n",
       "      <th>1</th>\n",
       "      <td>6</td>\n",
       "    </tr>\n",
       "    <tr>\n",
       "      <th>2</th>\n",
       "      <td>6</td>\n",
       "    </tr>\n",
       "    <tr>\n",
       "      <th>3</th>\n",
       "      <td>6</td>\n",
       "    </tr>\n",
       "    <tr>\n",
       "      <th>4</th>\n",
       "      <td>6</td>\n",
       "    </tr>\n",
       "    <tr>\n",
       "      <th>...</th>\n",
       "      <td>...</td>\n",
       "    </tr>\n",
       "    <tr>\n",
       "      <th>5834</th>\n",
       "      <td>2</td>\n",
       "    </tr>\n",
       "    <tr>\n",
       "      <th>5835</th>\n",
       "      <td>15</td>\n",
       "    </tr>\n",
       "    <tr>\n",
       "      <th>5836</th>\n",
       "      <td>2</td>\n",
       "    </tr>\n",
       "    <tr>\n",
       "      <th>5837</th>\n",
       "      <td>2</td>\n",
       "    </tr>\n",
       "    <tr>\n",
       "      <th>5838</th>\n",
       "      <td>15</td>\n",
       "    </tr>\n",
       "  </tbody>\n",
       "</table>\n",
       "<p>5839 rows × 1 columns</p>\n",
       "</div>"
      ],
      "text/plain": [
       "      Cluster\n",
       "0           6\n",
       "1           6\n",
       "2           6\n",
       "3           6\n",
       "4           6\n",
       "...       ...\n",
       "5834        2\n",
       "5835       15\n",
       "5836        2\n",
       "5837        2\n",
       "5838       15\n",
       "\n",
       "[5839 rows x 1 columns]"
      ]
     },
     "execution_count": 83,
     "metadata": {},
     "output_type": "execute_result"
    }
   ],
   "source": [
    "geno"
   ]
  },
  {
   "cell_type": "code",
   "execution_count": 84,
   "metadata": {},
   "outputs": [],
   "source": [
    "otrain.to_csv(dp + \"inputs_others_train.csv\")\n",
    "wtrain.to_csv(dp + \"inputs_weather_train.csv\")\n",
    "ytrain.to_csv(dp+\"yield_train.csv\")\n",
    "\n",
    "wtest.to_csv(tdp+\"inputs_weather_test.csv\")\n",
    "otest.to_csv(tdp+\"inputs_others_test.csv\")\n",
    "\n",
    "geno.to_csv(gdp+\"clusterID_genotype.csv\")"
   ]
  },
  {
   "cell_type": "code",
   "execution_count": null,
   "metadata": {},
   "outputs": [],
   "source": []
  }
 ],
 "metadata": {
  "kernelspec": {
   "display_name": "tf",
   "language": "python",
   "name": "tf"
  },
  "language_info": {
   "codemirror_mode": {
    "name": "ipython",
    "version": 3
   },
   "file_extension": ".py",
   "mimetype": "text/x-python",
   "name": "python",
   "nbconvert_exporter": "python",
   "pygments_lexer": "ipython3",
   "version": "3.6.10"
  }
 },
 "nbformat": 4,
 "nbformat_minor": 2
}
