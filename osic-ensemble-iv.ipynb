{
 "cells": [
  {
   "cell_type": "markdown",
   "metadata": {
    "papermill": {
     "duration": 0.073483,
     "end_time": "2020-10-06T23:44:12.171332",
     "exception": false,
     "start_time": "2020-10-06T23:44:12.097849",
     "status": "completed"
    },
    "tags": []
   },
   "source": [
    "# Intro\n",
    "\n",
    "\n",
    "#### This is a *work in progress*. Please <span style='color:#0a0'>upvote</span> the kernel to keep this going.\n",
    "\n",
    "I have tried several public notebooks to find the best way for ensemble. Until now, this was the best outcome.\n",
    "\n",
    "- The first notebook: https://www.kaggle.com/thebigd8ta/higher-lb-score-by-tuning-mloss-upgrade-1696e2\n",
    "- The second notebook: https://www.kaggle.com/zhangxianjue/train-age?scriptVersionId=43259472\n",
    "\n",
    "Note1: It is important to blend the best of each notebook. So I selected the best version of each notebook.\n",
    "\n",
    "Note2: I will not be upgrading the code until the end of competition.\n"
   ]
  },
  {
   "cell_type": "markdown",
   "metadata": {
    "papermill": {
     "duration": 0.071556,
     "end_time": "2020-10-06T23:44:12.312745",
     "exception": false,
     "start_time": "2020-10-06T23:44:12.241189",
     "status": "completed"
    },
    "tags": []
   },
   "source": [
    "## Ensemble learning\n",
    "\n",
    "Ensemble learning is the process by which multiple models, such as classifiers or experts, are strategically generated and combined to solve a particular computational intelligence problem. Ensemble learning is primarily used to improve the (classification, prediction, function approximation, etc.)\n",
    "\n",
    "he motivation for using ensemble models is to reduce the generalization error of the prediction. As long as the base models are diverse and independent, the prediction error of the model decreases when the ensemble approach is used. The approach seeks the wisdom of crowds in making a prediction. Even though the ensemble model has multiple base models within the model, it acts and performs as a single model. Most of the practical data mining solutions utilize ensemble modeling techniques. \n",
    "\n",
    "![ens](https://cdn-images-1.medium.com/max/1000/0*sOtXk_8ZftGGU00_.png)"
   ]
  },
  {
   "cell_type": "markdown",
   "metadata": {
    "papermill": {
     "duration": 0.067078,
     "end_time": "2020-10-06T23:44:12.447236",
     "exception": false,
     "start_time": "2020-10-06T23:44:12.380158",
     "status": "completed"
    },
    "tags": []
   },
   "source": [
    "# Notebook 1"
   ]
  },
  {
   "cell_type": "markdown",
   "metadata": {
    "papermill": {
     "duration": 0.067263,
     "end_time": "2020-10-06T23:44:12.584641",
     "exception": false,
     "start_time": "2020-10-06T23:44:12.517378",
     "status": "completed"
    },
    "tags": []
   },
   "source": [
    "https://www.kaggle.com/thebigd8ta/higher-lb-score-by-tuning-mloss-upgrade-1696e2"
   ]
  },
  {
   "cell_type": "code",
   "execution_count": 1,
   "metadata": {
    "_kg_hide-output": true,
    "execution": {
     "iopub.execute_input": "2020-10-06T23:44:12.728212Z",
     "iopub.status.busy": "2020-10-06T23:44:12.727399Z",
     "iopub.status.idle": "2020-10-06T23:44:32.018701Z",
     "shell.execute_reply": "2020-10-06T23:44:32.018079Z"
    },
    "papermill": {
     "duration": 19.366721,
     "end_time": "2020-10-06T23:44:32.018837",
     "exception": false,
     "start_time": "2020-10-06T23:44:12.652116",
     "status": "completed"
    },
    "tags": []
   },
   "outputs": [
    {
     "name": "stdout",
     "output_type": "stream",
     "text": [
      "\u001b[31mInvalid requirement: '../input/kerasapplications/keras-team-keras-applications-3b180cb'\n",
      "It looks like a path. File '../input/kerasapplications/keras-team-keras-applications-3b180cb' does not exist.\u001b[0m\n",
      "\u001b[31mInvalid requirement: '../input/efficientnet/efficientnet-1.1.0/'\n",
      "It looks like a path. File '../input/efficientnet/efficientnet-1.1.0/' does not exist.\u001b[0m\n"
     ]
    }
   ],
   "source": []
  },
  {
   "cell_type": "code",
   "execution_count": 1,
   "metadata": {
    "_kg_hide-input": true,
    "_kg_hide-output": true,
    "execution": {
     "iopub.execute_input": "2020-10-06T23:44:32.184492Z",
     "iopub.status.busy": "2020-10-06T23:44:32.183541Z",
     "iopub.status.idle": "2020-10-06T23:44:39.745659Z",
     "shell.execute_reply": "2020-10-06T23:44:39.746333Z"
    },
    "papermill": {
     "duration": 7.649332,
     "end_time": "2020-10-06T23:44:39.746538",
     "exception": false,
     "start_time": "2020-10-06T23:44:32.097206",
     "status": "completed"
    },
    "tags": []
   },
   "outputs": [
    {
     "name": "stderr",
     "output_type": "stream",
     "text": [
      "Using TensorFlow backend.\n"
     ]
    }
   ],
   "source": [
    "import os\n",
    "#import cv2\n",
    "#import pydicom\n",
    "import pandas as pd\n",
    "import numpy as np \n",
    "import tensorflow as tf \n",
    "import matplotlib.pyplot as plt \n",
    "import random\n",
    "#from tqdm.notebook import tqdm \n",
    "from sklearn.model_selection import train_test_split, KFold\n",
    "from sklearn.metrics import mean_absolute_error\n",
    "#from tensorflow_addons.optimizers import RectifiedAdam\n",
    "#from tensorflow.keras import Model\n",
    "import tensorflow.keras.backend as K\n",
    "import tensorflow.keras.layers as L\n",
    "import tensorflow.keras.models as M\n",
    "##from tensorflow.keras.optimizers import Nadam\n",
    "#import seaborn as sns\n",
    "#import plotly.express as px\n",
    "#import plotly.graph_objects as go\n",
    "from PIL import Image\n",
    "import keras"
   ]
  },
  {
   "cell_type": "code",
   "execution_count": 2,
   "metadata": {
    "execution": {
     "iopub.execute_input": "2020-10-06T23:44:39.944017Z",
     "iopub.status.busy": "2020-10-06T23:44:39.943177Z",
     "iopub.status.idle": "2020-10-06T23:44:39.946893Z",
     "shell.execute_reply": "2020-10-06T23:44:39.947449Z"
    },
    "papermill": {
     "duration": 0.108469,
     "end_time": "2020-10-06T23:44:39.947602",
     "exception": false,
     "start_time": "2020-10-06T23:44:39.839133",
     "status": "completed"
    },
    "tags": []
   },
   "outputs": [],
   "source": [
    "def seed_everything(seed=2020):\n",
    "    random.seed(seed)\n",
    "    os.environ['PYTHONHASHSEED'] = str(seed)\n",
    "    np.random.seed(seed)\n",
    "    tf.random.set_seed(seed)"
   ]
  },
  {
   "cell_type": "code",
   "execution_count": 3,
   "metadata": {
    "execution": {
     "iopub.execute_input": "2020-10-06T23:44:40.163058Z",
     "iopub.status.busy": "2020-10-06T23:44:40.161923Z",
     "iopub.status.idle": "2020-10-06T23:44:40.164079Z",
     "shell.execute_reply": "2020-10-06T23:44:40.164754Z"
    },
    "papermill": {
     "duration": 0.120412,
     "end_time": "2020-10-06T23:44:40.164899",
     "exception": false,
     "start_time": "2020-10-06T23:44:40.044487",
     "status": "completed"
    },
    "tags": []
   },
   "outputs": [],
   "source": [
    "seed_everything(42)"
   ]
  },
  {
   "cell_type": "code",
   "execution_count": 4,
   "metadata": {
    "_kg_hide-input": true,
    "_kg_hide-output": true,
    "execution": {
     "iopub.execute_input": "2020-10-06T23:44:40.402864Z",
     "iopub.status.busy": "2020-10-06T23:44:40.401958Z",
     "iopub.status.idle": "2020-10-06T23:44:43.336751Z",
     "shell.execute_reply": "2020-10-06T23:44:43.336038Z"
    },
    "papermill": {
     "duration": 3.056049,
     "end_time": "2020-10-06T23:44:43.336867",
     "exception": false,
     "start_time": "2020-10-06T23:44:40.280818",
     "status": "completed"
    },
    "tags": []
   },
   "outputs": [
    {
     "name": "stdout",
     "output_type": "stream",
     "text": [
      "INFO:tensorflow:Using MirroredStrategy with devices ('/job:localhost/replica:0/task:0/device:GPU:0', '/job:localhost/replica:0/task:0/device:GPU:1')\n",
      "Number of devices: 2\n"
     ]
    }
   ],
   "source": [
    "config = tf.compat.v1.ConfigProto()\n",
    "config.gpu_options.allow_growth = True\n",
    "session = tf.compat.v1.Session(config=config)\n",
    "strategy = tf.distribute.MirroredStrategy()\n",
    "print('Number of devices: {}'.format(strategy.num_replicas_in_sync))\n",
    "#BATCH_SIZE = BATCH_SIZE*strategy.num_replicas_in_sync"
   ]
  },
  {
   "cell_type": "markdown",
   "metadata": {
    "papermill": {
     "duration": 0.07326,
     "end_time": "2020-10-06T23:44:43.485453",
     "exception": false,
     "start_time": "2020-10-06T23:44:43.412193",
     "status": "completed"
    },
    "tags": []
   },
   "source": [
    "## 2.1. Commit now <a class=\"anchor\" id=\"2.1\"></a>\n",
    "\n",
    "[Back to Table of Contents](#0.1)"
   ]
  },
  {
   "cell_type": "code",
   "execution_count": 5,
   "metadata": {
    "execution": {
     "iopub.execute_input": "2020-10-06T23:44:43.642080Z",
     "iopub.status.busy": "2020-10-06T23:44:43.640262Z",
     "iopub.status.idle": "2020-10-06T23:44:43.642818Z",
     "shell.execute_reply": "2020-10-06T23:44:43.643305Z"
    },
    "papermill": {
     "duration": 0.08257,
     "end_time": "2020-10-06T23:44:43.643428",
     "exception": false,
     "start_time": "2020-10-06T23:44:43.560858",
     "status": "completed"
    },
    "tags": []
   },
   "outputs": [],
   "source": [
    "Dropout_model = 0.38559\n",
    "FVC_weight = 0.2\n",
    "Confidence_weight = 0.15"
   ]
  },
  {
   "cell_type": "markdown",
   "metadata": {
    "papermill": {
     "duration": 0.075469,
     "end_time": "2020-10-06T23:44:43.792281",
     "exception": false,
     "start_time": "2020-10-06T23:44:43.716812",
     "status": "completed"
    },
    "tags": []
   },
   "source": [
    "## 3. Download data, auxiliary functions and model tuning <a class=\"anchor\" id=\"3\"></a>\n",
    "\n",
    "[Back to Table of Contents](#0.1)"
   ]
  },
  {
   "cell_type": "code",
   "execution_count": 6,
   "metadata": {
    "execution": {
     "iopub.execute_input": "2020-10-06T23:44:43.948532Z",
     "iopub.status.busy": "2020-10-06T23:44:43.947568Z",
     "iopub.status.idle": "2020-10-06T23:44:43.961082Z",
     "shell.execute_reply": "2020-10-06T23:44:43.960529Z"
    },
    "papermill": {
     "duration": 0.094553,
     "end_time": "2020-10-06T23:44:43.961203",
     "exception": false,
     "start_time": "2020-10-06T23:44:43.866650",
     "status": "completed"
    },
    "tags": []
   },
   "outputs": [],
   "source": [
    "#train = pd.read_csv('../input/osic-pulmonary-fibrosis-progression/train.csv') \n",
    "\n",
    "training = pd.read_csv(\"/media/jacoblamkey/Storage/training.csv\")\n",
    "testing = pd.read_csv(\"/media/jacoblamkey/Storage/testing.csv\")"
   ]
  },
  {
   "cell_type": "code",
   "execution_count": 7,
   "metadata": {},
   "outputs": [
    {
     "name": "stdout",
     "output_type": "stream",
     "text": [
      "(10337, 3)\n",
      "3\n"
     ]
    }
   ],
   "source": [
    "y = training['X.y.train.Yield.'].values  # train target\n",
    "del training['X.y.train.Yield.']   # fetures (1535, 9)\n",
    "#del vl_p['X.y.train.Yield.']   # fetures (1535, 9)\n",
    "\n",
    "ze = testing.values  # fetures of submission (730, 9) e: estimate\n",
    "z = training.values\n",
    "print(ze.shape) \n",
    "nh = z.shape[1] \n",
    "print(nh)  # feature numbers (9,)"
   ]
  },
  {
   "cell_type": "code",
   "execution_count": 75,
   "metadata": {
    "execution": {
     "iopub.execute_input": "2020-10-06T23:45:45.343510Z",
     "iopub.status.busy": "2020-10-06T23:45:45.342470Z",
     "iopub.status.idle": "2020-10-06T23:53:28.098490Z",
     "shell.execute_reply": "2020-10-06T23:53:28.097349Z"
    },
    "papermill": {
     "duration": 462.907964,
     "end_time": "2020-10-06T23:53:28.098628",
     "exception": false,
     "start_time": "2020-10-06T23:45:45.190664",
     "status": "completed"
    },
    "tags": []
   },
   "outputs": [],
   "source": [
    "\n",
    "C1, C2 = tf.constant(70, dtype='float32'), tf.constant(1000, dtype=\"float32\")\n",
    "def score(y_true, y_pred):\n",
    "    tf.dtypes.cast(y_true, tf.float32)\n",
    "    tf.dtypes.cast(y_pred, tf.float32)\n",
    "    sigma = y_pred[:, 2] - y_pred[:, 0]\n",
    "    fvc_pred = y_pred[:, 1]\n",
    "    \n",
    "    #sigma_clip = sigma + C1\n",
    "    sigma_clip = tf.maximum(sigma, C1)\n",
    "    delta = tf.abs(y_true[:, 0] - fvc_pred)\n",
    "    delta = tf.minimum(delta, C2)\n",
    "    sq2 = tf.sqrt( tf.dtypes.cast(2, dtype=tf.float32) )\n",
    "    metric = (delta / sigma_clip)*sq2 + tf.math.log(sigma_clip* sq2)\n",
    "    \n",
    "    \n",
    "    return K.mean(metric)\n",
    "\n",
    "def qloss(y_true, y_pred):\n",
    "    # Pinball loss for multiple quantiles\n",
    "    qs = [0.1, 0.50, 0.85]\n",
    "    q = tf.constant(np.array([qs]), dtype=tf.float32)\n",
    "    e = y_true - y_pred\n",
    "    v = tf.maximum(q*e, (q-1)*e)\n",
    "    return K.mean(v)\n",
    "\n",
    "def mloss(_lambda):\n",
    "    def loss(y_true, y_pred):\n",
    "        return _lambda * qloss(y_true, y_pred) + (1 - _lambda)*score(y_true, y_pred)\n",
    "    return loss\n",
    "\n",
    "\n",
    "def make_model(nh,D,ML):\n",
    "    #ML=ML\n",
    "    z = L.Input((nh,), name=\"Patient\")\n",
    "    x = L.Dense(D, activation=\"relu\", name=\"d1\")(z)\n",
    "    #x = L.Dense(D, activation=\"relu\", name=\"d2\")(x)\n",
    "    p1 = L.Dense(3, activation=\"linear\", name=\"p1\")(x)\n",
    "    preds = L.Dense(3, activation=\"relu\", name=\"p2\")(x)\n",
    "    #preds = L.Lambda(lambda x: x[0] + tf.cumsum(x[1], axis=1), \n",
    "    #                 name=\"preds\")([p1, p2])\n",
    "    \n",
    "    model = M.Model(z, preds, name=\"CNN\")\n",
    "    model.compile(loss=mloss(ML), optimizer=\"adam\", \n",
    "                  metrics=tf.keras.metrics.RootMeanSquaredError(\n",
    "    name=\"root_mean_squared_error\", dtype=None))\n",
    "    return model\n",
    "\n",
    "my_callbacks = [\n",
    "    #tf.keras.callbacks.EarlyStopping(patience=100,monitor=\"val_loss\"),\n",
    "    #tf.keras.callbacks.ReduceLROnPlateau(monitor='val_loss', factor=0.2,\n",
    "     #                         patience=50, min_lr=0.001\n",
    "#),\n",
    "    #tf.keras.callbacks.ModelCheckpoint(filepath='model.{epoch:02d}-{val_loss:.2f}.h5'),\n",
    "    #tf.keras.callbacks.TensorBoard(log_dir='./logs'),\n",
    "]\n"
   ]
  },
  {
   "cell_type": "code",
   "execution_count": 76,
   "metadata": {},
   "outputs": [
    {
     "name": "stdout",
     "output_type": "stream",
     "text": [
      "Model: \"CNN\"\n",
      "_________________________________________________________________\n",
      "Layer (type)                 Output Shape              Param #   \n",
      "=================================================================\n",
      "Patient (InputLayer)         [(None, 3)]               0         \n",
      "_________________________________________________________________\n",
      "d1 (Dense)                   (None, 50)                200       \n",
      "_________________________________________________________________\n",
      "p2 (Dense)                   (None, 3)                 153       \n",
      "=================================================================\n",
      "Total params: 353\n",
      "Trainable params: 353\n",
      "Non-trainable params: 0\n",
      "_________________________________________________________________\n",
      "None\n",
      "353\n"
     ]
    }
   ],
   "source": [
    "with strategy.scope():    \n",
    "    net = make_model(nh,D=50,ML=.65)\n",
    "    print(net.summary())\n",
    "    print(net.count_params())\n",
    "    NFOLD = 2 # originally 5\n",
    "    kf = KFold(n_splits=NFOLD,shuffle=True)"
   ]
  },
  {
   "cell_type": "code",
   "execution_count": 84,
   "metadata": {},
   "outputs": [
    {
     "name": "stdout",
     "output_type": "stream",
     "text": [
      "Epoch 1/100\n",
      "182/182 - 1s - loss: 7.0109 - root_mean_squared_error: 44.3738\n",
      "Epoch 2/100\n",
      "182/182 - 1s - loss: 6.8639 - root_mean_squared_error: 40.1143\n",
      "Epoch 3/100\n",
      "182/182 - 1s - loss: 6.7939 - root_mean_squared_error: 39.1170\n",
      "Epoch 4/100\n",
      "182/182 - 1s - loss: 6.7600 - root_mean_squared_error: 38.7144\n",
      "Epoch 5/100\n",
      "182/182 - 1s - loss: 6.7460 - root_mean_squared_error: 38.5260\n",
      "Epoch 6/100\n",
      "182/182 - 1s - loss: 6.7338 - root_mean_squared_error: 38.2779\n",
      "Epoch 7/100\n",
      "182/182 - 1s - loss: 6.7247 - root_mean_squared_error: 38.0849\n",
      "Epoch 8/100\n",
      "182/182 - 1s - loss: 6.7124 - root_mean_squared_error: 37.8670\n",
      "Epoch 9/100\n",
      "182/182 - 1s - loss: 6.7028 - root_mean_squared_error: 37.7086\n",
      "Epoch 10/100\n",
      "182/182 - 1s - loss: 6.5564 - root_mean_squared_error: 36.7018\n",
      "Epoch 11/100\n",
      "182/182 - 1s - loss: 4.9146 - root_mean_squared_error: 24.0260\n",
      "Epoch 12/100\n",
      "182/182 - 1s - loss: 4.8566 - root_mean_squared_error: 23.3481\n",
      "Epoch 13/100\n",
      "182/182 - 1s - loss: 4.8229 - root_mean_squared_error: 22.9646\n",
      "Epoch 14/100\n",
      "182/182 - 1s - loss: 4.7923 - root_mean_squared_error: 22.5454\n",
      "Epoch 15/100\n",
      "182/182 - 1s - loss: 4.7695 - root_mean_squared_error: 22.2826\n",
      "Epoch 16/100\n",
      "182/182 - 1s - loss: 4.7519 - root_mean_squared_error: 22.1387\n",
      "Epoch 17/100\n",
      "182/182 - 1s - loss: 4.7413 - root_mean_squared_error: 22.0575\n",
      "Epoch 18/100\n",
      "182/182 - 1s - loss: 4.7266 - root_mean_squared_error: 21.7729\n",
      "Epoch 19/100\n",
      "182/182 - 1s - loss: 4.7214 - root_mean_squared_error: 21.7295\n",
      "Epoch 20/100\n",
      "182/182 - 1s - loss: 4.7185 - root_mean_squared_error: 21.7069\n",
      "Epoch 21/100\n",
      "182/182 - 1s - loss: 4.7135 - root_mean_squared_error: 21.5887\n",
      "Epoch 22/100\n",
      "182/182 - 1s - loss: 4.7191 - root_mean_squared_error: 21.7085\n",
      "Epoch 23/100\n",
      "182/182 - 1s - loss: 4.7121 - root_mean_squared_error: 21.5677\n",
      "Epoch 24/100\n",
      "182/182 - 1s - loss: 4.7092 - root_mean_squared_error: 21.5662\n",
      "Epoch 25/100\n",
      "182/182 - 1s - loss: 4.7142 - root_mean_squared_error: 21.6718\n",
      "Epoch 26/100\n",
      "182/182 - 1s - loss: 4.7072 - root_mean_squared_error: 21.5220\n",
      "Epoch 27/100\n",
      "182/182 - 1s - loss: 4.7138 - root_mean_squared_error: 21.6357\n",
      "Epoch 28/100\n",
      "182/182 - 1s - loss: 4.7108 - root_mean_squared_error: 21.5303\n",
      "Epoch 29/100\n",
      "182/182 - 1s - loss: 4.7075 - root_mean_squared_error: 21.5753\n",
      "Epoch 30/100\n",
      "182/182 - 1s - loss: 4.7126 - root_mean_squared_error: 21.6370\n",
      "Epoch 31/100\n",
      "182/182 - 1s - loss: 4.7101 - root_mean_squared_error: 21.6279\n",
      "Epoch 32/100\n",
      "182/182 - 1s - loss: 4.7079 - root_mean_squared_error: 21.5198\n",
      "Epoch 33/100\n",
      "182/182 - 1s - loss: 4.7110 - root_mean_squared_error: 21.5627\n",
      "Epoch 34/100\n",
      "182/182 - 1s - loss: 4.7090 - root_mean_squared_error: 21.5549\n",
      "Epoch 35/100\n",
      "182/182 - 1s - loss: 4.7100 - root_mean_squared_error: 21.5685\n",
      "Epoch 36/100\n",
      "182/182 - 1s - loss: 4.7037 - root_mean_squared_error: 21.4977\n",
      "Epoch 37/100\n",
      "182/182 - 1s - loss: 4.7057 - root_mean_squared_error: 21.5071\n",
      "Epoch 38/100\n",
      "182/182 - 1s - loss: 4.7055 - root_mean_squared_error: 21.5244\n",
      "Epoch 39/100\n",
      "182/182 - 1s - loss: 4.7033 - root_mean_squared_error: 21.4856\n",
      "Epoch 40/100\n",
      "182/182 - 1s - loss: 4.7107 - root_mean_squared_error: 21.6467\n",
      "Epoch 41/100\n",
      "182/182 - 1s - loss: 4.7059 - root_mean_squared_error: 21.5383\n",
      "Epoch 42/100\n",
      "182/182 - 1s - loss: 4.7058 - root_mean_squared_error: 21.5095\n",
      "Epoch 43/100\n",
      "182/182 - 1s - loss: 4.7047 - root_mean_squared_error: 21.4979\n",
      "Epoch 44/100\n",
      "182/182 - 1s - loss: 4.7074 - root_mean_squared_error: 21.6034\n",
      "Epoch 45/100\n",
      "182/182 - 1s - loss: 4.7073 - root_mean_squared_error: 21.5835\n",
      "Epoch 46/100\n",
      "182/182 - 1s - loss: 4.7032 - root_mean_squared_error: 21.4383\n",
      "Epoch 47/100\n",
      "182/182 - 1s - loss: 4.7050 - root_mean_squared_error: 21.5136\n",
      "Epoch 48/100\n",
      "182/182 - 1s - loss: 4.7050 - root_mean_squared_error: 21.5006\n",
      "Epoch 49/100\n",
      "182/182 - 1s - loss: 4.7009 - root_mean_squared_error: 21.4970\n",
      "Epoch 50/100\n",
      "182/182 - 1s - loss: 4.7041 - root_mean_squared_error: 21.5047\n",
      "Epoch 51/100\n",
      "182/182 - 1s - loss: 4.7017 - root_mean_squared_error: 21.4594\n",
      "Epoch 52/100\n",
      "182/182 - 1s - loss: 4.7029 - root_mean_squared_error: 21.4767\n",
      "Epoch 53/100\n",
      "182/182 - 1s - loss: 4.7030 - root_mean_squared_error: 21.4852\n",
      "Epoch 54/100\n",
      "182/182 - 1s - loss: 4.7029 - root_mean_squared_error: 21.5117\n",
      "Epoch 55/100\n",
      "182/182 - 1s - loss: 4.7032 - root_mean_squared_error: 21.5307\n",
      "Epoch 56/100\n",
      "182/182 - 1s - loss: 4.7097 - root_mean_squared_error: 21.6434\n",
      "Epoch 57/100\n",
      "182/182 - 1s - loss: 4.7098 - root_mean_squared_error: 21.6273\n",
      "Epoch 58/100\n",
      "182/182 - 1s - loss: 4.7018 - root_mean_squared_error: 21.4737\n",
      "Epoch 59/100\n",
      "182/182 - 1s - loss: 4.7041 - root_mean_squared_error: 21.5076\n",
      "Epoch 60/100\n",
      "182/182 - 1s - loss: 4.7016 - root_mean_squared_error: 21.4738\n",
      "Epoch 61/100\n",
      "182/182 - 1s - loss: 4.7034 - root_mean_squared_error: 21.5769\n",
      "Epoch 62/100\n",
      "182/182 - 1s - loss: 4.7022 - root_mean_squared_error: 21.5290\n",
      "Epoch 63/100\n",
      "182/182 - 1s - loss: 4.7013 - root_mean_squared_error: 21.4871\n",
      "Epoch 64/100\n",
      "182/182 - 1s - loss: 4.6958 - root_mean_squared_error: 21.3990\n",
      "Epoch 65/100\n",
      "182/182 - 1s - loss: 4.7020 - root_mean_squared_error: 21.5253\n",
      "Epoch 66/100\n",
      "182/182 - 1s - loss: 4.7030 - root_mean_squared_error: 21.5810\n",
      "Epoch 67/100\n",
      "182/182 - 0s - loss: 4.7014 - root_mean_squared_error: 21.5129\n",
      "Epoch 68/100\n",
      "182/182 - 0s - loss: 4.6970 - root_mean_squared_error: 21.4497\n",
      "Epoch 69/100\n",
      "182/182 - 0s - loss: 4.7002 - root_mean_squared_error: 21.5289\n",
      "Epoch 70/100\n",
      "182/182 - 0s - loss: 4.7025 - root_mean_squared_error: 21.5832\n",
      "Epoch 71/100\n",
      "182/182 - 0s - loss: 4.6978 - root_mean_squared_error: 21.4586\n",
      "Epoch 72/100\n",
      "182/182 - 0s - loss: 4.7022 - root_mean_squared_error: 21.5299\n",
      "Epoch 73/100\n",
      "182/182 - 0s - loss: 4.7025 - root_mean_squared_error: 21.5628\n",
      "Epoch 74/100\n",
      "182/182 - 0s - loss: 4.6995 - root_mean_squared_error: 21.5139\n",
      "Epoch 75/100\n",
      "182/182 - 0s - loss: 4.7005 - root_mean_squared_error: 21.5003\n",
      "Epoch 76/100\n",
      "182/182 - 1s - loss: 4.7019 - root_mean_squared_error: 21.5941\n",
      "Epoch 77/100\n",
      "182/182 - 1s - loss: 4.6995 - root_mean_squared_error: 21.5228\n",
      "Epoch 78/100\n",
      "182/182 - 1s - loss: 4.7004 - root_mean_squared_error: 21.5337\n",
      "Epoch 79/100\n",
      "182/182 - 1s - loss: 4.6985 - root_mean_squared_error: 21.5010\n",
      "Epoch 80/100\n",
      "182/182 - 1s - loss: 4.7036 - root_mean_squared_error: 21.6138\n",
      "Epoch 81/100\n",
      "182/182 - 1s - loss: 4.7035 - root_mean_squared_error: 21.5740\n",
      "Epoch 82/100\n",
      "182/182 - 1s - loss: 4.6987 - root_mean_squared_error: 21.5274\n",
      "Epoch 83/100\n",
      "182/182 - 1s - loss: 4.7006 - root_mean_squared_error: 21.6127\n",
      "Epoch 84/100\n",
      "182/182 - 1s - loss: 4.6974 - root_mean_squared_error: 21.4578\n",
      "Epoch 85/100\n",
      "182/182 - 1s - loss: 4.6972 - root_mean_squared_error: 21.4390\n",
      "Epoch 86/100\n",
      "182/182 - 1s - loss: 4.6976 - root_mean_squared_error: 21.4724\n",
      "Epoch 87/100\n",
      "182/182 - 1s - loss: 4.6987 - root_mean_squared_error: 21.4699\n",
      "Epoch 88/100\n",
      "182/182 - 1s - loss: 4.6962 - root_mean_squared_error: 21.4392\n",
      "Epoch 89/100\n",
      "182/182 - 1s - loss: 4.6977 - root_mean_squared_error: 21.4947\n",
      "Epoch 90/100\n",
      "182/182 - 1s - loss: 4.6962 - root_mean_squared_error: 21.4784\n",
      "Epoch 91/100\n",
      "182/182 - 1s - loss: 4.6994 - root_mean_squared_error: 21.5083\n",
      "Epoch 92/100\n",
      "182/182 - 1s - loss: 4.6979 - root_mean_squared_error: 21.5236\n",
      "Epoch 93/100\n",
      "182/182 - 1s - loss: 4.6998 - root_mean_squared_error: 21.5461\n",
      "Epoch 94/100\n",
      "182/182 - 1s - loss: 4.6978 - root_mean_squared_error: 21.4858\n",
      "Epoch 95/100\n",
      "182/182 - 0s - loss: 4.7001 - root_mean_squared_error: 21.5191\n",
      "Epoch 96/100\n",
      "182/182 - 0s - loss: 4.6979 - root_mean_squared_error: 21.4894\n",
      "Epoch 97/100\n",
      "182/182 - 0s - loss: 4.6969 - root_mean_squared_error: 21.4790\n",
      "Epoch 98/100\n",
      "182/182 - 0s - loss: 4.6971 - root_mean_squared_error: 21.5033\n",
      "Epoch 99/100\n",
      "182/182 - 0s - loss: 4.6974 - root_mean_squared_error: 21.5307\n",
      "Epoch 100/100\n",
      "182/182 - 1s - loss: 4.6955 - root_mean_squared_error: 21.4659\n",
      "train [4.710744380950928, 22.046403884887695]\n",
      "predict val...\n",
      "predict test...\n"
     ]
    },
    {
     "data": {
      "text/plain": [
       "array([[ 1.        , -0.00344497],\n",
       "       [-0.00344497,  1.        ]])"
      ]
     },
     "execution_count": 84,
     "metadata": {},
     "output_type": "execute_result"
    }
   ],
   "source": [
    "#del(pe)\n",
    "#del(pred)\n",
    "pe = np.zeros((ze.shape[0], 3))  #estimate of prediction\n",
    "pred = np.zeros((z.shape[0], 3))  # prediction of truth ground\n",
    "cnt = 0\n",
    "EPOCHS = 100\n",
    "D=128\n",
    "ML=.2\n",
    "BATCH_SIZE=512\n",
    "y = y.astype(np.float32)\n",
    "#for tr_idx, val_idx in kf.split(z):\n",
    "#cnt += 1\n",
    "#print(f\"FOLD {cnt}\")\n",
    "net = make_model(nh,D,ML)\n",
    "net.fit(z, y, batch_size=BATCH_SIZE, epochs=EPOCHS, verbose=2) #\n",
    "print(\"train\", net.evaluate(z, y, verbose=0, batch_size=BATCH_SIZE))\n",
    "#print(\"val\", net.evaluate(z[val_idx], y[val_idx], verbose=0, batch_size=BATCH_SIZE))\n",
    "print(\"predict val...\")\n",
    "pred[val_idx] = net.predict(z[val_idx], batch_size=BATCH_SIZE, verbose=0)\n",
    "print(\"predict test...\")\n",
    "pe += net.predict(ze, batch_size=BATCH_SIZE, verbose=0) / NFOLD\n",
    "    \n",
    "valpred = pred[:, 0] - pred[:, 2]\n",
    "np.corrcoef(y, valpred)\n",
    "\n"
   ]
  },
  {
   "cell_type": "code",
   "execution_count": 78,
   "metadata": {},
   "outputs": [
    {
     "data": {
      "text/plain": [
       "array([[ 1.        , -0.05073107],\n",
       "       [-0.05073107,  1.        ]])"
      ]
     },
     "execution_count": 78,
     "metadata": {},
     "output_type": "execute_result"
    }
   ],
   "source": [
    "valpred = pred[:, 0] - pred[:, 2]\n",
    "np.corrcoef(y, valpred)"
   ]
  },
  {
   "cell_type": "code",
   "execution_count": 79,
   "metadata": {},
   "outputs": [
    {
     "data": {
      "image/png": "[encoded data removed]",
      "text/plain": [
       "<Figure size 432x288 with 1 Axes>"
      ]
     },
     "metadata": {
      "needs_background": "light"
     },
     "output_type": "display_data"
    }
   ],
   "source": [
    "import matplotlib.pyplot as plt\n",
    "\n",
    "\n",
    "plt.plot(y, pred[:, 1],\"o\")\n",
    "plt.show()"
   ]
  },
  {
   "cell_type": "code",
   "execution_count": 80,
   "metadata": {},
   "outputs": [
    {
     "name": "stdout",
     "output_type": "stream",
     "text": [
      "12.381881337397425 35.83325062598941\n"
     ]
    },
    {
     "data": {
      "image/png": "[encoded data removed]",
      "text/plain": [
       "<Figure size 432x288 with 1 Axes>"
      ]
     },
     "metadata": {
      "needs_background": "light"
     },
     "output_type": "display_data"
    },
    {
     "name": "stdout",
     "output_type": "stream",
     "text": [
      "22.861408233642578 35.83325062598941 52.05254364013672 1.0\n"
     ]
    },
    {
     "data": {
      "image/png": "[encoded data removed]",
      "text/plain": [
       "<Figure size 432x288 with 1 Axes>"
      ]
     },
     "metadata": {
      "needs_background": "light"
     },
     "output_type": "display_data"
    }
   ],
   "source": [
    "sigma_opt = mean_absolute_error(y, pred[:, 1])\n",
    "unc = pred[:,2] - pred[:, 0]\n",
    "sigma_mean = np.mean(unc)\n",
    "print(sigma_opt, sigma_mean)\n",
    "idxs = np.random.randint(0, y.shape[0], 100)\n",
    "plt.plot(y[idxs], label=\"ground truth\")\n",
    "plt.plot(pred[idxs, 0], label=\"q25\")\n",
    "plt.plot(pred[idxs, 1], label=\"q50\")\n",
    "#plt.plot(pred[idxs, 2], label=\"q75\")\n",
    "plt.legend(loc=\"best\")\n",
    "plt.show()\n",
    "print(unc.min(), unc.mean(), unc.max(), (unc>=0).mean())\n",
    "plt.hist(unc)\n",
    "plt.title(\"uncertainty in prediction\")\n",
    "plt.show()"
   ]
  },
  {
   "cell_type": "code",
   "execution_count": 52,
   "metadata": {},
   "outputs": [
    {
     "data": {
      "text/plain": [
       "(10337, 3)"
      ]
     },
     "execution_count": 52,
     "metadata": {},
     "output_type": "execute_result"
    }
   ],
   "source": [
    "pe.shape"
   ]
  },
  {
   "cell_type": "code",
   "execution_count": 53,
   "metadata": {},
   "outputs": [],
   "source": [
    "#sub['moistureOffPercent1'] = 1.*pe[:, 1]\n",
    "predictions = pe[:, 2] - pe[:, 0] \n"
   ]
  },
  {
   "cell_type": "code",
   "execution_count": 55,
   "metadata": {},
   "outputs": [],
   "source": [
    "np.save('/media/jacoblamkey/Storage/submission', predictions)\n"
   ]
  },
  {
   "cell_type": "code",
   "execution_count": null,
   "metadata": {},
   "outputs": [],
   "source": []
  }
 ],
 "metadata": {
  "kernelspec": {
   "display_name": "Python 3",
   "language": "python",
   "name": "python3"
  },
  "language_info": {
   "codemirror_mode": {
    "name": "ipython",
    "version": 3
   },
   "file_extension": ".py",
   "mimetype": "text/x-python",
   "name": "python",
   "nbconvert_exporter": "python",
   "pygments_lexer": "ipython3",
   "version": "3.7.3"
  },
  "papermill": {
   "duration": 1156.405081,
   "end_time": "2020-10-07T00:03:24.269148",
   "environment_variables": {},
   "exception": null,
   "input_path": "__notebook__.ipynb",
   "output_path": "__notebook__.ipynb",
   "parameters": {},
   "start_time": "2020-10-06T23:44:07.864067",
   "version": "2.1.0"
  },
  "widgets": {
   "application/vnd.jupyter.widget-state+json": {
    "state": {
     "102c9931d8b54460a7b347255765b7d0": {
      "model_module": "@jupyter-widgets/base",
      "model_module_version": "1.2.0",
      "model_name": "LayoutModel",
      "state": {
       "_model_module": "@jupyter-widgets/base",
       "_model_module_version": "1.2.0",
       "_model_name": "LayoutModel",
       "_view_count": null,
       "_view_module": "@jupyter-widgets/base",
       "_view_module_version": "1.2.0",
       "_view_name": "LayoutView",
       "align_content": null,
       "align_items": null,
       "align_self": null,
       "border": null,
       "bottom": null,
       "display": null,
       "flex": null,
       "flex_flow": null,
       "grid_area": null,
       "grid_auto_columns": null,
       "grid_auto_flow": null,
       "grid_auto_rows": null,
       "grid_column": null,
       "grid_gap": null,
       "grid_row": null,
       "grid_template_areas": null,
       "grid_template_columns": null,
       "grid_template_rows": null,
       "height": null,
       "justify_content": null,
       "justify_items": null,
       "left": null,
       "margin": null,
       "max_height": null,
       "max_width": null,
       "min_height": null,
       "min_width": null,
       "object_fit": null,
       "object_position": null,
       "order": null,
       "overflow": null,
       "overflow_x": null,
       "overflow_y": null,
       "padding": null,
       "right": null,
       "top": null,
       "visibility": null,
       "width": null
      }
     },
     "1638748f982b4cdbac1a612f768b9768": {
      "model_module": "@jupyter-widgets/controls",
      "model_module_version": "1.5.0",
      "model_name": "ProgressStyleModel",
      "state": {
       "_model_module": "@jupyter-widgets/controls",
       "_model_module_version": "1.5.0",
       "_model_name": "ProgressStyleModel",
       "_view_count": null,
       "_view_module": "@jupyter-widgets/base",
       "_view_module_version": "1.2.0",
       "_view_name": "StyleView",
       "bar_color": null,
       "description_width": "initial"
      }
     },
     "1c6046736e194d27a4a6b607286d74d1": {
      "model_module": "@jupyter-widgets/controls",
      "model_module_version": "1.5.0",
      "model_name": "HTMLModel",
      "state": {
       "_dom_classes": [],
       "_model_module": "@jupyter-widgets/controls",
       "_model_module_version": "1.5.0",
       "_model_name": "HTMLModel",
       "_view_count": null,
       "_view_module": "@jupyter-widgets/controls",
       "_view_module_version": "1.5.0",
       "_view_name": "HTMLView",
       "description": "",
       "description_tooltip": null,
       "layout": "IPY_MODEL_e95f4a6904e74a46bd0bcda9e235baaf",
       "placeholder": "​",
       "style": "IPY_MODEL_e1f09ecaebb444e787063c14df47b569",
       "value": " 9/9 [07:48&lt;00:00, 52.05s/it]"
      }
     },
     "1c808092330f43ca9f1488de9e838dbb": {
      "model_module": "@jupyter-widgets/controls",
      "model_module_version": "1.5.0",
      "model_name": "HTMLModel",
      "state": {
       "_dom_classes": [],
       "_model_module": "@jupyter-widgets/controls",
       "_model_module_version": "1.5.0",
       "_model_name": "HTMLModel",
       "_view_count": null,
       "_view_module": "@jupyter-widgets/controls",
       "_view_module_version": "1.5.0",
       "_view_name": "HTMLView",
       "description": "",
       "description_tooltip": null,
       "layout": "IPY_MODEL_102c9931d8b54460a7b347255765b7d0",
       "placeholder": "​",
       "style": "IPY_MODEL_bbb6568e31054ce0bd656469f6986115",
       "value": " 176/? [00:01&lt;00:00, 137.82it/s]"
      }
     },
     "30c1416bd35646bd850cbfb884aea776": {
      "model_module": "@jupyter-widgets/base",
      "model_module_version": "1.2.0",
      "model_name": "LayoutModel",
      "state": {
       "_model_module": "@jupyter-widgets/base",
       "_model_module_version": "1.2.0",
       "_model_name": "LayoutModel",
       "_view_count": null,
       "_view_module": "@jupyter-widgets/base",
       "_view_module_version": "1.2.0",
       "_view_name": "LayoutView",
       "align_content": null,
       "align_items": null,
       "align_self": null,
       "border": null,
       "bottom": null,
       "display": null,
       "flex": null,
       "flex_flow": null,
       "grid_area": null,
       "grid_auto_columns": null,
       "grid_auto_flow": null,
       "grid_auto_rows": null,
       "grid_column": null,
       "grid_gap": null,
       "grid_row": null,
       "grid_template_areas": null,
       "grid_template_columns": null,
       "grid_template_rows": null,
       "height": null,
       "justify_content": null,
       "justify_items": null,
       "left": null,
       "margin": null,
       "max_height": null,
       "max_width": null,
       "min_height": null,
       "min_width": null,
       "object_fit": null,
       "object_position": null,
       "order": null,
       "overflow": null,
       "overflow_x": null,
       "overflow_y": null,
       "padding": null,
       "right": null,
       "top": null,
       "visibility": null,
       "width": null
      }
     },
     "3b8cd9c2837d417b96f3e86a3696499d": {
      "model_module": "@jupyter-widgets/base",
      "model_module_version": "1.2.0",
      "model_name": "LayoutModel",
      "state": {
       "_model_module": "@jupyter-widgets/base",
       "_model_module_version": "1.2.0",
       "_model_name": "LayoutModel",
       "_view_count": null,
       "_view_module": "@jupyter-widgets/base",
       "_view_module_version": "1.2.0",
       "_view_name": "LayoutView",
       "align_content": null,
       "align_items": null,
       "align_self": null,
       "border": null,
       "bottom": null,
       "display": null,
       "flex": null,
       "flex_flow": null,
       "grid_area": null,
       "grid_auto_columns": null,
       "grid_auto_flow": null,
       "grid_auto_rows": null,
       "grid_column": null,
       "grid_gap": null,
       "grid_row": null,
       "grid_template_areas": null,
       "grid_template_columns": null,
       "grid_template_rows": null,
       "height": null,
       "justify_content": null,
       "justify_items": null,
       "left": null,
       "margin": null,
       "max_height": null,
       "max_width": null,
       "min_height": null,
       "min_width": null,
       "object_fit": null,
       "object_position": null,
       "order": null,
       "overflow": null,
       "overflow_x": null,
       "overflow_y": null,
       "padding": null,
       "right": null,
       "top": null,
       "visibility": null,
       "width": null
      }
     },
     "47cf20ea3b71446383dbe4c9792cd4ec": {
      "model_module": "@jupyter-widgets/base",
      "model_module_version": "1.2.0",
      "model_name": "LayoutModel",
      "state": {
       "_model_module": "@jupyter-widgets/base",
       "_model_module_version": "1.2.0",
       "_model_name": "LayoutModel",
       "_view_count": null,
       "_view_module": "@jupyter-widgets/base",
       "_view_module_version": "1.2.0",
       "_view_name": "LayoutView",
       "align_content": null,
       "align_items": null,
       "align_self": null,
       "border": null,
       "bottom": null,
       "display": null,
       "flex": null,
       "flex_flow": null,
       "grid_area": null,
       "grid_auto_columns": null,
       "grid_auto_flow": null,
       "grid_auto_rows": null,
       "grid_column": null,
       "grid_gap": null,
       "grid_row": null,
       "grid_template_areas": null,
       "grid_template_columns": null,
       "grid_template_rows": null,
       "height": null,
       "justify_content": null,
       "justify_items": null,
       "left": null,
       "margin": null,
       "max_height": null,
       "max_width": null,
       "min_height": null,
       "min_width": null,
       "object_fit": null,
       "object_position": null,
       "order": null,
       "overflow": null,
       "overflow_x": null,
       "overflow_y": null,
       "padding": null,
       "right": null,
       "top": null,
       "visibility": null,
       "width": null
      }
     },
     "5f3edb1cd3f24941a3436fdd04dffce9": {
      "model_module": "@jupyter-widgets/base",
      "model_module_version": "1.2.0",
      "model_name": "LayoutModel",
      "state": {
       "_model_module": "@jupyter-widgets/base",
       "_model_module_version": "1.2.0",
       "_model_name": "LayoutModel",
       "_view_count": null,
       "_view_module": "@jupyter-widgets/base",
       "_view_module_version": "1.2.0",
       "_view_name": "LayoutView",
       "align_content": null,
       "align_items": null,
       "align_self": null,
       "border": null,
       "bottom": null,
       "display": null,
       "flex": null,
       "flex_flow": null,
       "grid_area": null,
       "grid_auto_columns": null,
       "grid_auto_flow": null,
       "grid_auto_rows": null,
       "grid_column": null,
       "grid_gap": null,
       "grid_row": null,
       "grid_template_areas": null,
       "grid_template_columns": null,
       "grid_template_rows": null,
       "height": null,
       "justify_content": null,
       "justify_items": null,
       "left": null,
       "margin": null,
       "max_height": null,
       "max_width": null,
       "min_height": null,
       "min_width": null,
       "object_fit": null,
       "object_position": null,
       "order": null,
       "overflow": null,
       "overflow_x": null,
       "overflow_y": null,
       "padding": null,
       "right": null,
       "top": null,
       "visibility": null,
       "width": null
      }
     },
     "62767d45136c45ff89681222000a9f2b": {
      "model_module": "@jupyter-widgets/controls",
      "model_module_version": "1.5.0",
      "model_name": "HBoxModel",
      "state": {
       "_dom_classes": [],
       "_model_module": "@jupyter-widgets/controls",
       "_model_module_version": "1.5.0",
       "_model_name": "HBoxModel",
       "_view_count": null,
       "_view_module": "@jupyter-widgets/controls",
       "_view_module_version": "1.5.0",
       "_view_name": "HBoxView",
       "box_style": "",
       "children": [
        "IPY_MODEL_d38b6393c35e49bcade42277eb9efcf7",
        "IPY_MODEL_820a2cf2b9394f8285a8d2eabd49bb83"
       ],
       "layout": "IPY_MODEL_3b8cd9c2837d417b96f3e86a3696499d"
      }
     },
     "64b158cf8d0c4e229b26706ec46a6d46": {
      "model_module": "@jupyter-widgets/controls",
      "model_module_version": "1.5.0",
      "model_name": "ProgressStyleModel",
      "state": {
       "_model_module": "@jupyter-widgets/controls",
       "_model_module_version": "1.5.0",
       "_model_name": "ProgressStyleModel",
       "_view_count": null,
       "_view_module": "@jupyter-widgets/base",
       "_view_module_version": "1.2.0",
       "_view_name": "StyleView",
       "bar_color": null,
       "description_width": "initial"
      }
     },
     "69da629cb2314c969de1da6ddc715567": {
      "model_module": "@jupyter-widgets/base",
      "model_module_version": "1.2.0",
      "model_name": "LayoutModel",
      "state": {
       "_model_module": "@jupyter-widgets/base",
       "_model_module_version": "1.2.0",
       "_model_name": "LayoutModel",
       "_view_count": null,
       "_view_module": "@jupyter-widgets/base",
       "_view_module_version": "1.2.0",
       "_view_name": "LayoutView",
       "align_content": null,
       "align_items": null,
       "align_self": null,
       "border": null,
       "bottom": null,
       "display": null,
       "flex": null,
       "flex_flow": null,
       "grid_area": null,
       "grid_auto_columns": null,
       "grid_auto_flow": null,
       "grid_auto_rows": null,
       "grid_column": null,
       "grid_gap": null,
       "grid_row": null,
       "grid_template_areas": null,
       "grid_template_columns": null,
       "grid_template_rows": null,
       "height": null,
       "justify_content": null,
       "justify_items": null,
       "left": null,
       "margin": null,
       "max_height": null,
       "max_width": null,
       "min_height": null,
       "min_width": null,
       "object_fit": null,
       "object_position": null,
       "order": null,
       "overflow": null,
       "overflow_x": null,
       "overflow_y": null,
       "padding": null,
       "right": null,
       "top": null,
       "visibility": null,
       "width": null
      }
     },
     "7288e4fc30ab4d4ebb77a7da549ee191": {
      "model_module": "@jupyter-widgets/base",
      "model_module_version": "1.2.0",
      "model_name": "LayoutModel",
      "state": {
       "_model_module": "@jupyter-widgets/base",
       "_model_module_version": "1.2.0",
       "_model_name": "LayoutModel",
       "_view_count": null,
       "_view_module": "@jupyter-widgets/base",
       "_view_module_version": "1.2.0",
       "_view_name": "LayoutView",
       "align_content": null,
       "align_items": null,
       "align_self": null,
       "border": null,
       "bottom": null,
       "display": null,
       "flex": null,
       "flex_flow": null,
       "grid_area": null,
       "grid_auto_columns": null,
       "grid_auto_flow": null,
       "grid_auto_rows": null,
       "grid_column": null,
       "grid_gap": null,
       "grid_row": null,
       "grid_template_areas": null,
       "grid_template_columns": null,
       "grid_template_rows": null,
       "height": null,
       "justify_content": null,
       "justify_items": null,
       "left": null,
       "margin": null,
       "max_height": null,
       "max_width": null,
       "min_height": null,
       "min_width": null,
       "object_fit": null,
       "object_position": null,
       "order": null,
       "overflow": null,
       "overflow_x": null,
       "overflow_y": null,
       "padding": null,
       "right": null,
       "top": null,
       "visibility": null,
       "width": null
      }
     },
     "820a2cf2b9394f8285a8d2eabd49bb83": {
      "model_module": "@jupyter-widgets/controls",
      "model_module_version": "1.5.0",
      "model_name": "HTMLModel",
      "state": {
       "_dom_classes": [],
       "_model_module": "@jupyter-widgets/controls",
       "_model_module_version": "1.5.0",
       "_model_name": "HTMLModel",
       "_view_count": null,
       "_view_module": "@jupyter-widgets/controls",
       "_view_module_version": "1.5.0",
       "_view_name": "HTMLView",
       "description": "",
       "description_tooltip": null,
       "layout": "IPY_MODEL_69da629cb2314c969de1da6ddc715567",
       "placeholder": "​",
       "style": "IPY_MODEL_98c8d4ffa39a45d6907ee81af65fc1b2",
       "value": " 176/? [00:02&lt;00:00, 87.71it/s]"
      }
     },
     "848b72a8ec3140dbb9b226e2c869f82b": {
      "model_module": "@jupyter-widgets/base",
      "model_module_version": "1.2.0",
      "model_name": "LayoutModel",
      "state": {
       "_model_module": "@jupyter-widgets/base",
       "_model_module_version": "1.2.0",
       "_model_name": "LayoutModel",
       "_view_count": null,
       "_view_module": "@jupyter-widgets/base",
       "_view_module_version": "1.2.0",
       "_view_name": "LayoutView",
       "align_content": null,
       "align_items": null,
       "align_self": null,
       "border": null,
       "bottom": null,
       "display": null,
       "flex": null,
       "flex_flow": null,
       "grid_area": null,
       "grid_auto_columns": null,
       "grid_auto_flow": null,
       "grid_auto_rows": null,
       "grid_column": null,
       "grid_gap": null,
       "grid_row": null,
       "grid_template_areas": null,
       "grid_template_columns": null,
       "grid_template_rows": null,
       "height": null,
       "justify_content": null,
       "justify_items": null,
       "left": null,
       "margin": null,
       "max_height": null,
       "max_width": null,
       "min_height": null,
       "min_width": null,
       "object_fit": null,
       "object_position": null,
       "order": null,
       "overflow": null,
       "overflow_x": null,
       "overflow_y": null,
       "padding": null,
       "right": null,
       "top": null,
       "visibility": null,
       "width": null
      }
     },
     "98c8d4ffa39a45d6907ee81af65fc1b2": {
      "model_module": "@jupyter-widgets/controls",
      "model_module_version": "1.5.0",
      "model_name": "DescriptionStyleModel",
      "state": {
       "_model_module": "@jupyter-widgets/controls",
       "_model_module_version": "1.5.0",
       "_model_name": "DescriptionStyleModel",
       "_view_count": null,
       "_view_module": "@jupyter-widgets/base",
       "_view_module_version": "1.2.0",
       "_view_name": "StyleView",
       "description_width": ""
      }
     },
     "9ec89a3fc6be4ca497ed67769bac84bc": {
      "model_module": "@jupyter-widgets/controls",
      "model_module_version": "1.5.0",
      "model_name": "ProgressStyleModel",
      "state": {
       "_model_module": "@jupyter-widgets/controls",
       "_model_module_version": "1.5.0",
       "_model_name": "ProgressStyleModel",
       "_view_count": null,
       "_view_module": "@jupyter-widgets/base",
       "_view_module_version": "1.2.0",
       "_view_name": "StyleView",
       "bar_color": null,
       "description_width": "initial"
      }
     },
     "a610ccf0bc3947dcb294384bac15c947": {
      "model_module": "@jupyter-widgets/controls",
      "model_module_version": "1.5.0",
      "model_name": "HBoxModel",
      "state": {
       "_dom_classes": [],
       "_model_module": "@jupyter-widgets/controls",
       "_model_module_version": "1.5.0",
       "_model_name": "HBoxModel",
       "_view_count": null,
       "_view_module": "@jupyter-widgets/controls",
       "_view_module_version": "1.5.0",
       "_view_name": "HBoxView",
       "box_style": "",
       "children": [
        "IPY_MODEL_f18bcd3d7dc34a04947a3fca723f78f8",
        "IPY_MODEL_1c6046736e194d27a4a6b607286d74d1"
       ],
       "layout": "IPY_MODEL_848b72a8ec3140dbb9b226e2c869f82b"
      }
     },
     "bbb6568e31054ce0bd656469f6986115": {
      "model_module": "@jupyter-widgets/controls",
      "model_module_version": "1.5.0",
      "model_name": "DescriptionStyleModel",
      "state": {
       "_model_module": "@jupyter-widgets/controls",
       "_model_module_version": "1.5.0",
       "_model_name": "DescriptionStyleModel",
       "_view_count": null,
       "_view_module": "@jupyter-widgets/base",
       "_view_module_version": "1.2.0",
       "_view_name": "StyleView",
       "description_width": ""
      }
     },
     "d38b6393c35e49bcade42277eb9efcf7": {
      "model_module": "@jupyter-widgets/controls",
      "model_module_version": "1.5.0",
      "model_name": "FloatProgressModel",
      "state": {
       "_dom_classes": [],
       "_model_module": "@jupyter-widgets/controls",
       "_model_module_version": "1.5.0",
       "_model_name": "FloatProgressModel",
       "_view_count": null,
       "_view_module": "@jupyter-widgets/controls",
       "_view_module_version": "1.5.0",
       "_view_name": "ProgressView",
       "bar_style": "success",
       "description": "",
       "description_tooltip": null,
       "layout": "IPY_MODEL_30c1416bd35646bd850cbfb884aea776",
       "max": 1,
       "min": 0,
       "orientation": "horizontal",
       "style": "IPY_MODEL_64b158cf8d0c4e229b26706ec46a6d46",
       "value": 1
      }
     },
     "d75e8601fbb84084ae6a499d1a7317e5": {
      "model_module": "@jupyter-widgets/controls",
      "model_module_version": "1.5.0",
      "model_name": "HBoxModel",
      "state": {
       "_dom_classes": [],
       "_model_module": "@jupyter-widgets/controls",
       "_model_module_version": "1.5.0",
       "_model_name": "HBoxModel",
       "_view_count": null,
       "_view_module": "@jupyter-widgets/controls",
       "_view_module_version": "1.5.0",
       "_view_name": "HBoxView",
       "box_style": "",
       "children": [
        "IPY_MODEL_e02266358d4d4bc185439663e428100b",
        "IPY_MODEL_1c808092330f43ca9f1488de9e838dbb"
       ],
       "layout": "IPY_MODEL_7288e4fc30ab4d4ebb77a7da549ee191"
      }
     },
     "e02266358d4d4bc185439663e428100b": {
      "model_module": "@jupyter-widgets/controls",
      "model_module_version": "1.5.0",
      "model_name": "FloatProgressModel",
      "state": {
       "_dom_classes": [],
       "_model_module": "@jupyter-widgets/controls",
       "_model_module_version": "1.5.0",
       "_model_name": "FloatProgressModel",
       "_view_count": null,
       "_view_module": "@jupyter-widgets/controls",
       "_view_module_version": "1.5.0",
       "_view_name": "ProgressView",
       "bar_style": "success",
       "description": "",
       "description_tooltip": null,
       "layout": "IPY_MODEL_47cf20ea3b71446383dbe4c9792cd4ec",
       "max": 1,
       "min": 0,
       "orientation": "horizontal",
       "style": "IPY_MODEL_9ec89a3fc6be4ca497ed67769bac84bc",
       "value": 1
      }
     },
     "e1f09ecaebb444e787063c14df47b569": {
      "model_module": "@jupyter-widgets/controls",
      "model_module_version": "1.5.0",
      "model_name": "DescriptionStyleModel",
      "state": {
       "_model_module": "@jupyter-widgets/controls",
       "_model_module_version": "1.5.0",
       "_model_name": "DescriptionStyleModel",
       "_view_count": null,
       "_view_module": "@jupyter-widgets/base",
       "_view_module_version": "1.2.0",
       "_view_name": "StyleView",
       "description_width": ""
      }
     },
     "e95f4a6904e74a46bd0bcda9e235baaf": {
      "model_module": "@jupyter-widgets/base",
      "model_module_version": "1.2.0",
      "model_name": "LayoutModel",
      "state": {
       "_model_module": "@jupyter-widgets/base",
       "_model_module_version": "1.2.0",
       "_model_name": "LayoutModel",
       "_view_count": null,
       "_view_module": "@jupyter-widgets/base",
       "_view_module_version": "1.2.0",
       "_view_name": "LayoutView",
       "align_content": null,
       "align_items": null,
       "align_self": null,
       "border": null,
       "bottom": null,
       "display": null,
       "flex": null,
       "flex_flow": null,
       "grid_area": null,
       "grid_auto_columns": null,
       "grid_auto_flow": null,
       "grid_auto_rows": null,
       "grid_column": null,
       "grid_gap": null,
       "grid_row": null,
       "grid_template_areas": null,
       "grid_template_columns": null,
       "grid_template_rows": null,
       "height": null,
       "justify_content": null,
       "justify_items": null,
       "left": null,
       "margin": null,
       "max_height": null,
       "max_width": null,
       "min_height": null,
       "min_width": null,
       "object_fit": null,
       "object_position": null,
       "order": null,
       "overflow": null,
       "overflow_x": null,
       "overflow_y": null,
       "padding": null,
       "right": null,
       "top": null,
       "visibility": null,
       "width": null
      }
     },
     "f18bcd3d7dc34a04947a3fca723f78f8": {
      "model_module": "@jupyter-widgets/controls",
      "model_module_version": "1.5.0",
      "model_name": "FloatProgressModel",
      "state": {
       "_dom_classes": [],
       "_model_module": "@jupyter-widgets/controls",
       "_model_module_version": "1.5.0",
       "_model_name": "FloatProgressModel",
       "_view_count": null,
       "_view_module": "@jupyter-widgets/controls",
       "_view_module_version": "1.5.0",
       "_view_name": "ProgressView",
       "bar_style": "success",
       "description": "100%",
       "description_tooltip": null,
       "layout": "IPY_MODEL_5f3edb1cd3f24941a3436fdd04dffce9",
       "max": 9,
       "min": 0,
       "orientation": "horizontal",
       "style": "IPY_MODEL_1638748f982b4cdbac1a612f768b9768",
       "value": 9
      }
     }
    },
    "version_major": 2,
    "version_minor": 0
   }
  }
 },
 "nbformat": 4,
 "nbformat_minor": 4
}
