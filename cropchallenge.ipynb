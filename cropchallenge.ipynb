{
 "cells": [
  {
   "cell_type": "code",
   "execution_count": 4,
   "metadata": {},
   "outputs": [],
   "source": [
    "dp = \"/media/jacoblamkey/Storage/cropchallenge/Dataset_Competition_Zip_File/Dataset_Competition/Training/\"\n",
    "tdp = \"/media/jacoblamkey/Storage/cropchallenge/Dataset_Competition_Zip_File/Dataset_Competition/Test Inputs/\"\n",
    "gdp = \"/media/jacoblamkey/Storage/cropchallenge/Dataset_Competition_Zip_File/Dataset_Competition/\"\n"
   ]
  },
  {
   "cell_type": "code",
   "execution_count": 2,
   "metadata": {},
   "outputs": [],
   "source": [
    "import numpy as np\n",
    "import pandas as pd\n",
    "import pydicom\n",
    "import os\n",
    "import random\n",
    "from pandas import DataFrame\n",
    "\n",
    "import matplotlib.pyplot as plt\n",
    "from matplotlib import pyplot\n",
    "from tqdm import tqdm\n",
    "from PIL import Image\n",
    "from sklearn.metrics import mean_absolute_error\n",
    "from sklearn.model_selection import KFold"
   ]
  },
  {
   "cell_type": "code",
   "execution_count": 13,
   "metadata": {},
   "outputs": [],
   "source": [
    "otrain = pd.DataFrame(np.load(dp+\"inputs_others_train.npy\"),columns=['MG','ID','State','Year','Loc'])\n",
    "ytrain = pd.DataFrame(np.load(dp+\"yield_train.npy\"),columns=['Yield'])\n",
    "\n",
    "otest = pd.DataFrame(np.load(tdp+\"inputs_others_test.npy\"),columns=['MG','ID','State','Year','Loc'])\n",
    "\n",
    "geno = pd.DataFrame(np.load(gdp+\"clusterID_genotype.npy\"),columns=['Cluster'])\n",
    "\n",
    "wtrain = pd.DataFrame(np.concatenate( np.load(dp+\"inputs_weather_train.npy\")), columns=['ADNI','AP','ARH','MDNI','MaxSur','MinSur','AvgSur'])\n",
    "wtest = pd.DataFrame(np.concatenate(np.load(tdp+\"inputs_weather_test.npy\")), columns=['ADNI','AP','ARH','MDNI','MaxSur','MinSur','AvgSur'])\n",
    "\n"
   ]
  },
  {
   "cell_type": "code",
   "execution_count": 8,
   "metadata": {},
   "outputs": [
    {
     "ename": "FileNotFoundError",
     "evalue": "[Errno 2] No such file or directory: '/media/jacoblamkey/Storage/cropchallenge/Dataset_Competition_Zip_File/Dataset_Competition/Training/data_subsetinputs_weather_train30.npy'",
     "output_type": "error",
     "traceback": [
      "\u001b[0;31m---------------------------------------------------------------------------\u001b[0m",
      "\u001b[0;31mFileNotFoundError\u001b[0m                         Traceback (most recent call last)",
      "\u001b[0;32m<ipython-input-8-b5794a1092cb>\u001b[0m in \u001b[0;36m<module>\u001b[0;34m\u001b[0m\n\u001b[0;32m----> 1\u001b[0;31m \u001b[0mx_data\u001b[0m \u001b[0;34m=\u001b[0m \u001b[0mnp\u001b[0m\u001b[0;34m.\u001b[0m\u001b[0mload\u001b[0m\u001b[0;34m(\u001b[0m\u001b[0mdp\u001b[0m\u001b[0;34m+\u001b[0m\u001b[0;34m\"%sinputs_weather_train%s.npy\"\u001b[0m \u001b[0;34m%\u001b[0m\u001b[0;34m(\u001b[0m\u001b[0;34m\"data_subset\"\u001b[0m\u001b[0;34m,\u001b[0m \u001b[0;36m30\u001b[0m\u001b[0;34m)\u001b[0m\u001b[0;34m)\u001b[0m   \u001b[0;31m# (103365, 30, 8)\u001b[0m\u001b[0;34m\u001b[0m\u001b[0;34m\u001b[0m\u001b[0m\n\u001b[0m",
      "\u001b[0;32m~/.local/lib/python3.6/site-packages/numpy/lib/npyio.py\u001b[0m in \u001b[0;36mload\u001b[0;34m(file, mmap_mode, allow_pickle, fix_imports, encoding)\u001b[0m\n\u001b[1;32m    426\u001b[0m         \u001b[0mown_fid\u001b[0m \u001b[0;34m=\u001b[0m \u001b[0;32mFalse\u001b[0m\u001b[0;34m\u001b[0m\u001b[0;34m\u001b[0m\u001b[0m\n\u001b[1;32m    427\u001b[0m     \u001b[0;32melse\u001b[0m\u001b[0;34m:\u001b[0m\u001b[0;34m\u001b[0m\u001b[0;34m\u001b[0m\u001b[0m\n\u001b[0;32m--> 428\u001b[0;31m         \u001b[0mfid\u001b[0m \u001b[0;34m=\u001b[0m \u001b[0mopen\u001b[0m\u001b[0;34m(\u001b[0m\u001b[0mos_fspath\u001b[0m\u001b[0;34m(\u001b[0m\u001b[0mfile\u001b[0m\u001b[0;34m)\u001b[0m\u001b[0;34m,\u001b[0m \u001b[0;34m\"rb\"\u001b[0m\u001b[0;34m)\u001b[0m\u001b[0;34m\u001b[0m\u001b[0;34m\u001b[0m\u001b[0m\n\u001b[0m\u001b[1;32m    429\u001b[0m         \u001b[0mown_fid\u001b[0m \u001b[0;34m=\u001b[0m \u001b[0;32mTrue\u001b[0m\u001b[0;34m\u001b[0m\u001b[0;34m\u001b[0m\u001b[0m\n\u001b[1;32m    430\u001b[0m \u001b[0;34m\u001b[0m\u001b[0m\n",
      "\u001b[0;31mFileNotFoundError\u001b[0m: [Errno 2] No such file or directory: '/media/jacoblamkey/Storage/cropchallenge/Dataset_Competition_Zip_File/Dataset_Competition/Training/data_subsetinputs_weather_train30.npy'"
     ]
    }
   ],
   "source": [
    "x_data = np.load(dp+\"%sinputs_weather_train%s.npy\" % 30))   # (103365, 30, 8)\n"
   ]
  },
  {
   "cell_type": "code",
   "execution_count": 15,
   "metadata": {},
   "outputs": [],
   "source": [
    "otrain.to_csv(dp + \"inputs_others_train.csv\")\n",
    "wtrain.to_csv(dp + \"inputs_weather_train.csv\")\n",
    "ytrain.to_csv(dp+\"yield_train.csv\")\n",
    "\n",
    "wtest.to_csv(tdp+\"inputs_weather_test.csv\")\n",
    "otest.to_csv(tdp+\"inputs_others_test.csv\")\n",
    "\n",
    "geno.to_csv(gdp+\"clusterID_genotype.csv\")"
   ]
  },
  {
   "cell_type": "code",
   "execution_count": null,
   "metadata": {},
   "outputs": [],
   "source": []
  }
 ],
 "metadata": {
  "kernelspec": {
   "display_name": "tf",
   "language": "python",
   "name": "tf"
  },
  "language_info": {
   "codemirror_mode": {
    "name": "ipython",
    "version": 3
   },
   "file_extension": ".py",
   "mimetype": "text/x-python",
   "name": "python",
   "nbconvert_exporter": "python",
   "pygments_lexer": "ipython3",
   "version": "3.6.10"
  }
 },
 "nbformat": 4,
 "nbformat_minor": 2
}
